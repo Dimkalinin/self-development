{
 "cells": [
  {
   "cell_type": "code",
   "execution_count": null,
   "id": "323f96f9",
   "metadata": {},
   "outputs": [],
   "source": []
  },
  {
   "cell_type": "code",
   "execution_count": 34,
   "id": "e9a140d6",
   "metadata": {},
   "outputs": [
    {
     "name": "stdout",
     "output_type": "stream",
     "text": [
      "Объем выборки для сплита 50/50: 500\n",
      "CTR для контрольной группы: 0.6086956521739131\n",
      "CTR для тестовой группы: 0.6141078838174274\n",
      "t-статистика: nan\n",
      "p-значение: nan\n",
      "Различие в CTR не является статистически значимым\n"
     ]
    }
   ],
   "source": [
    "import pandas as pd\n",
    "import numpy as np\n",
    "from scipy import stats\n",
    "\n",
    "# Создаем датафрейм df с данными\n",
    "data = {\n",
    "    'userid': range(1, 1001),\n",
    "    'show': np.random.choice([0, 1], 1000, p=[0.5, 0.5]),\n",
    "    'click': np.random.choice([0, 1], 1000, p=[0.7, 0.3]),\n",
    "    'dt': ['2022-01-01']*1000\n",
    "}\n",
    "\n",
    "df = pd.DataFrame(data)\n",
    "\n",
    "# Рассчитываем объем выборки для сплита 50/50\n",
    "sample_size = len(df) // 2\n",
    "\n",
    "# Случайно выбираем данные для контрольной и тестовой групп\n",
    "control_group = df.sample(n=sample_size, replace=False)\n",
    "test_group = df.drop(control_group.index)\n",
    "\n",
    "# Рассчитываем CTR для контрольной и тестовой групп\n",
    "ctr_control = control_group['click'].mean() / control_group['show'].mean()\n",
    "ctr_test = test_group['click'].mean() / test_group['show'].mean()\n",
    "\n",
    "# Выполняем t-тест для сравнения CTR\n",
    "t_stat, p_value = stats.ttest_ind(control_group['click'] / control_group['show'], test_group['click'] / test_group['show'])\n",
    "\n",
    "# Выводим результаты теста\n",
    "print(f\"Объем выборки для сплита 50/50: {sample_size}\")\n",
    "print(f\"CTR для контрольной группы: {ctr_control}\")\n",
    "print(f\"CTR для тестовой группы: {ctr_test}\")\n",
    "print(f\"t-статистика: {t_stat}\")\n",
    "print(f\"p-значение: {p_value}\")\n",
    "\n",
    "# Интерпретируем результаты теста\n",
    "if p_value < 0.05:\n",
    "    print(\"Различие в CTR статистически значимо\")\n",
    "else:\n",
    "    print(\"Различие в CTR не является статистически значимым\")\n"
   ]
  },
  {
   "cell_type": "code",
   "execution_count": null,
   "id": "de2dacf1",
   "metadata": {},
   "outputs": [],
   "source": []
  },
  {
   "cell_type": "code",
   "execution_count": 36,
   "id": "01c1859c",
   "metadata": {},
   "outputs": [],
   "source": [
    "import pandas as pd\n",
    "import numpy as np\n",
    "from scipy import stats\n",
    "\n",
    "# Создаем датафрейм df с данными\n",
    "data = {\n",
    "    'userid': range(1, 1001),\n",
    "    'show': np.random.choice([0, 1], 1000, p=[0.5, 0.5]),\n",
    "    'click': np.random.choice([0, 1], 1000, p=[0.7, 0.3]),\n",
    "    'dt': ['2022-01-01']*1000\n",
    "}\n",
    "df = pd.DataFrame(data)"
   ]
  },
  {
   "cell_type": "code",
   "execution_count": null,
   "id": "bf37ba2c",
   "metadata": {},
   "outputs": [],
   "source": []
  },
  {
   "cell_type": "code",
   "execution_count": 42,
   "id": "6e380519",
   "metadata": {},
   "outputs": [
    {
     "name": "stdout",
     "output_type": "stream",
     "text": [
      "Объем выборки для сплита 50/50: 500\n",
      "CTR для контрольной группы: 0.29694323144104806\n",
      "CTR для тестовой группы: 0.3359683794466403\n",
      "t-статистика: nan\n",
      "p-значение: nan\n",
      "Различие в CTR не является статистически значимым\n"
     ]
    }
   ],
   "source": [
    "import pandas as pd\n",
    "import numpy as np\n",
    "from scipy import stats\n",
    "import random\n",
    "import datetime\n",
    "\n",
    "# Устанавливаем количество данных\n",
    "n_users = 1000\n",
    "\n",
    "# Создаем случайные данные для датафрейма\n",
    "data = {\n",
    "    'userid': range(1, n_users + 1),\n",
    "    'show': np.random.choice([0, 1], n_users, p=[0.5, 0.5]),\n",
    "    'click': np.zeros(n_users),  # устанавливаем клики по умолчанию как 0\n",
    "    'dt': [datetime.datetime(2022, random.randint(1, 12), random.randint(1, 28)) for _ in range(n_users)]\n",
    "}\n",
    "\n",
    "# Устанавливаем клики только там, где были показы\n",
    "data['click'] = np.where(data['show'] == 1, np.random.choice([0, 1], n_users, p=[0.7, 0.3]), 0)\n",
    "\n",
    "df = pd.DataFrame(data)\n",
    "\n",
    "# Рассчитываем объем выборки для сплита 50/50\n",
    "sample_size = len(df) // 2\n",
    "\n",
    "# Случайно выбираем данные для контрольной и тестовой групп\n",
    "control_group = df.sample(n=sample_size, replace=False)\n",
    "test_group = df.drop(control_group.index)\n",
    "\n",
    "# Рассчитываем CTR для контрольной и тестовой групп\n",
    "ctr_control = control_group['click'].mean() / control_group['show'].mean()\n",
    "ctr_test = test_group['click'].mean() / test_group['show'].mean()\n",
    "\n",
    "# Выполняем t-тест для сравнения CTR\n",
    "t_stat, p_value = stats.ttest_ind(control_group['click'] / control_group['show'], test_group['click'] / test_group['show'])\n",
    "\n",
    "# Выводим результаты теста\n",
    "print(f\"Объем выборки для сплита 50/50: {sample_size}\")\n",
    "print(f\"CTR для контрольной группы: {ctr_control}\")\n",
    "print(f\"CTR для тестовой группы: {ctr_test}\")\n",
    "print(f\"t-статистика: {t_stat}\")\n",
    "print(f\"p-значение: {p_value}\")\n",
    "\n",
    "# Интерпретируем результаты теста\n",
    "if p_value < 0.05:\n",
    "    print(\"Различие в CTR статистически значимо\")\n",
    "else:\n",
    "    print(\"Различие в CTR не является статистически значимым\")\n"
   ]
  },
  {
   "cell_type": "code",
   "execution_count": null,
   "id": "dbea8d41",
   "metadata": {},
   "outputs": [],
   "source": []
  },
  {
   "cell_type": "code",
   "execution_count": 74,
   "id": "1c35b9b9",
   "metadata": {},
   "outputs": [
    {
     "name": "stdout",
     "output_type": "stream",
     "text": [
      "Объем выборки для сплита 50/50: 500\n",
      "CTR для контрольной группы: 0.3319672131147541\n",
      "CTR для тестовой группы: 0.29583333333333334\n",
      "t-статистика: 0.8802663146712302\n",
      "p-значение: 0.37892697555695587\n",
      "Различие в CTR не является статистически значимым\n"
     ]
    }
   ],
   "source": [
    "#Загружаем необходимые библиотеки\n",
    "import pandas as pd\n",
    "import numpy as np\n",
    "from scipy import stats\n",
    "import random\n",
    "import datetime\n",
    "\n",
    "# Устанавливаем количество данных\n",
    "n_users = 1000\n",
    "\n",
    "# Создаем случайные данные для датафрейма\n",
    "data = {\n",
    "    'userid': range(1, n_users + 1),\n",
    "    'show': np.random.choice([0, 1], n_users, p=[0.5, 0.5]),\n",
    "    'click': np.zeros(n_users),  # устанавливаем клики по умолчанию как 0\n",
    "    'dt': [datetime.datetime(2022, random.randint(1, 12), random.randint(1, 28)) for _ in range(n_users)]\n",
    "}\n",
    "\n",
    "# Устанавливаем клики только там, где были показы\n",
    "data['click'] = np.where(data['show'] == 1, np.random.choice([0, 1], n_users, p=[0.7, 0.3]), 0)\n",
    "\n",
    "df = pd.DataFrame(data)\n",
    "\n",
    "# Рассчитываем объем выборки для сплита 50/50\n",
    "sample_size = len(df) // 2\n",
    "\n",
    "# Случайно выбираем данные для контрольной и тестовой групп\n",
    "control_group = df.sample(n=sample_size, replace=False)\n",
    "test_group = df.drop(control_group.index)\n",
    "\n",
    "# Рассчитываем CTR для контрольной и тестовой групп\n",
    "ctr_control = control_group['click'].sum() / control_group['show'].sum()\n",
    "ctr_test = test_group['click'].sum() / test_group['show'].sum()\n",
    "\n",
    "# Выполняем t-тест для сравнения CTR\n",
    "t_stat, p_value = stats.ttest_ind(control_group['click'] / np.maximum(control_group['show'], 1), test_group['click'] / np.maximum(test_group['show'], 1))\n",
    "\n",
    "# Выводим результаты теста\n",
    "print(f\"Объем выборки для сплита 50/50: {sample_size}\")\n",
    "print(f\"CTR для контрольной группы: {ctr_control}\")\n",
    "print(f\"CTR для тестовой группы: {ctr_test}\")\n",
    "print(f\"t-статистика: {t_stat}\")\n",
    "print(f\"p-значение: {p_value}\")\n",
    "\n",
    "# Интерпретируем результаты теста\n",
    "if p_value < 0.05:\n",
    "    print(\"Различие в CTR статистически значимо\")\n",
    "else:\n",
    "    print(\"Различие в CTR не является статистически значимым\")\n"
   ]
  },
  {
   "cell_type": "code",
   "execution_count": null,
   "id": "759186f7",
   "metadata": {},
   "outputs": [],
   "source": []
  },
  {
   "cell_type": "code",
   "execution_count": 75,
   "id": "7719ffcd",
   "metadata": {},
   "outputs": [],
   "source": [
    "import pandas as pd\n",
    "import numpy as np\n",
    "from scipy import stats\n",
    "import random\n",
    "import datetime\n",
    "\n",
    "n=1000\n",
    "p=0\n",
    "e=0\n",
    "for i in range (n):\n",
    "    # Устанавливаем количество данных\n",
    "    n_users = 1000\n",
    "\n",
    "    # Создаем случайные данные для датафрейма\n",
    "    data = {\n",
    "        'userid': range(1, n_users + 1),\n",
    "        'show': np.random.choice([0, 1], n_users, p=[0.5, 0.5]),\n",
    "        'click': np.zeros(n_users),  # устанавливаем клики по умолчанию как 0\n",
    "        'dt': [datetime.datetime(2022, random.randint(1, 12), random.randint(1, 28)) for _ in range(n_users)]\n",
    "    }\n",
    "\n",
    "    # Устанавливаем клики только там, где были показы\n",
    "    data['click'] = np.where(data['show'] == 1, np.random.choice([0, 1], n_users, p=[0.7, 0.3]), 0)\n",
    "\n",
    "    df = pd.DataFrame(data)\n",
    "\n",
    "    # Рассчитываем объем выборки для сплита 50/50\n",
    "    sample_size = len(df) // 2\n",
    "\n",
    "    # Случайно выбираем данные для контрольной и тестовой групп\n",
    "    control_group = df.sample(n=sample_size, replace=False)\n",
    "    test_group = df.drop(control_group.index)\n",
    "\n",
    "    # Рассчитываем CTR для контрольной и тестовой групп\n",
    "    ctr_control = control_group['click'].sum() / control_group['show'].sum()\n",
    "    ctr_test = test_group['click'].sum() / test_group['show'].sum()\n",
    "\n",
    "    # Выполняем t-тест для сравнения CTR\n",
    "    t_stat, p_value = stats.ttest_ind(control_group['click'] / np.maximum(control_group['show'], 1), test_group['click'] / np.maximum(test_group['show'], 1))\n",
    "\n",
    "    # Выводим результаты теста\n",
    "#     print(f\"Объем выборки для сплита 50/50: {sample_size}\")\n",
    "#     print(f\"CTR для контрольной группы: {ctr_control}\")\n",
    "#     print(f\"CTR для тестовой группы: {ctr_test}\")\n",
    "#     print(f\"t-статистика: {t_stat}\")\n",
    "#     print(f\"p-значение: {p_value}\")\n",
    "\n",
    "    # Интерпретируем результаты теста\n",
    "    if p_value < 0.05:\n",
    "        #print(\"Различие в CTR статистически значимо\")\n",
    "        p+=1\n",
    "    else:\n",
    "        #print(\"Различие в CTR не является статистически значимым\")\n",
    "        e+=1"
   ]
  },
  {
   "cell_type": "code",
   "execution_count": 76,
   "id": "608a9e64",
   "metadata": {},
   "outputs": [
    {
     "data": {
      "text/plain": [
       "0.049"
      ]
     },
     "execution_count": 76,
     "metadata": {},
     "output_type": "execute_result"
    }
   ],
   "source": [
    "p/n"
   ]
  },
  {
   "cell_type": "code",
   "execution_count": 77,
   "id": "3b1dc270",
   "metadata": {},
   "outputs": [
    {
     "data": {
      "text/plain": [
       "0.951"
      ]
     },
     "execution_count": 77,
     "metadata": {},
     "output_type": "execute_result"
    }
   ],
   "source": [
    "e/n"
   ]
  },
  {
   "cell_type": "code",
   "execution_count": null,
   "id": "ea5bf0f2",
   "metadata": {},
   "outputs": [],
   "source": [
    "\n"
   ]
  },
  {
   "cell_type": "code",
   "execution_count": null,
   "id": "ce3a006d",
   "metadata": {},
   "outputs": [],
   "source": []
  },
  {
   "cell_type": "code",
   "execution_count": 95,
   "id": "388fe526",
   "metadata": {},
   "outputs": [
    {
     "name": "stdout",
     "output_type": "stream",
     "text": [
      "Объем выборки для двусторонней выборки с учетом мощности: 193\n"
     ]
    }
   ],
   "source": [
    "import math\n",
    "from scipy.stats import norm\n",
    "\n",
    "# Уровень доверия (например, 95%)\n",
    "confidence_level = 0.95\n",
    "# Уровень значимости (alpha)\n",
    "alpha = 0.05\n",
    "# Мощность теста (например, 80%)\n",
    "power = 0.8\n",
    "\n",
    "# Расчет Z-статистики на основе уровня доверия и уровня значимости\n",
    "Z = norm.ppf(1 - alpha/2)\n",
    "\n",
    "# Ожидаемая доля (для сплита 50/50)\n",
    "p = 0.5\n",
    "# Погрешность (размер эффекта)\n",
    "effect_size = 2 * math.sqrt(p * (1 - p)) * alpha \n",
    "\n",
    "# Расчет объема выборки для двусторонней выборки с учетом мощности\n",
    "n = math.ceil((Z**2 * 2 * p * (1-p)) / effect_size**2)\n",
    "n_power = n * ((1 - power) / power)\n",
    "\n",
    "print(\"Объем выборки для двусторонней выборки с учетом мощности:\", math.ceil(n_power))\n",
    "\n"
   ]
  },
  {
   "cell_type": "code",
   "execution_count": null,
   "id": "0021e737",
   "metadata": {},
   "outputs": [],
   "source": []
  },
  {
   "cell_type": "code",
   "execution_count": null,
   "id": "28821d37",
   "metadata": {},
   "outputs": [],
   "source": []
  },
  {
   "cell_type": "code",
   "execution_count": null,
   "id": "ed1dd07e",
   "metadata": {},
   "outputs": [],
   "source": []
  },
  {
   "cell_type": "code",
   "execution_count": null,
   "id": "b8d13ee9",
   "metadata": {},
   "outputs": [],
   "source": [
    "\n"
   ]
  },
  {
   "cell_type": "code",
   "execution_count": null,
   "id": "c0b0c760",
   "metadata": {},
   "outputs": [],
   "source": []
  },
  {
   "cell_type": "code",
   "execution_count": 123,
   "id": "af68df24",
   "metadata": {},
   "outputs": [
    {
     "name": "stdout",
     "output_type": "stream",
     "text": [
      "1.959963984540054\n",
      "Объем выборки для достижения мощности 80% в одностороннем тесте: 400\n"
     ]
    }
   ],
   "source": [
    "import math\n",
    "from scipy.stats import norm\n",
    "\n",
    "# Стандартное отклонение\n",
    "sigma = 8\n",
    "# Среднее в нулевой гипотезе\n",
    "mu0 = 100\n",
    "# Среднее в альтернативной гипотезе\n",
    "mu1 = 101\n",
    "# Мощность теста\n",
    "power = 0.805\n",
    "# Уровень значимости (alpha) для одностороннего теста\n",
    "alpha = 0.05\n",
    "\n",
    "# Расчет Z-статистики для уровня значимости alpha\n",
    "Z = norm.ppf(1 - alpha/2)\n",
    "print(Z)\n",
    "\n",
    "# Расчет объема выборки для одностороннего теста\n",
    "n = math.ceil(((sigma * (Z_alpha + norm.ppf(power))) / (mu1 - mu0))**2)\n",
    "\n",
    "print(\"Объем выборки для достижения мощности 80% в одностороннем тесте:\", n)\n"
   ]
  },
  {
   "cell_type": "code",
   "execution_count": null,
   "id": "47f5938c",
   "metadata": {},
   "outputs": [],
   "source": []
  },
  {
   "cell_type": "code",
   "execution_count": 124,
   "id": "2ed5ae5f",
   "metadata": {},
   "outputs": [
    {
     "name": "stdout",
     "output_type": "stream",
     "text": [
      "1.959963984540054\n",
      "Объем выборки для достижения мощности 80% в двустороннем тесте: 509\n"
     ]
    }
   ],
   "source": [
    "import math\n",
    "from scipy.stats import norm\n",
    "\n",
    "# Стандартное отклонение\n",
    "sigma = 8\n",
    "# Среднее в нулевой гипотезе\n",
    "mu0 = 100\n",
    "# Среднее в альтернативной гипотезе\n",
    "mu1 = 101\n",
    "# Мощность теста\n",
    "power = 0.805\n",
    "# Уровень значимости (alpha) для двустороннего теста\n",
    "alpha = 0.05\n",
    "\n",
    "# Расчет Z-статистики для уровня значимости alpha/2 (для двустороннего теста)\n",
    "Z_alpha_2 = norm.ppf(1 - alpha/2)\n",
    "\n",
    "# Расчет объема выборки для двустороннего теста\n",
    "n = math.ceil(((sigma * (Z_alpha_2 + norm.ppf(power))) / (mu1 - mu0))**2)\n",
    "\n",
    "print(\"Объем выборки для достижения мощности 80% в двустороннем тесте:\", n)\n"
   ]
  },
  {
   "cell_type": "code",
   "execution_count": null,
   "id": "2cdd59d6",
   "metadata": {},
   "outputs": [],
   "source": []
  },
  {
   "cell_type": "code",
   "execution_count": null,
   "id": "c4ae5d9f",
   "metadata": {},
   "outputs": [],
   "source": [
    "###################################################"
   ]
  },
  {
   "cell_type": "code",
   "execution_count": 126,
   "id": "b0ad5037",
   "metadata": {},
   "outputs": [
    {
     "name": "stdout",
     "output_type": "stream",
     "text": [
      "Объем выборки для каждой группы в сплит-тесте: 4427\n"
     ]
    }
   ],
   "source": [
    "# Данный расчет \n",
    "import math\n",
    "\n",
    "# Заданные параметры\n",
    "baseline_ctr = 0.05  # базовый CTR\n",
    "minimum_detectable_effect = 0.02  # минимально обнаружимый эффект\n",
    "alpha = 0.05  # уровень значимости\n",
    "power = 0.8  # мощность теста\n",
    "\n",
    "# Расчет стандартного отклонения для Z-теста на равенство долей\n",
    "pooled_prob = (baseline_ctr + baseline_ctr + minimum_detectable_effect) / 2\n",
    "std_dev = math.sqrt(2 * pooled_prob * (1 - pooled_prob))\n",
    "\n",
    "# Расчет Z-значения для уровня значимости alpha\n",
    "from scipy.stats import norm\n",
    "Z_alpha = norm.ppf(1 - alpha/2)\n",
    "\n",
    "# Расчет объема выборки для каждой группы\n",
    "n = (2 * (std_dev * Z_alpha + std_dev * norm.ppf(power))**2) / minimum_detectable_effect**2\n",
    "\n",
    "print(\"Объем выборки для каждой группы в сплит-тесте:\", math.ceil(n))\n"
   ]
  },
  {
   "cell_type": "code",
   "execution_count": null,
   "id": "c5fbbd67",
   "metadata": {},
   "outputs": [],
   "source": []
  },
  {
   "cell_type": "code",
   "execution_count": null,
   "id": "2ed96446",
   "metadata": {},
   "outputs": [],
   "source": []
  },
  {
   "cell_type": "code",
   "execution_count": null,
   "id": "895ca7f6",
   "metadata": {},
   "outputs": [],
   "source": []
  },
  {
   "cell_type": "code",
   "execution_count": null,
   "id": "1b1d6d80",
   "metadata": {},
   "outputs": [],
   "source": []
  }
 ],
 "metadata": {
  "kernelspec": {
   "display_name": "Python 3 (ipykernel)",
   "language": "python",
   "name": "python3"
  },
  "language_info": {
   "codemirror_mode": {
    "name": "ipython",
    "version": 3
   },
   "file_extension": ".py",
   "mimetype": "text/x-python",
   "name": "python",
   "nbconvert_exporter": "python",
   "pygments_lexer": "ipython3",
   "version": "3.10.7"
  }
 },
 "nbformat": 4,
 "nbformat_minor": 5
}
