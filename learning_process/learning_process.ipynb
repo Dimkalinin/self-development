{
 "cells": [
  {
   "cell_type": "code",
   "execution_count": 1,
   "id": "6c4c441c",
   "metadata": {},
   "outputs": [],
   "source": [
    "#  абстракция: идеальная модель нашей генеральной совокупности "
   ]
  },
  {
   "cell_type": "code",
   "execution_count": 2,
   "id": "887e7c32",
   "metadata": {},
   "outputs": [],
   "source": [
    "import pandas as pd\n",
    "import numpy as np\n",
    "\n",
    "import seaborn as sns\n",
    "%matplotlib inline"
   ]
  },
  {
   "cell_type": "code",
   "execution_count": 3,
   "id": "c5ee0b35",
   "metadata": {},
   "outputs": [],
   "source": [
    "mu = 100\n",
    "sigma = 10"
   ]
  },
  {
   "cell_type": "code",
   "execution_count": 4,
   "id": "2eff9638",
   "metadata": {},
   "outputs": [],
   "source": [
    "population = np.round(np.random.normal(mu, sigma, 10000), 2) #нормальное распределение из параметров"
   ]
  },
  {
   "cell_type": "code",
   "execution_count": 5,
   "id": "ecb482e8",
   "metadata": {},
   "outputs": [
    {
     "data": {
      "text/plain": [
       "array([ 88.37,  96.86, 102.26, ...,  93.44, 100.53, 100.4 ])"
      ]
     },
     "execution_count": 5,
     "metadata": {},
     "output_type": "execute_result"
    }
   ],
   "source": [
    "population #пусть это будет нашей генеральной совокупностью"
   ]
  },
  {
   "cell_type": "code",
   "execution_count": 6,
   "id": "e6931a11",
   "metadata": {},
   "outputs": [
    {
     "data": {
      "text/plain": [
       "<seaborn.axisgrid.FacetGrid at 0x26db9ff6f80>"
      ]
     },
     "execution_count": 6,
     "metadata": {},
     "output_type": "execute_result"
    },
    {
     "data": {
      "image/png": "[encoded data removed]",
      "text/plain": [
       "<Figure size 500x500 with 1 Axes>"
      ]
     },
     "metadata": {},
     "output_type": "display_data"
    }
   ],
   "source": [
    "sns.displot (population, kde=False)"
   ]
  },
  {
   "cell_type": "code",
   "execution_count": 7,
   "id": "2972da21",
   "metadata": {},
   "outputs": [
    {
     "data": {
      "text/plain": [
       "99.98991300000002"
      ]
     },
     "execution_count": 7,
     "metadata": {},
     "output_type": "execute_result"
    }
   ],
   "source": [
    "mu = population.mean() #среднее в генеральной совокупности\n",
    "mu"
   ]
  },
  {
   "cell_type": "code",
   "execution_count": 8,
   "id": "a58de3fb",
   "metadata": {},
   "outputs": [
    {
     "data": {
      "text/plain": [
       "9.956890833108044"
      ]
     },
     "execution_count": 8,
     "metadata": {},
     "output_type": "execute_result"
    }
   ],
   "source": [
    "sigma = population.std() #стандартное отклонение в генеральной совокупности\n",
    "sigma"
   ]
  },
  {
   "cell_type": "code",
   "execution_count": 9,
   "id": "0eb60720",
   "metadata": {},
   "outputs": [],
   "source": [
    "# пример того что ЦПТ действительно работает"
   ]
  },
  {
   "cell_type": "code",
   "execution_count": 10,
   "id": "5dc3d960",
   "metadata": {},
   "outputs": [],
   "source": [
    "sample_size = 30 # размер нашей выборки"
   ]
  },
  {
   "cell_type": "code",
   "execution_count": 11,
   "id": "22852bbc",
   "metadata": {},
   "outputs": [],
   "source": [
    "sample = np.random.choice(population, sample_size, False) #наша выборки"
   ]
  },
  {
   "cell_type": "code",
   "execution_count": 12,
   "id": "4d125fdf",
   "metadata": {},
   "outputs": [
    {
     "data": {
      "text/plain": [
       "101.72566666666668"
      ]
     },
     "execution_count": 12,
     "metadata": {},
     "output_type": "execute_result"
    }
   ],
   "source": [
    "sample.mean() #среднее в выборке"
   ]
  },
  {
   "cell_type": "code",
   "execution_count": null,
   "id": "53ad5082",
   "metadata": {},
   "outputs": [],
   "source": []
  },
  {
   "cell_type": "code",
   "execution_count": 13,
   "id": "ee60ecb4",
   "metadata": {},
   "outputs": [],
   "source": [
    "sample_means =[] #набор средних в выборках"
   ]
  },
  {
   "cell_type": "code",
   "execution_count": 14,
   "id": "dceadf18",
   "metadata": {},
   "outputs": [],
   "source": [
    "n = 10000 #колличесвто выборок"
   ]
  },
  {
   "cell_type": "code",
   "execution_count": 15,
   "id": "379488b2",
   "metadata": {},
   "outputs": [],
   "source": [
    "for i in range(n):\n",
    "    sample = np.random.choice(population, sample_size, False) #наша выборки\n",
    "    sample_means.append(sample.mean())"
   ]
  },
  {
   "cell_type": "code",
   "execution_count": 136,
   "id": "bfeceb9a",
   "metadata": {},
   "outputs": [
    {
     "data": {
      "text/plain": [
       "<seaborn.axisgrid.FacetGrid at 0x26dd94238e0>"
      ]
     },
     "execution_count": 136,
     "metadata": {},
     "output_type": "execute_result"
    },
    {
     "data": {
      "image/png": "[encoded data removed]",
      "text/plain": [
       "<Figure size 500x500 with 1 Axes>"
      ]
     },
     "metadata": {},
     "output_type": "display_data"
    }
   ],
   "source": [
    "sns.displot(sample_means, kde=False) #график средних в выборках"
   ]
  },
  {
   "cell_type": "code",
   "execution_count": 17,
   "id": "e110da66",
   "metadata": {},
   "outputs": [
    {
     "data": {
      "text/plain": [
       "99.99342036666667"
      ]
     },
     "execution_count": 17,
     "metadata": {},
     "output_type": "execute_result"
    }
   ],
   "source": [
    "np.mean(sample_means) # центропредельная теорема,среднее средних"
   ]
  },
  {
   "cell_type": "code",
   "execution_count": 18,
   "id": "8fb8c361",
   "metadata": {},
   "outputs": [],
   "source": [
    "# Правило 3х сигм: 100% наших наблюдений лежит +- 3 сигмы"
   ]
  },
  {
   "cell_type": "code",
   "execution_count": 19,
   "id": "68731ed1",
   "metadata": {},
   "outputs": [],
   "source": [
    "# Правило 1.96 сигм - 95% всех наблюдений лежит в этом диапазоне"
   ]
  },
  {
   "cell_type": "code",
   "execution_count": 20,
   "id": "6954b6e5",
   "metadata": {},
   "outputs": [],
   "source": [
    "# se = sigma / корень(n)"
   ]
  },
  {
   "cell_type": "code",
   "execution_count": 21,
   "id": "7d59e0c7",
   "metadata": {},
   "outputs": [],
   "source": [
    "se = population.std() / sample_size**0.5"
   ]
  },
  {
   "cell_type": "code",
   "execution_count": 22,
   "id": "2a412d3f",
   "metadata": {},
   "outputs": [
    {
     "data": {
      "text/plain": [
       "1.8178712373032273"
      ]
     },
     "execution_count": 22,
     "metadata": {},
     "output_type": "execute_result"
    }
   ],
   "source": [
    "se # стандартная ошибка"
   ]
  },
  {
   "cell_type": "code",
   "execution_count": 23,
   "id": "3793c38d",
   "metadata": {},
   "outputs": [
    {
     "data": {
      "text/plain": [
       "1.8189287295403915"
      ]
     },
     "execution_count": 23,
     "metadata": {},
     "output_type": "execute_result"
    }
   ],
   "source": [
    "np.std(sample_means) #стандартная ошибка непосредственно в центропреельной теореме"
   ]
  },
  {
   "cell_type": "code",
   "execution_count": null,
   "id": "7c1fb558",
   "metadata": {},
   "outputs": [],
   "source": []
  },
  {
   "cell_type": "code",
   "execution_count": 24,
   "id": "8f3e0b9b",
   "metadata": {},
   "outputs": [
    {
     "data": {
      "text/plain": [
       "103.55294062511435"
      ]
     },
     "execution_count": 24,
     "metadata": {},
     "output_type": "execute_result"
    }
   ],
   "source": [
    "population.mean() + 1.96* se"
   ]
  },
  {
   "cell_type": "code",
   "execution_count": 25,
   "id": "0efbbaec",
   "metadata": {},
   "outputs": [
    {
     "data": {
      "text/plain": [
       "96.42688537488569"
      ]
     },
     "execution_count": 25,
     "metadata": {},
     "output_type": "execute_result"
    }
   ],
   "source": [
    "population.mean() - 1.96* se"
   ]
  },
  {
   "cell_type": "code",
   "execution_count": 26,
   "id": "fc30dc36",
   "metadata": {},
   "outputs": [
    {
     "data": {
      "text/plain": [
       "[96.27, 103.38]"
      ]
     },
     "execution_count": 26,
     "metadata": {},
     "output_type": "execute_result"
    }
   ],
   "source": [
    "[96.27, 103.38] # 95% интервал"
   ]
  },
  {
   "cell_type": "code",
   "execution_count": null,
   "id": "8e6a5c62",
   "metadata": {},
   "outputs": [],
   "source": []
  },
  {
   "cell_type": "code",
   "execution_count": null,
   "id": "496468d3",
   "metadata": {},
   "outputs": [],
   "source": []
  },
  {
   "cell_type": "code",
   "execution_count": 27,
   "id": "bf21fbf3",
   "metadata": {},
   "outputs": [],
   "source": [
    "#========================================"
   ]
  },
  {
   "cell_type": "code",
   "execution_count": 28,
   "id": "4d0d844d",
   "metadata": {},
   "outputs": [],
   "source": [
    "# переходим в реальность"
   ]
  },
  {
   "cell_type": "code",
   "execution_count": 29,
   "id": "b6baabf0",
   "metadata": {},
   "outputs": [],
   "source": [
    "sample_real = np.random.choice(population, sample_size, False) #наша выборки"
   ]
  },
  {
   "cell_type": "code",
   "execution_count": 30,
   "id": "9f126773",
   "metadata": {},
   "outputs": [
    {
     "data": {
      "text/plain": [
       "array([ 79.67,  90.  , 115.5 , 117.5 ,  99.52,  99.69, 106.38, 120.04,\n",
       "       100.41,  91.06, 104.7 , 106.03, 119.49, 108.56,  86.32,  89.93,\n",
       "        96.8 ,  84.94, 102.51, 100.1 ,  85.22,  95.3 , 103.11,  90.28,\n",
       "        95.5 ,  94.16, 100.2 , 118.03, 109.9 ,  81.82])"
      ]
     },
     "execution_count": 30,
     "metadata": {},
     "output_type": "execute_result"
    }
   ],
   "source": [
    "sample_real # в реальность у нас 1 выборка"
   ]
  },
  {
   "cell_type": "code",
   "execution_count": 31,
   "id": "646749d1",
   "metadata": {},
   "outputs": [
    {
     "data": {
      "text/plain": [
       "99.75566666666666"
      ]
     },
     "execution_count": 31,
     "metadata": {},
     "output_type": "execute_result"
    }
   ],
   "source": [
    "sample_real.mean() #находим среднее"
   ]
  },
  {
   "cell_type": "code",
   "execution_count": 32,
   "id": "bff71f39",
   "metadata": {},
   "outputs": [
    {
     "data": {
      "text/plain": [
       "11.220391461778664"
      ]
     },
     "execution_count": 32,
     "metadata": {},
     "output_type": "execute_result"
    }
   ],
   "source": [
    "sample_real.std() #находим стандартное отклонение, ее можно использовать в фомуле,\n",
    "# но там уже будет не нормальное распределение,\n",
    "# а Т распределение"
   ]
  },
  {
   "cell_type": "code",
   "execution_count": 33,
   "id": "21850c95",
   "metadata": {},
   "outputs": [],
   "source": [
    "# se = sigma / корень(n) "
   ]
  },
  {
   "cell_type": "code",
   "execution_count": 34,
   "id": "7643acdd",
   "metadata": {},
   "outputs": [],
   "source": [
    "se = sample_real.std() / sample_size ** 0.5 #находим стандартную ошибку"
   ]
  },
  {
   "cell_type": "code",
   "execution_count": 35,
   "id": "027a683e",
   "metadata": {},
   "outputs": [
    {
     "data": {
      "text/plain": [
       "2.0485538358848463"
      ]
     },
     "execution_count": 35,
     "metadata": {},
     "output_type": "execute_result"
    }
   ],
   "source": [
    "se"
   ]
  },
  {
   "cell_type": "code",
   "execution_count": 36,
   "id": "1ad8a5ae",
   "metadata": {},
   "outputs": [],
   "source": [
    "#находим оценненый 95% доверительный интервал"
   ]
  },
  {
   "cell_type": "code",
   "execution_count": 37,
   "id": "02ffd09c",
   "metadata": {},
   "outputs": [
    {
     "data": {
      "text/plain": [
       "103.77083218500096"
      ]
     },
     "execution_count": 37,
     "metadata": {},
     "output_type": "execute_result"
    }
   ],
   "source": [
    "sample_real.mean() + 1.96*se"
   ]
  },
  {
   "cell_type": "code",
   "execution_count": 38,
   "id": "22757fcd",
   "metadata": {},
   "outputs": [
    {
     "data": {
      "text/plain": [
       "95.74050114833236"
      ]
     },
     "execution_count": 38,
     "metadata": {},
     "output_type": "execute_result"
    }
   ],
   "source": [
    "sample_real.mean() - 1.96*se"
   ]
  },
  {
   "cell_type": "code",
   "execution_count": 39,
   "id": "4788e647",
   "metadata": {},
   "outputs": [],
   "source": [
    "# при многократном повторении, в 95% случаях из полученных интервалов  наше среднее лежит в генеральной \n",
    "# совокупности в интервале от 96 до 103.\n",
    "# Если бы кто нибудь утверждал, что среднее в ГС \n",
    "# выходит за эти рамки(H0), то математически можно было бы\n",
    "# отклонить его утверждение\n",
    "# и наоборот, если бы утверждали что она лежит в этом интервале(H0), \n",
    "# то это утрверждение можно было бы принять!\n",
    "# так формулируется две гипотезы: Н0 и Н1, при этом мы принимаем или отклоняем только Н0"
   ]
  },
  {
   "cell_type": "code",
   "execution_count": 40,
   "id": "bd2c95d8",
   "metadata": {},
   "outputs": [],
   "source": [
    "# Важно:\n",
    "\n",
    "# p-уровень значимости не говорит о силе эффекта \n",
    "# (напр., пользователи стали пользоваться приложением меньше в 3 или 1.1 раза)\n",
    "\n",
    "# Если получили уровень значимости выше порога – это не значит, что нулевая гипотеза верна. \n",
    "# Просто такой уровень значимости не позволяет нам её отклонить."
   ]
  },
  {
   "cell_type": "code",
   "execution_count": null,
   "id": "e06a89cf",
   "metadata": {},
   "outputs": [],
   "source": []
  },
  {
   "cell_type": "code",
   "execution_count": null,
   "id": "5c989f44",
   "metadata": {},
   "outputs": [],
   "source": []
  },
  {
   "cell_type": "code",
   "execution_count": 41,
   "id": "26cb2ca8",
   "metadata": {},
   "outputs": [],
   "source": [
    "# ==============================================="
   ]
  },
  {
   "cell_type": "code",
   "execution_count": null,
   "id": "2d9fb40e",
   "metadata": {},
   "outputs": [],
   "source": []
  },
  {
   "cell_type": "markdown",
   "id": "efc6c963",
   "metadata": {},
   "source": [
    "#### Z- распределение для средних в множетсвенной выборке \n",
    "Это идеальная математическая модель, к которому мы стремимся, потому что нам невозможно узнать среднее в генеральной совокупности и ее стандартное отклонение "
   ]
  },
  {
   "cell_type": "code",
   "execution_count": 42,
   "id": "39026283",
   "metadata": {},
   "outputs": [],
   "source": [
    "sample_size = 31 #объем нашей выборки"
   ]
  },
  {
   "cell_type": "code",
   "execution_count": 43,
   "id": "8123ed2d",
   "metadata": {},
   "outputs": [],
   "source": [
    "se = population.std() / sample_size**0.5  #стандартная ошибка среднего"
   ]
  },
  {
   "cell_type": "code",
   "execution_count": 44,
   "id": "dee97051",
   "metadata": {},
   "outputs": [],
   "source": [
    "z_scores = [] #накопитель значений среднего\n",
    "n = 10000 # колличество выборок"
   ]
  },
  {
   "cell_type": "code",
   "execution_count": 45,
   "id": "ec2d9d51",
   "metadata": {},
   "outputs": [],
   "source": [
    "for i in range(n):\n",
    "    sample = np.random.choice(population, sample_size, False) #наша выборки\n",
    "    sample_mean = sample.mean() #находим среднее в выборке\n",
    "    \n",
    "    z_score = (sample_mean - mu) / se  #распределение среднего в выборке (в этом случае нам известно среднее в ГС и ее СтО)\n",
    "    z_scores.append(z_score)"
   ]
  },
  {
   "cell_type": "code",
   "execution_count": 46,
   "id": "4cc0598c",
   "metadata": {},
   "outputs": [
    {
     "data": {
      "text/plain": [
       "<seaborn.axisgrid.FacetGrid at 0x26dccdceb90>"
      ]
     },
     "execution_count": 46,
     "metadata": {},
     "output_type": "execute_result"
    },
    {
     "data": {
      "image/png": "[encoded data removed]",
      "text/plain": [
       "<Figure size 500x500 with 1 Axes>"
      ]
     },
     "metadata": {},
     "output_type": "display_data"
    }
   ],
   "source": [
    "sns.displot(z_scores, kde=False)"
   ]
  },
  {
   "cell_type": "code",
   "execution_count": null,
   "id": "6f1421e1",
   "metadata": {},
   "outputs": [],
   "source": []
  },
  {
   "cell_type": "code",
   "execution_count": 47,
   "id": "8adc27a2",
   "metadata": {},
   "outputs": [],
   "source": [
    "# t - распределение"
   ]
  },
  {
   "cell_type": "code",
   "execution_count": 48,
   "id": "569009d7",
   "metadata": {},
   "outputs": [],
   "source": [
    "t_scores = []\n",
    "n = 10000"
   ]
  },
  {
   "cell_type": "code",
   "execution_count": 49,
   "id": "5f8aad41",
   "metadata": {},
   "outputs": [],
   "source": [
    "for i in range(n):\n",
    "    sample = np.random.choice(population, sample_size, False) #наша выборки\n",
    "    sample_mean = sample.mean()\n",
    "    sample_std = sample.std() #находим стандартное отклонение в выборке\n",
    "    \n",
    "    se_ = sample_std / sample_size ** 0.5 #считаем стандартную ошибку среднего \n",
    "    t_score = (sample_mean - mu) / se_  #находим новое значение в T распределении\n",
    "    \n",
    "    t_scores.append(t_score)"
   ]
  },
  {
   "cell_type": "code",
   "execution_count": 50,
   "id": "d9aeac87",
   "metadata": {},
   "outputs": [
    {
     "data": {
      "text/plain": [
       "<seaborn.axisgrid.FacetGrid at 0x26dcccfe470>"
      ]
     },
     "execution_count": 50,
     "metadata": {},
     "output_type": "execute_result"
    },
    {
     "data": {
      "image/png": "[encoded data removed]",
      "text/plain": [
       "<Figure size 500x500 with 1 Axes>"
      ]
     },
     "metadata": {},
     "output_type": "display_data"
    }
   ],
   "source": [
    "sns.displot(t_scores, kde=False)"
   ]
  },
  {
   "cell_type": "code",
   "execution_count": 51,
   "id": "088ad2ac",
   "metadata": {},
   "outputs": [
    {
     "data": {
      "text/plain": [
       "30"
      ]
     },
     "execution_count": 51,
     "metadata": {},
     "output_type": "execute_result"
    }
   ],
   "source": [
    "# число степеней свободы для Т распределения\n",
    "df = sample_size - 1\n",
    "df"
   ]
  },
  {
   "cell_type": "markdown",
   "id": "e460fa71",
   "metadata": {},
   "source": [
    "#### Распределение Стьюдента (Т-распределение)\n",
    "Чем больше степеней свободы и чем больше наблюдений, тем всё больше распределение становится похожим на нормальное"
   ]
  },
  {
   "cell_type": "code",
   "execution_count": null,
   "id": "f96c984e",
   "metadata": {},
   "outputs": [],
   "source": []
  },
  {
   "cell_type": "markdown",
   "id": "3a8a2cb0",
   "metadata": {},
   "source": [
    "### Дисперсионный анализ\n",
    "#### ANOVA на практике"
   ]
  },
  {
   "cell_type": "code",
   "execution_count": 52,
   "id": "42fc3e57",
   "metadata": {},
   "outputs": [],
   "source": [
    "import scipy.stats as ss\n",
    "import statsmodels.api as sm\n",
    "import statsmodels.formula.api as smf\n",
    "from statsmodels.stats.api import anova_lm\n",
    "from statsmodels.stats.multicomp import (pairwise_tukeyhsd, MultiComparison)\n",
    "\n",
    "import pingouin as pg\n",
    "\n",
    "import matplotlib.pyplot as plt\n",
    "import seaborn as sns"
   ]
  },
  {
   "cell_type": "code",
   "execution_count": 53,
   "id": "d86e2ba3",
   "metadata": {},
   "outputs": [],
   "source": [
    "post_likes = pd.read_csv('post_likes.csv')"
   ]
  },
  {
   "cell_type": "code",
   "execution_count": 54,
   "id": "b195540a",
   "metadata": {},
   "outputs": [
    {
     "data": {
      "text/html": [
       "<div>\n",
       "<style scoped>\n",
       "    .dataframe tbody tr th:only-of-type {\n",
       "        vertical-align: middle;\n",
       "    }\n",
       "\n",
       "    .dataframe tbody tr th {\n",
       "        vertical-align: top;\n",
       "    }\n",
       "\n",
       "    .dataframe thead th {\n",
       "        text-align: right;\n",
       "    }\n",
       "</style>\n",
       "<table border=\"1\" class=\"dataframe\">\n",
       "  <thead>\n",
       "    <tr style=\"text-align: right;\">\n",
       "      <th></th>\n",
       "      <th>id</th>\n",
       "      <th>button</th>\n",
       "      <th>likes</th>\n",
       "    </tr>\n",
       "  </thead>\n",
       "  <tbody>\n",
       "    <tr>\n",
       "      <th>0</th>\n",
       "      <td>S001</td>\n",
       "      <td>red</td>\n",
       "      <td>160</td>\n",
       "    </tr>\n",
       "    <tr>\n",
       "      <th>1</th>\n",
       "      <td>S002</td>\n",
       "      <td>red</td>\n",
       "      <td>150</td>\n",
       "    </tr>\n",
       "    <tr>\n",
       "      <th>2</th>\n",
       "      <td>S003</td>\n",
       "      <td>red</td>\n",
       "      <td>150</td>\n",
       "    </tr>\n",
       "    <tr>\n",
       "      <th>3</th>\n",
       "      <td>S004</td>\n",
       "      <td>red</td>\n",
       "      <td>150</td>\n",
       "    </tr>\n",
       "    <tr>\n",
       "      <th>4</th>\n",
       "      <td>S005</td>\n",
       "      <td>red</td>\n",
       "      <td>187</td>\n",
       "    </tr>\n",
       "  </tbody>\n",
       "</table>\n",
       "</div>"
      ],
      "text/plain": [
       "     id button  likes\n",
       "0  S001    red    160\n",
       "1  S002    red    150\n",
       "2  S003    red    150\n",
       "3  S004    red    150\n",
       "4  S005    red    187"
      ]
     },
     "execution_count": 54,
     "metadata": {},
     "output_type": "execute_result"
    }
   ],
   "source": [
    "post_likes.head()"
   ]
  },
  {
   "cell_type": "markdown",
   "id": "f7996905",
   "metadata": {},
   "source": [
    "#### Этап 1, описателная статистика\n",
    "Рисуем графики"
   ]
  },
  {
   "cell_type": "code",
   "execution_count": 55,
   "id": "3a131f3d",
   "metadata": {},
   "outputs": [
    {
     "data": {
      "text/plain": [
       "<Axes: xlabel='button', ylabel='likes'>"
      ]
     },
     "execution_count": 55,
     "metadata": {},
     "output_type": "execute_result"
    },
    {
     "data": {
      "image/png": "[encoded data removed]",
      "text/plain": [
       "<Figure size 640x480 with 1 Axes>"
      ]
     },
     "metadata": {},
     "output_type": "display_data"
    }
   ],
   "source": [
    "#через боксплот\n",
    "sns.boxplot(x='button', y='likes', data=post_likes, hue='button', palette=['r','g','b'] ) "
   ]
  },
  {
   "cell_type": "code",
   "execution_count": 56,
   "id": "9b1c42d1",
   "metadata": {},
   "outputs": [
    {
     "data": {
      "text/plain": [
       "<Axes: xlabel='button', ylabel='likes'>"
      ]
     },
     "execution_count": 56,
     "metadata": {},
     "output_type": "execute_result"
    },
    {
     "data": {
      "image/png": "[encoded data removed]",
      "text/plain": [
       "<Figure size 640x480 with 1 Axes>"
      ]
     },
     "metadata": {},
     "output_type": "display_data"
    }
   ],
   "source": [
    "#скрипичный график - более наглядно, есть наглядное распределение\n",
    "sns.violinplot(x='button', y='likes', data=post_likes, hue='button', palette=['r','g','b'] )"
   ]
  },
  {
   "cell_type": "markdown",
   "id": "1b5a6dde",
   "metadata": {},
   "source": [
    "#### Три способа посчитать однофакторный ANOVA:"
   ]
  },
  {
   "cell_type": "code",
   "execution_count": 57,
   "id": "dab56ca4",
   "metadata": {},
   "outputs": [],
   "source": [
    "# через scipy\n",
    "red = post_likes.query('button==\"red\"').likes\n",
    "green = post_likes.query('button==\"green\"').likes\n",
    "blue = post_likes.query('button==\"blue\"').likes"
   ]
  },
  {
   "cell_type": "code",
   "execution_count": 58,
   "id": "877684cb",
   "metadata": {},
   "outputs": [
    {
     "data": {
      "text/plain": [
       "F_onewayResult(statistic=85.99631112614011, pvalue=3.437004581021769e-30)"
      ]
     },
     "execution_count": 58,
     "metadata": {},
     "output_type": "execute_result"
    }
   ],
   "source": [
    "ss.f_oneway(red,green,blue)"
   ]
  },
  {
   "cell_type": "markdown",
   "id": "2b2ec6f7",
   "metadata": {},
   "source": [
    "В дисперсионном анализе p-value < 0.05 -- между группами статистически есть различия, но если бы групп было намного больше в f_oneway:\n",
    "1. Не удобно выделять каждую группу;\n",
    "2. Не понятно между какими группами есть различия;"
   ]
  },
  {
   "cell_type": "code",
   "execution_count": 59,
   "id": "0f6da422",
   "metadata": {},
   "outputs": [
    {
     "data": {
      "text/html": [
       "<div>\n",
       "<style scoped>\n",
       "    .dataframe tbody tr th:only-of-type {\n",
       "        vertical-align: middle;\n",
       "    }\n",
       "\n",
       "    .dataframe tbody tr th {\n",
       "        vertical-align: top;\n",
       "    }\n",
       "\n",
       "    .dataframe thead th {\n",
       "        text-align: right;\n",
       "    }\n",
       "</style>\n",
       "<table border=\"1\" class=\"dataframe\">\n",
       "  <thead>\n",
       "    <tr style=\"text-align: right;\">\n",
       "      <th></th>\n",
       "      <th>df</th>\n",
       "      <th>sum_sq</th>\n",
       "      <th>mean_sq</th>\n",
       "      <th>F</th>\n",
       "      <th>PR(&gt;F)</th>\n",
       "    </tr>\n",
       "  </thead>\n",
       "  <tbody>\n",
       "    <tr>\n",
       "      <th>C(button)</th>\n",
       "      <td>2.0</td>\n",
       "      <td>201960.286667</td>\n",
       "      <td>100980.143333</td>\n",
       "      <td>85.996311</td>\n",
       "      <td>3.437005e-30</td>\n",
       "    </tr>\n",
       "    <tr>\n",
       "      <th>Residual</th>\n",
       "      <td>297.0</td>\n",
       "      <td>348748.710000</td>\n",
       "      <td>1174.238081</td>\n",
       "      <td>NaN</td>\n",
       "      <td>NaN</td>\n",
       "    </tr>\n",
       "  </tbody>\n",
       "</table>\n",
       "</div>"
      ],
      "text/plain": [
       "              df         sum_sq        mean_sq          F        PR(>F)\n",
       "C(button)    2.0  201960.286667  100980.143333  85.996311  3.437005e-30\n",
       "Residual   297.0  348748.710000    1174.238081        NaN           NaN"
      ]
     },
     "execution_count": 59,
     "metadata": {},
     "output_type": "execute_result"
    }
   ],
   "source": [
    "#через statsmodels\n",
    "model = smf.ols(formula = \"likes ~ C(button)\", data=post_likes).fit()\n",
    "anova_lm(model)"
   ]
  },
  {
   "cell_type": "markdown",
   "id": "fb22c0e6",
   "metadata": {},
   "source": [
    "Через statsmodels более удобный спрособ:\n",
    "1. likes ~ C(button) какие значения ~ группируем по button --нам не нужно явно выделять каждую группу;\n",
    "2. Есть больше данных которые используются в статистике;\n",
    "\n",
    "Но:\n",
    "- Слишком много промежуточных функций, чтобы получить конечный результат;"
   ]
  },
  {
   "cell_type": "code",
   "execution_count": 60,
   "id": "dc361f31",
   "metadata": {},
   "outputs": [
    {
     "data": {
      "text/html": [
       "<div>\n",
       "<style scoped>\n",
       "    .dataframe tbody tr th:only-of-type {\n",
       "        vertical-align: middle;\n",
       "    }\n",
       "\n",
       "    .dataframe tbody tr th {\n",
       "        vertical-align: top;\n",
       "    }\n",
       "\n",
       "    .dataframe thead th {\n",
       "        text-align: right;\n",
       "    }\n",
       "</style>\n",
       "<table border=\"1\" class=\"dataframe\">\n",
       "  <thead>\n",
       "    <tr style=\"text-align: right;\">\n",
       "      <th></th>\n",
       "      <th>Source</th>\n",
       "      <th>ddof1</th>\n",
       "      <th>ddof2</th>\n",
       "      <th>F</th>\n",
       "      <th>p-unc</th>\n",
       "      <th>np2</th>\n",
       "    </tr>\n",
       "  </thead>\n",
       "  <tbody>\n",
       "    <tr>\n",
       "      <th>0</th>\n",
       "      <td>button</td>\n",
       "      <td>2</td>\n",
       "      <td>297</td>\n",
       "      <td>85.996311</td>\n",
       "      <td>3.437005e-30</td>\n",
       "      <td>0.366728</td>\n",
       "    </tr>\n",
       "  </tbody>\n",
       "</table>\n",
       "</div>"
      ],
      "text/plain": [
       "   Source  ddof1  ddof2          F         p-unc       np2\n",
       "0  button      2    297  85.996311  3.437005e-30  0.366728"
      ]
     },
     "execution_count": 60,
     "metadata": {},
     "output_type": "execute_result"
    }
   ],
   "source": [
    "#через pingouin\n",
    "pg.anova(data=post_likes, dv='likes', between='button')"
   ]
  },
  {
   "cell_type": "markdown",
   "id": "02587b45",
   "metadata": {},
   "source": [
    "Через pingouin более удобный спрособ:\n",
    "1. Удобная формула в 1 строку;\n",
    "2. Наличие достаточной информации, которая используется в статистике;"
   ]
  },
  {
   "cell_type": "markdown",
   "id": "e76041e8",
   "metadata": {},
   "source": [
    "Построим график среднего с доверительными интервалами"
   ]
  },
  {
   "cell_type": "code",
   "execution_count": 61,
   "id": "0ef8654a",
   "metadata": {},
   "outputs": [
    {
     "data": {
      "text/plain": [
       "<Axes: xlabel='button', ylabel='likes'>"
      ]
     },
     "execution_count": 61,
     "metadata": {},
     "output_type": "execute_result"
    },
    {
     "data": {
      "image/png": "[encoded data removed]",
      "text/plain": [
       "<Figure size 640x480 with 1 Axes>"
      ]
     },
     "metadata": {},
     "output_type": "display_data"
    }
   ],
   "source": [
    "sns.pointplot(x='button', y='likes', data=post_likes)"
   ]
  },
  {
   "cell_type": "markdown",
   "id": "1924f7c8",
   "metadata": {},
   "source": [
    "По графику можно сделать следующие выводы:\n",
    "1. Однозначное различие кнопки blue;\n",
    "2. Кнопки red and green скорее всего не различаются, по ним необходимо провести доп. стат. тесты."
   ]
  },
  {
   "cell_type": "markdown",
   "id": "ee92a571",
   "metadata": {},
   "source": [
    "#### Тестируем нормальность "
   ]
  },
  {
   "cell_type": "code",
   "execution_count": 62,
   "id": "47841dde",
   "metadata": {},
   "outputs": [
    {
     "name": "stdout",
     "output_type": "stream",
     "text": [
      "ShapiroResult(statistic=0.988104522228241, pvalue=0.515945315361023)\n",
      "ShapiroResult(statistic=0.9937934279441833, pvalue=0.9309807419776917)\n",
      "ShapiroResult(statistic=0.988717794418335, pvalue=0.5625351667404175)\n"
     ]
    }
   ],
   "source": [
    "#Через scipy, shapiro - не очень хорошо реагирует на выборки очень большого размера, \n",
    "# если выборки слишком большие, то он реагирует даже на самые мелкие отклонения от нормальности\n",
    "print(ss.shapiro(red))\n",
    "print(ss.shapiro(blue))\n",
    "print(ss.shapiro(green))"
   ]
  },
  {
   "cell_type": "code",
   "execution_count": 63,
   "id": "8265fe2f",
   "metadata": {},
   "outputs": [
    {
     "name": "stdout",
     "output_type": "stream",
     "text": [
      "NormaltestResult(statistic=1.834358590753997, pvalue=0.3996447324611219)\n",
      "NormaltestResult(statistic=0.4606964500747045, pvalue=0.7942569741771747)\n",
      "NormaltestResult(statistic=0.6727062715909409, pvalue=0.7143707913703767)\n"
     ]
    }
   ],
   "source": [
    "#Через normaltest - более нормально реагирует на выборки очень большого размера\n",
    "print(ss.normaltest(red))\n",
    "print(ss.normaltest(blue))\n",
    "print(ss.normaltest(green))"
   ]
  },
  {
   "cell_type": "code",
   "execution_count": 64,
   "id": "b046fa1e",
   "metadata": {},
   "outputs": [
    {
     "data": {
      "text/html": [
       "<div>\n",
       "<style scoped>\n",
       "    .dataframe tbody tr th:only-of-type {\n",
       "        vertical-align: middle;\n",
       "    }\n",
       "\n",
       "    .dataframe tbody tr th {\n",
       "        vertical-align: top;\n",
       "    }\n",
       "\n",
       "    .dataframe thead th {\n",
       "        text-align: right;\n",
       "    }\n",
       "</style>\n",
       "<table border=\"1\" class=\"dataframe\">\n",
       "  <thead>\n",
       "    <tr style=\"text-align: right;\">\n",
       "      <th></th>\n",
       "      <th>W</th>\n",
       "      <th>pval</th>\n",
       "      <th>normal</th>\n",
       "    </tr>\n",
       "    <tr>\n",
       "      <th>button</th>\n",
       "      <th></th>\n",
       "      <th></th>\n",
       "      <th></th>\n",
       "    </tr>\n",
       "  </thead>\n",
       "  <tbody>\n",
       "    <tr>\n",
       "      <th>red</th>\n",
       "      <td>1.834359</td>\n",
       "      <td>0.399645</td>\n",
       "      <td>True</td>\n",
       "    </tr>\n",
       "    <tr>\n",
       "      <th>green</th>\n",
       "      <td>0.672706</td>\n",
       "      <td>0.714371</td>\n",
       "      <td>True</td>\n",
       "    </tr>\n",
       "    <tr>\n",
       "      <th>blue</th>\n",
       "      <td>0.460696</td>\n",
       "      <td>0.794257</td>\n",
       "      <td>True</td>\n",
       "    </tr>\n",
       "  </tbody>\n",
       "</table>\n",
       "</div>"
      ],
      "text/plain": [
       "               W      pval  normal\n",
       "button                            \n",
       "red     1.834359  0.399645    True\n",
       "green   0.672706  0.714371    True\n",
       "blue    0.460696  0.794257    True"
      ]
     },
     "execution_count": 64,
     "metadata": {},
     "output_type": "execute_result"
    }
   ],
   "source": [
    "#Через pingouin\n",
    "pg.normality(data=post_likes, dv='likes', group='button', method='normaltest')"
   ]
  },
  {
   "cell_type": "code",
   "execution_count": 65,
   "id": "5049d572",
   "metadata": {},
   "outputs": [
    {
     "data": {
      "image/png": "[encoded data removed]",
      "text/plain": [
       "<Figure size 640x480 with 1 Axes>"
      ]
     },
     "execution_count": 65,
     "metadata": {},
     "output_type": "execute_result"
    },
    {
     "data": {
      "image/png": "[encoded data removed]",
      "text/plain": [
       "<Figure size 640x480 with 1 Axes>"
      ]
     },
     "metadata": {},
     "output_type": "display_data"
    }
   ],
   "source": [
    "#можно проверить с помощью графиков\n",
    "#например проверим 1 группу\n",
    "sm.qqplot(blue, line='r')"
   ]
  },
  {
   "cell_type": "code",
   "execution_count": 66,
   "id": "67ae6559",
   "metadata": {},
   "outputs": [
    {
     "data": {
      "text/plain": [
       "<Axes: xlabel='Theoretical quantiles', ylabel='Ordered quantiles'>"
      ]
     },
     "execution_count": 66,
     "metadata": {},
     "output_type": "execute_result"
    },
    {
     "data": {
      "image/png": "[encoded data removed]",
      "text/plain": [
       "<Figure size 640x480 with 1 Axes>"
      ]
     },
     "metadata": {},
     "output_type": "display_data"
    }
   ],
   "source": [
    "#график в pingouin\n",
    "pg.qqplot(blue)"
   ]
  },
  {
   "cell_type": "markdown",
   "id": "8aa0ccd4",
   "metadata": {},
   "source": [
    "В pingouin:\n",
    "1. Более наглядно;\n",
    "2. Есть доверительный интервал;"
   ]
  },
  {
   "cell_type": "markdown",
   "id": "c3e14102",
   "metadata": {},
   "source": [
    "#### Тестируем различие в дисперсиях"
   ]
  },
  {
   "cell_type": "code",
   "execution_count": 67,
   "id": "37701759",
   "metadata": {},
   "outputs": [
    {
     "data": {
      "text/plain": [
       "LeveneResult(statistic=35.214282435572876, pvalue=1.8886636651083753e-14)"
      ]
     },
     "execution_count": 67,
     "metadata": {},
     "output_type": "execute_result"
    }
   ],
   "source": [
    "#через scipy -- тест ЛЕВЕНА\n",
    "ss.levene(red,green,blue)"
   ]
  },
  {
   "cell_type": "code",
   "execution_count": 68,
   "id": "04569dad",
   "metadata": {},
   "outputs": [
    {
     "data": {
      "text/html": [
       "<div>\n",
       "<style scoped>\n",
       "    .dataframe tbody tr th:only-of-type {\n",
       "        vertical-align: middle;\n",
       "    }\n",
       "\n",
       "    .dataframe tbody tr th {\n",
       "        vertical-align: top;\n",
       "    }\n",
       "\n",
       "    .dataframe thead th {\n",
       "        text-align: right;\n",
       "    }\n",
       "</style>\n",
       "<table border=\"1\" class=\"dataframe\">\n",
       "  <thead>\n",
       "    <tr style=\"text-align: right;\">\n",
       "      <th></th>\n",
       "      <th>W</th>\n",
       "      <th>pval</th>\n",
       "      <th>equal_var</th>\n",
       "    </tr>\n",
       "  </thead>\n",
       "  <tbody>\n",
       "    <tr>\n",
       "      <th>levene</th>\n",
       "      <td>35.214282</td>\n",
       "      <td>1.888664e-14</td>\n",
       "      <td>False</td>\n",
       "    </tr>\n",
       "  </tbody>\n",
       "</table>\n",
       "</div>"
      ],
      "text/plain": [
       "                W          pval  equal_var\n",
       "levene  35.214282  1.888664e-14      False"
      ]
     },
     "execution_count": 68,
     "metadata": {},
     "output_type": "execute_result"
    }
   ],
   "source": [
    "#через pingouin -- проверка на гомоскедастичность (или гетеро...)\n",
    "pg.homoscedasticity(data=post_likes, dv='likes', group='button')"
   ]
  },
  {
   "cell_type": "markdown",
   "id": "41cec37c",
   "metadata": {},
   "source": [
    "По результатам тестов дисперисии разные p-value < 0.05\n",
    "- Что в этом случае нам делать?, необходимы поправки на различие в дисперсиях\n",
    "\n",
    "Используем поправки Уэлча"
   ]
  },
  {
   "cell_type": "code",
   "execution_count": 69,
   "id": "d05b0077",
   "metadata": {},
   "outputs": [
    {
     "data": {
      "text/html": [
       "<div>\n",
       "<style scoped>\n",
       "    .dataframe tbody tr th:only-of-type {\n",
       "        vertical-align: middle;\n",
       "    }\n",
       "\n",
       "    .dataframe tbody tr th {\n",
       "        vertical-align: top;\n",
       "    }\n",
       "\n",
       "    .dataframe thead th {\n",
       "        text-align: right;\n",
       "    }\n",
       "</style>\n",
       "<table border=\"1\" class=\"dataframe\">\n",
       "  <thead>\n",
       "    <tr style=\"text-align: right;\">\n",
       "      <th></th>\n",
       "      <th>Source</th>\n",
       "      <th>ddof1</th>\n",
       "      <th>ddof2</th>\n",
       "      <th>F</th>\n",
       "      <th>p-unc</th>\n",
       "      <th>np2</th>\n",
       "    </tr>\n",
       "  </thead>\n",
       "  <tbody>\n",
       "    <tr>\n",
       "      <th>0</th>\n",
       "      <td>button</td>\n",
       "      <td>2</td>\n",
       "      <td>182.958104</td>\n",
       "      <td>177.856578</td>\n",
       "      <td>1.255660e-43</td>\n",
       "      <td>0.366728</td>\n",
       "    </tr>\n",
       "  </tbody>\n",
       "</table>\n",
       "</div>"
      ],
      "text/plain": [
       "   Source  ddof1       ddof2           F         p-unc       np2\n",
       "0  button      2  182.958104  177.856578  1.255660e-43  0.366728"
      ]
     },
     "execution_count": 69,
     "metadata": {},
     "output_type": "execute_result"
    }
   ],
   "source": [
    "#ANOVA Уэлча в pingouin\n",
    "pg.welch_anova(data=post_likes, dv='likes', between='button')"
   ]
  },
  {
   "cell_type": "markdown",
   "id": "5834adb5",
   "metadata": {},
   "source": [
    "При использовании поправок на разность дисперсий, тесты показывают результат еще более высокого F значения (было 85.99 - -стало 177.85):\n",
    "- Различия между группами есть, с поправками на дисперсию они еще более выраженные;"
   ]
  },
  {
   "cell_type": "markdown",
   "id": "2718bcc7",
   "metadata": {},
   "source": [
    "### Проблема множественного сравнения"
   ]
  },
  {
   "cell_type": "code",
   "execution_count": 70,
   "id": "bbcbfbe0",
   "metadata": {},
   "outputs": [],
   "source": [
    "from scipy.special import comb"
   ]
  },
  {
   "cell_type": "markdown",
   "id": "11ad0a15",
   "metadata": {},
   "source": [
    "Почему мы используем ANOVA вместо t-теста?\n",
    "- Разбор:"
   ]
  },
  {
   "cell_type": "code",
   "execution_count": 71,
   "id": "e2e27c47",
   "metadata": {},
   "outputs": [
    {
     "name": "stdout",
     "output_type": "stream",
     "text": [
      "Колличество групп = 3.0\n",
      "p-value = 0.1426250000000001\n"
     ]
    }
   ],
   "source": [
    "n = comb(3, 2) #биноминальный коэффициент - сколько пар в 3 различных условиях\n",
    "print(f\"Колличество групп = {n}\")\n",
    "print(f'p-value = {1 - 0.95**n}') "
   ]
  },
  {
   "cell_type": "code",
   "execution_count": 72,
   "id": "1aea40e9",
   "metadata": {},
   "outputs": [
    {
     "name": "stdout",
     "output_type": "stream",
     "text": [
      "Колличество групп = 10.0\n",
      "p-value = 0.4012630607616213\n"
     ]
    }
   ],
   "source": [
    "n = comb(5, 2) #биноминальный коэффициент - сколько пар в 3 различных условиях\n",
    "print(f\"Колличество групп = {n}\")\n",
    "print(f'p-value = {1 - 0.95**n}') "
   ]
  },
  {
   "cell_type": "markdown",
   "id": "e645d3aa",
   "metadata": {},
   "source": [
    "Чем больше групп, тем больше p-value при множественном сравнении == тем сильнее наш шанс допустить ошибку 1 рода."
   ]
  },
  {
   "cell_type": "markdown",
   "id": "f703e8b2",
   "metadata": {},
   "source": [
    "Если нашли различия, то используем множественное сравнение. При этом нам необходимо использовать поправки в тестах, так как мы уже выяснили, что при множественном сравнени увеличивается ошибка 1 рода."
   ]
  },
  {
   "cell_type": "code",
   "execution_count": 73,
   "id": "fa136352",
   "metadata": {},
   "outputs": [
    {
     "data": {
      "text/html": [
       "<div>\n",
       "<style scoped>\n",
       "    .dataframe tbody tr th:only-of-type {\n",
       "        vertical-align: middle;\n",
       "    }\n",
       "\n",
       "    .dataframe tbody tr th {\n",
       "        vertical-align: top;\n",
       "    }\n",
       "\n",
       "    .dataframe thead th {\n",
       "        text-align: right;\n",
       "    }\n",
       "</style>\n",
       "<table border=\"1\" class=\"dataframe\">\n",
       "  <thead>\n",
       "    <tr style=\"text-align: right;\">\n",
       "      <th></th>\n",
       "      <th>Contrast</th>\n",
       "      <th>A</th>\n",
       "      <th>B</th>\n",
       "      <th>Paired</th>\n",
       "      <th>Parametric</th>\n",
       "      <th>T</th>\n",
       "      <th>dof</th>\n",
       "      <th>alternative</th>\n",
       "      <th>p-unc</th>\n",
       "      <th>BF10</th>\n",
       "      <th>hedges</th>\n",
       "    </tr>\n",
       "  </thead>\n",
       "  <tbody>\n",
       "    <tr>\n",
       "      <th>0</th>\n",
       "      <td>button</td>\n",
       "      <td>blue</td>\n",
       "      <td>green</td>\n",
       "      <td>False</td>\n",
       "      <td>True</td>\n",
       "      <td>8.591097</td>\n",
       "      <td>198.0</td>\n",
       "      <td>two-sided</td>\n",
       "      <td>2.561866e-15</td>\n",
       "      <td>2.025e+12</td>\n",
       "      <td>1.210357</td>\n",
       "    </tr>\n",
       "    <tr>\n",
       "      <th>1</th>\n",
       "      <td>button</td>\n",
       "      <td>blue</td>\n",
       "      <td>red</td>\n",
       "      <td>False</td>\n",
       "      <td>True</td>\n",
       "      <td>18.769214</td>\n",
       "      <td>198.0</td>\n",
       "      <td>two-sided</td>\n",
       "      <td>7.952330e-46</td>\n",
       "      <td>1.582e+42</td>\n",
       "      <td>2.644301</td>\n",
       "    </tr>\n",
       "    <tr>\n",
       "      <th>2</th>\n",
       "      <td>button</td>\n",
       "      <td>green</td>\n",
       "      <td>red</td>\n",
       "      <td>False</td>\n",
       "      <td>True</td>\n",
       "      <td>2.240189</td>\n",
       "      <td>198.0</td>\n",
       "      <td>two-sided</td>\n",
       "      <td>2.619001e-02</td>\n",
       "      <td>1.583</td>\n",
       "      <td>0.315609</td>\n",
       "    </tr>\n",
       "  </tbody>\n",
       "</table>\n",
       "</div>"
      ],
      "text/plain": [
       "  Contrast      A      B  Paired  Parametric          T    dof alternative  \\\n",
       "0   button   blue  green   False        True   8.591097  198.0   two-sided   \n",
       "1   button   blue    red   False        True  18.769214  198.0   two-sided   \n",
       "2   button  green    red   False        True   2.240189  198.0   two-sided   \n",
       "\n",
       "          p-unc       BF10    hedges  \n",
       "0  2.561866e-15  2.025e+12  1.210357  \n",
       "1  7.952330e-46  1.582e+42  2.644301  \n",
       "2  2.619001e-02      1.583  0.315609  "
      ]
     },
     "execution_count": 73,
     "metadata": {},
     "output_type": "execute_result"
    }
   ],
   "source": [
    "#Попарные сравнения без поправки\n",
    "pg.pairwise_tests(data=post_likes, dv='likes', between='button')"
   ]
  },
  {
   "cell_type": "code",
   "execution_count": 74,
   "id": "1e6f0f0b",
   "metadata": {},
   "outputs": [
    {
     "data": {
      "text/html": [
       "<div>\n",
       "<style scoped>\n",
       "    .dataframe tbody tr th:only-of-type {\n",
       "        vertical-align: middle;\n",
       "    }\n",
       "\n",
       "    .dataframe tbody tr th {\n",
       "        vertical-align: top;\n",
       "    }\n",
       "\n",
       "    .dataframe thead th {\n",
       "        text-align: right;\n",
       "    }\n",
       "</style>\n",
       "<table border=\"1\" class=\"dataframe\">\n",
       "  <thead>\n",
       "    <tr style=\"text-align: right;\">\n",
       "      <th></th>\n",
       "      <th>Contrast</th>\n",
       "      <th>A</th>\n",
       "      <th>B</th>\n",
       "      <th>Paired</th>\n",
       "      <th>Parametric</th>\n",
       "      <th>T</th>\n",
       "      <th>dof</th>\n",
       "      <th>alternative</th>\n",
       "      <th>p-unc</th>\n",
       "      <th>p-corr</th>\n",
       "      <th>p-adjust</th>\n",
       "      <th>BF10</th>\n",
       "      <th>hedges</th>\n",
       "    </tr>\n",
       "  </thead>\n",
       "  <tbody>\n",
       "    <tr>\n",
       "      <th>0</th>\n",
       "      <td>button</td>\n",
       "      <td>blue</td>\n",
       "      <td>green</td>\n",
       "      <td>False</td>\n",
       "      <td>True</td>\n",
       "      <td>8.591097</td>\n",
       "      <td>198.0</td>\n",
       "      <td>two-sided</td>\n",
       "      <td>2.561866e-15</td>\n",
       "      <td>7.685599e-15</td>\n",
       "      <td>bonf</td>\n",
       "      <td>2.025e+12</td>\n",
       "      <td>1.210357</td>\n",
       "    </tr>\n",
       "    <tr>\n",
       "      <th>1</th>\n",
       "      <td>button</td>\n",
       "      <td>blue</td>\n",
       "      <td>red</td>\n",
       "      <td>False</td>\n",
       "      <td>True</td>\n",
       "      <td>18.769214</td>\n",
       "      <td>198.0</td>\n",
       "      <td>two-sided</td>\n",
       "      <td>7.952330e-46</td>\n",
       "      <td>2.385699e-45</td>\n",
       "      <td>bonf</td>\n",
       "      <td>1.582e+42</td>\n",
       "      <td>2.644301</td>\n",
       "    </tr>\n",
       "    <tr>\n",
       "      <th>2</th>\n",
       "      <td>button</td>\n",
       "      <td>green</td>\n",
       "      <td>red</td>\n",
       "      <td>False</td>\n",
       "      <td>True</td>\n",
       "      <td>2.240189</td>\n",
       "      <td>198.0</td>\n",
       "      <td>two-sided</td>\n",
       "      <td>2.619001e-02</td>\n",
       "      <td>7.857004e-02</td>\n",
       "      <td>bonf</td>\n",
       "      <td>1.583</td>\n",
       "      <td>0.315609</td>\n",
       "    </tr>\n",
       "  </tbody>\n",
       "</table>\n",
       "</div>"
      ],
      "text/plain": [
       "  Contrast      A      B  Paired  Parametric          T    dof alternative  \\\n",
       "0   button   blue  green   False        True   8.591097  198.0   two-sided   \n",
       "1   button   blue    red   False        True  18.769214  198.0   two-sided   \n",
       "2   button  green    red   False        True   2.240189  198.0   two-sided   \n",
       "\n",
       "          p-unc        p-corr p-adjust       BF10    hedges  \n",
       "0  2.561866e-15  7.685599e-15     bonf  2.025e+12  1.210357  \n",
       "1  7.952330e-46  2.385699e-45     bonf  1.582e+42  2.644301  \n",
       "2  2.619001e-02  7.857004e-02     bonf      1.583  0.315609  "
      ]
     },
     "execution_count": 74,
     "metadata": {},
     "output_type": "execute_result"
    }
   ],
   "source": [
    "#попарное сравнение с поправкой Банферони\n",
    "pg.pairwise_tests(data=post_likes, dv='likes', between='button', padjust='bonf')"
   ]
  },
  {
   "cell_type": "code",
   "execution_count": 75,
   "id": "ef7f6e52",
   "metadata": {},
   "outputs": [
    {
     "data": {
      "text/html": [
       "<div>\n",
       "<style scoped>\n",
       "    .dataframe tbody tr th:only-of-type {\n",
       "        vertical-align: middle;\n",
       "    }\n",
       "\n",
       "    .dataframe tbody tr th {\n",
       "        vertical-align: top;\n",
       "    }\n",
       "\n",
       "    .dataframe thead th {\n",
       "        text-align: right;\n",
       "    }\n",
       "</style>\n",
       "<table border=\"1\" class=\"dataframe\">\n",
       "  <thead>\n",
       "    <tr style=\"text-align: right;\">\n",
       "      <th></th>\n",
       "      <th>A</th>\n",
       "      <th>B</th>\n",
       "      <th>mean(A)</th>\n",
       "      <th>mean(B)</th>\n",
       "      <th>diff</th>\n",
       "      <th>se</th>\n",
       "      <th>T</th>\n",
       "      <th>p-tukey</th>\n",
       "      <th>hedges</th>\n",
       "    </tr>\n",
       "  </thead>\n",
       "  <tbody>\n",
       "    <tr>\n",
       "      <th>0</th>\n",
       "      <td>blue</td>\n",
       "      <td>green</td>\n",
       "      <td>210.03</td>\n",
       "      <td>162.02</td>\n",
       "      <td>48.01</td>\n",
       "      <td>4.846108</td>\n",
       "      <td>9.906919</td>\n",
       "      <td>1.143530e-14</td>\n",
       "      <td>1.210357</td>\n",
       "    </tr>\n",
       "    <tr>\n",
       "      <th>1</th>\n",
       "      <td>blue</td>\n",
       "      <td>red</td>\n",
       "      <td>210.03</td>\n",
       "      <td>149.96</td>\n",
       "      <td>60.07</td>\n",
       "      <td>4.846108</td>\n",
       "      <td>12.395514</td>\n",
       "      <td>1.143530e-14</td>\n",
       "      <td>2.644301</td>\n",
       "    </tr>\n",
       "    <tr>\n",
       "      <th>2</th>\n",
       "      <td>green</td>\n",
       "      <td>red</td>\n",
       "      <td>162.02</td>\n",
       "      <td>149.96</td>\n",
       "      <td>12.06</td>\n",
       "      <td>4.846108</td>\n",
       "      <td>2.488595</td>\n",
       "      <td>3.557351e-02</td>\n",
       "      <td>0.315609</td>\n",
       "    </tr>\n",
       "  </tbody>\n",
       "</table>\n",
       "</div>"
      ],
      "text/plain": [
       "       A      B  mean(A)  mean(B)   diff        se          T       p-tukey  \\\n",
       "0   blue  green   210.03   162.02  48.01  4.846108   9.906919  1.143530e-14   \n",
       "1   blue    red   210.03   149.96  60.07  4.846108  12.395514  1.143530e-14   \n",
       "2  green    red   162.02   149.96  12.06  4.846108   2.488595  3.557351e-02   \n",
       "\n",
       "     hedges  \n",
       "0  1.210357  \n",
       "1  2.644301  \n",
       "2  0.315609  "
      ]
     },
     "execution_count": 75,
     "metadata": {},
     "output_type": "execute_result"
    }
   ],
   "source": [
    "#попарное сравнение с тестом Тьюки\n",
    "pg.pairwise_tukey(data=post_likes, dv='likes', between='button')"
   ]
  },
  {
   "cell_type": "code",
   "execution_count": 76,
   "id": "260caede",
   "metadata": {},
   "outputs": [
    {
     "data": {
      "text/html": [
       "<div>\n",
       "<style scoped>\n",
       "    .dataframe tbody tr th:only-of-type {\n",
       "        vertical-align: middle;\n",
       "    }\n",
       "\n",
       "    .dataframe tbody tr th {\n",
       "        vertical-align: top;\n",
       "    }\n",
       "\n",
       "    .dataframe thead th {\n",
       "        text-align: right;\n",
       "    }\n",
       "</style>\n",
       "<table border=\"1\" class=\"dataframe\">\n",
       "  <thead>\n",
       "    <tr style=\"text-align: right;\">\n",
       "      <th></th>\n",
       "      <th>A</th>\n",
       "      <th>B</th>\n",
       "      <th>mean(A)</th>\n",
       "      <th>mean(B)</th>\n",
       "      <th>diff</th>\n",
       "      <th>se</th>\n",
       "      <th>T</th>\n",
       "      <th>df</th>\n",
       "      <th>pval</th>\n",
       "      <th>hedges</th>\n",
       "    </tr>\n",
       "  </thead>\n",
       "  <tbody>\n",
       "    <tr>\n",
       "      <th>0</th>\n",
       "      <td>blue</td>\n",
       "      <td>green</td>\n",
       "      <td>210.03</td>\n",
       "      <td>162.02</td>\n",
       "      <td>48.01</td>\n",
       "      <td>5.588343</td>\n",
       "      <td>8.591097</td>\n",
       "      <td>145.583529</td>\n",
       "      <td>2.242651e-14</td>\n",
       "      <td>1.210357</td>\n",
       "    </tr>\n",
       "    <tr>\n",
       "      <th>1</th>\n",
       "      <td>blue</td>\n",
       "      <td>red</td>\n",
       "      <td>210.03</td>\n",
       "      <td>149.96</td>\n",
       "      <td>60.07</td>\n",
       "      <td>3.200454</td>\n",
       "      <td>18.769214</td>\n",
       "      <td>188.902921</td>\n",
       "      <td>0.000000e+00</td>\n",
       "      <td>2.644301</td>\n",
       "    </tr>\n",
       "    <tr>\n",
       "      <th>2</th>\n",
       "      <td>green</td>\n",
       "      <td>red</td>\n",
       "      <td>162.02</td>\n",
       "      <td>149.96</td>\n",
       "      <td>12.06</td>\n",
       "      <td>5.383475</td>\n",
       "      <td>2.240189</td>\n",
       "      <td>129.889834</td>\n",
       "      <td>6.830241e-02</td>\n",
       "      <td>0.315609</td>\n",
       "    </tr>\n",
       "  </tbody>\n",
       "</table>\n",
       "</div>"
      ],
      "text/plain": [
       "       A      B  mean(A)  mean(B)   diff        se          T          df  \\\n",
       "0   blue  green   210.03   162.02  48.01  5.588343   8.591097  145.583529   \n",
       "1   blue    red   210.03   149.96  60.07  3.200454  18.769214  188.902921   \n",
       "2  green    red   162.02   149.96  12.06  5.383475   2.240189  129.889834   \n",
       "\n",
       "           pval    hedges  \n",
       "0  2.242651e-14  1.210357  \n",
       "1  0.000000e+00  2.644301  \n",
       "2  6.830241e-02  0.315609  "
      ]
     },
     "execution_count": 76,
     "metadata": {},
     "output_type": "execute_result"
    }
   ],
   "source": [
    "#попарное сравнение с тестом Геймса-Хоувела - при неравнестве дисперсий, НАШ СЛУЧАЙ!\n",
    "pg.pairwise_gameshowell(data=post_likes, dv='likes', between='button')"
   ]
  },
  {
   "cell_type": "code",
   "execution_count": 77,
   "id": "5b0df69b",
   "metadata": {},
   "outputs": [
    {
     "data": {
      "text/html": [
       "<table class=\"simpletable\">\n",
       "<caption>Multiple Comparison of Means - Tukey HSD, FWER=0.05</caption>\n",
       "<tr>\n",
       "  <th>group1</th> <th>group2</th> <th>meandiff</th>  <th>p-adj</th>   <th>lower</th>    <th>upper</th>  <th>reject</th>\n",
       "</tr>\n",
       "<tr>\n",
       "   <td>blue</td>   <td>green</td>  <td>-48.01</td>    <td>0.0</td>  <td>-59.4251</td> <td>-36.5949</td>  <td>True</td> \n",
       "</tr>\n",
       "<tr>\n",
       "   <td>blue</td>    <td>red</td>   <td>-60.07</td>    <td>0.0</td>  <td>-71.4851</td> <td>-48.6549</td>  <td>True</td> \n",
       "</tr>\n",
       "<tr>\n",
       "   <td>green</td>   <td>red</td>   <td>-12.06</td>  <td>0.0356</td> <td>-23.4751</td>  <td>-0.6449</td>  <td>True</td> \n",
       "</tr>\n",
       "</table>"
      ],
      "text/latex": [
       "\\begin{center}\n",
       "\\begin{tabular}{ccccccc}\n",
       "\\toprule\n",
       "\\textbf{group1} & \\textbf{group2} & \\textbf{meandiff} & \\textbf{p-adj} & \\textbf{lower} & \\textbf{upper} & \\textbf{reject}  \\\\\n",
       "\\midrule\n",
       "      blue      &      green      &       -48.01      &      0.0       &    -59.4251    &    -36.5949    &       True       \\\\\n",
       "      blue      &       red       &       -60.07      &      0.0       &    -71.4851    &    -48.6549    &       True       \\\\\n",
       "     green      &       red       &       -12.06      &     0.0356     &    -23.4751    &    -0.6449     &       True       \\\\\n",
       "\\bottomrule\n",
       "\\end{tabular}\n",
       "%\\caption{Multiple Comparison of Means - Tukey HSD, FWER=0.05}\n",
       "\\end{center}"
      ],
      "text/plain": [
       "<class 'statsmodels.iolib.table.SimpleTable'>"
      ]
     },
     "execution_count": 77,
     "metadata": {},
     "output_type": "execute_result"
    }
   ],
   "source": [
    "#реализация через стат моделс\n",
    "#попарное сравнение с тестом Тьюки\n",
    "#через стат моделс нет теста Геймса-Хоувела\n",
    "#так что используем pingouin\n",
    "pairwise_tukeyhsd(post_likes.likes, post_likes.button).summary()"
   ]
  },
  {
   "cell_type": "code",
   "execution_count": 78,
   "id": "e4df9777",
   "metadata": {},
   "outputs": [
    {
     "data": {
      "text/html": [
       "<table class=\"simpletable\">\n",
       "<caption>Multiple Comparison of Means - Tukey HSD, FWER=0.05</caption>\n",
       "<tr>\n",
       "  <th>group1</th> <th>group2</th> <th>meandiff</th>  <th>p-adj</th>   <th>lower</th>    <th>upper</th>  <th>reject</th>\n",
       "</tr>\n",
       "<tr>\n",
       "   <td>blue</td>   <td>green</td>  <td>-48.01</td>    <td>0.0</td>  <td>-59.4251</td> <td>-36.5949</td>  <td>True</td> \n",
       "</tr>\n",
       "<tr>\n",
       "   <td>blue</td>    <td>red</td>   <td>-60.07</td>    <td>0.0</td>  <td>-71.4851</td> <td>-48.6549</td>  <td>True</td> \n",
       "</tr>\n",
       "<tr>\n",
       "   <td>green</td>   <td>red</td>   <td>-12.06</td>  <td>0.0356</td> <td>-23.4751</td>  <td>-0.6449</td>  <td>True</td> \n",
       "</tr>\n",
       "</table>"
      ],
      "text/latex": [
       "\\begin{center}\n",
       "\\begin{tabular}{ccccccc}\n",
       "\\toprule\n",
       "\\textbf{group1} & \\textbf{group2} & \\textbf{meandiff} & \\textbf{p-adj} & \\textbf{lower} & \\textbf{upper} & \\textbf{reject}  \\\\\n",
       "\\midrule\n",
       "      blue      &      green      &       -48.01      &      0.0       &    -59.4251    &    -36.5949    &       True       \\\\\n",
       "      blue      &       red       &       -60.07      &      0.0       &    -71.4851    &    -48.6549    &       True       \\\\\n",
       "     green      &       red       &       -12.06      &     0.0356     &    -23.4751    &    -0.6449     &       True       \\\\\n",
       "\\bottomrule\n",
       "\\end{tabular}\n",
       "%\\caption{Multiple Comparison of Means - Tukey HSD, FWER=0.05}\n",
       "\\end{center}"
      ],
      "text/plain": [
       "<class 'statsmodels.iolib.table.SimpleTable'>"
      ]
     },
     "execution_count": 78,
     "metadata": {},
     "output_type": "execute_result"
    }
   ],
   "source": [
    "MultiComparison(post_likes.likes, post_likes.button).tukeyhsd().summary()"
   ]
  },
  {
   "cell_type": "markdown",
   "id": "b8b755ee",
   "metadata": {},
   "source": [
    "### Mногофакторный дисперсионный анализ\n",
    "#### Многофакторный ANOVA"
   ]
  },
  {
   "cell_type": "markdown",
   "id": "1002c1a1",
   "metadata": {},
   "source": [
    "Многофакторный дисперсионный анализ:\n",
    "проверяет действие несколких факторов на исследуемый нами признак:\n",
    "1. фактор нашего экспериментального воздействия(колличество лайков, просмотров, реакций, цвет лайка);\n",
    "2. дополнительный фактор: возрастная группа, мужчины женщины и тд(разные группы в группе, форма лайка)\n"
   ]
  },
  {
   "cell_type": "code",
   "execution_count": 79,
   "id": "d6c8ff4a",
   "metadata": {},
   "outputs": [],
   "source": [
    "#загрузим многофакторный данные \n",
    "ads_clicks = pd.read_csv('ads_clicks.csv')"
   ]
  },
  {
   "cell_type": "code",
   "execution_count": 80,
   "id": "c211df6c",
   "metadata": {},
   "outputs": [
    {
     "data": {
      "text/html": [
       "<div>\n",
       "<style scoped>\n",
       "    .dataframe tbody tr th:only-of-type {\n",
       "        vertical-align: middle;\n",
       "    }\n",
       "\n",
       "    .dataframe tbody tr th {\n",
       "        vertical-align: top;\n",
       "    }\n",
       "\n",
       "    .dataframe thead th {\n",
       "        text-align: right;\n",
       "    }\n",
       "</style>\n",
       "<table border=\"1\" class=\"dataframe\">\n",
       "  <thead>\n",
       "    <tr style=\"text-align: right;\">\n",
       "      <th></th>\n",
       "      <th>id</th>\n",
       "      <th>ads</th>\n",
       "      <th>age_group</th>\n",
       "      <th>clicks</th>\n",
       "    </tr>\n",
       "  </thead>\n",
       "  <tbody>\n",
       "    <tr>\n",
       "      <th>0</th>\n",
       "      <td>S001</td>\n",
       "      <td>classic</td>\n",
       "      <td>18-27</td>\n",
       "      <td>40</td>\n",
       "    </tr>\n",
       "    <tr>\n",
       "      <th>1</th>\n",
       "      <td>S002</td>\n",
       "      <td>classic</td>\n",
       "      <td>18-27</td>\n",
       "      <td>22</td>\n",
       "    </tr>\n",
       "    <tr>\n",
       "      <th>2</th>\n",
       "      <td>S003</td>\n",
       "      <td>classic</td>\n",
       "      <td>18-27</td>\n",
       "      <td>41</td>\n",
       "    </tr>\n",
       "    <tr>\n",
       "      <th>3</th>\n",
       "      <td>S004</td>\n",
       "      <td>classic</td>\n",
       "      <td>18-27</td>\n",
       "      <td>35</td>\n",
       "    </tr>\n",
       "    <tr>\n",
       "      <th>4</th>\n",
       "      <td>S005</td>\n",
       "      <td>classic</td>\n",
       "      <td>18-27</td>\n",
       "      <td>39</td>\n",
       "    </tr>\n",
       "  </tbody>\n",
       "</table>\n",
       "</div>"
      ],
      "text/plain": [
       "     id      ads age_group  clicks\n",
       "0  S001  classic     18-27      40\n",
       "1  S002  classic     18-27      22\n",
       "2  S003  classic     18-27      41\n",
       "3  S004  classic     18-27      35\n",
       "4  S005  classic     18-27      39"
      ]
     },
     "execution_count": 80,
     "metadata": {},
     "output_type": "execute_result"
    }
   ],
   "source": [
    "ads_clicks.head()"
   ]
  },
  {
   "cell_type": "code",
   "execution_count": 81,
   "id": "38edc2d7",
   "metadata": {},
   "outputs": [
    {
     "data": {
      "text/html": [
       "<div>\n",
       "<style scoped>\n",
       "    .dataframe tbody tr th:only-of-type {\n",
       "        vertical-align: middle;\n",
       "    }\n",
       "\n",
       "    .dataframe tbody tr th {\n",
       "        vertical-align: top;\n",
       "    }\n",
       "\n",
       "    .dataframe thead th {\n",
       "        text-align: right;\n",
       "    }\n",
       "</style>\n",
       "<table border=\"1\" class=\"dataframe\">\n",
       "  <thead>\n",
       "    <tr style=\"text-align: right;\">\n",
       "      <th></th>\n",
       "      <th>df</th>\n",
       "      <th>sum_sq</th>\n",
       "      <th>mean_sq</th>\n",
       "      <th>F</th>\n",
       "      <th>PR(&gt;F)</th>\n",
       "    </tr>\n",
       "  </thead>\n",
       "  <tbody>\n",
       "    <tr>\n",
       "      <th>C(ads)</th>\n",
       "      <td>1.0</td>\n",
       "      <td>33735.001667</td>\n",
       "      <td>33735.001667</td>\n",
       "      <td>68.810244</td>\n",
       "      <td>7.245176e-16</td>\n",
       "    </tr>\n",
       "    <tr>\n",
       "      <th>C(age_group)</th>\n",
       "      <td>2.0</td>\n",
       "      <td>400495.163333</td>\n",
       "      <td>200247.581667</td>\n",
       "      <td>408.450696</td>\n",
       "      <td>1.950084e-112</td>\n",
       "    </tr>\n",
       "    <tr>\n",
       "      <th>Residual</th>\n",
       "      <td>596.0</td>\n",
       "      <td>292195.753333</td>\n",
       "      <td>490.261331</td>\n",
       "      <td>NaN</td>\n",
       "      <td>NaN</td>\n",
       "    </tr>\n",
       "  </tbody>\n",
       "</table>\n",
       "</div>"
      ],
      "text/plain": [
       "                 df         sum_sq        mean_sq           F         PR(>F)\n",
       "C(ads)          1.0   33735.001667   33735.001667   68.810244   7.245176e-16\n",
       "C(age_group)    2.0  400495.163333  200247.581667  408.450696  1.950084e-112\n",
       "Residual      596.0  292195.753333     490.261331         NaN            NaN"
      ]
     },
     "execution_count": 81,
     "metadata": {},
     "output_type": "execute_result"
    }
   ],
   "source": [
    "#многофакторный анализ через стат моделс - только главные эффекты\n",
    "model_main = smf.ols(\"clicks ~ C(ads)+C(age_group)\", data=ads_clicks).fit()\n",
    "anova_lm(model_main)"
   ]
  },
  {
   "cell_type": "markdown",
   "id": "6c94a976",
   "metadata": {},
   "source": [
    "По результатам теста:\n",
    "1. Есть эффект рекламной компании;\n",
    "2. Есть эффект возрастной группы;\n",
    "\n",
    "Мы учли только главные эффекты, связь между 1 и 2 фактором здесь не учитываем;"
   ]
  },
  {
   "cell_type": "code",
   "execution_count": 82,
   "id": "5f58258a",
   "metadata": {},
   "outputs": [
    {
     "data": {
      "text/plain": [
       "<Axes: xlabel='ads', ylabel='clicks'>"
      ]
     },
     "execution_count": 82,
     "metadata": {},
     "output_type": "execute_result"
    },
    {
     "data": {
      "image/png": "[encoded data removed]",
      "text/plain": [
       "<Figure size 640x480 with 1 Axes>"
      ]
     },
     "metadata": {},
     "output_type": "display_data"
    }
   ],
   "source": [
    "#Первый фактор\n",
    "sns.pointplot(x='ads', y='clicks', data=ads_clicks, capsize=0.2)"
   ]
  },
  {
   "cell_type": "markdown",
   "id": "05a13e40",
   "metadata": {},
   "source": [
    "По графику: реклама bold and classic различаются, но необходимо еще учитывать фактор возраста"
   ]
  },
  {
   "cell_type": "code",
   "execution_count": 83,
   "id": "10b837a1",
   "metadata": {},
   "outputs": [
    {
     "data": {
      "text/plain": [
       "<Axes: xlabel='age_group', ylabel='clicks'>"
      ]
     },
     "execution_count": 83,
     "metadata": {},
     "output_type": "execute_result"
    },
    {
     "data": {
      "image/png": "[encoded data removed]",
      "text/plain": [
       "<Figure size 640x480 with 1 Axes>"
      ]
     },
     "metadata": {},
     "output_type": "display_data"
    }
   ],
   "source": [
    "#Второй фактор\n",
    "sns.pointplot(x='age_group', y='clicks', data=ads_clicks, capsize=0.2)"
   ]
  },
  {
   "cell_type": "markdown",
   "id": "02931cea",
   "metadata": {},
   "source": [
    "По графику: более молодые группы кликают чаще.\n",
    "\n",
    "НО сейчас у нас графики не взаимосвязанны и !многофакторный анализ через стат моделс - мы рассмотрели только главные эффекты === как будто они не связанны === будто бы всегда эпатажная реклама будет собирать больше просмотров и в этой рекламе 18-27 возрастная группа самая кликабельная"
   ]
  },
  {
   "cell_type": "markdown",
   "id": "94bda9ca",
   "metadata": {},
   "source": [
    "##### Проверяем взаимодеqствие:"
   ]
  },
  {
   "cell_type": "code",
   "execution_count": 84,
   "id": "fd764018",
   "metadata": {},
   "outputs": [
    {
     "data": {
      "text/html": [
       "<div>\n",
       "<style scoped>\n",
       "    .dataframe tbody tr th:only-of-type {\n",
       "        vertical-align: middle;\n",
       "    }\n",
       "\n",
       "    .dataframe tbody tr th {\n",
       "        vertical-align: top;\n",
       "    }\n",
       "\n",
       "    .dataframe thead th {\n",
       "        text-align: right;\n",
       "    }\n",
       "</style>\n",
       "<table border=\"1\" class=\"dataframe\">\n",
       "  <thead>\n",
       "    <tr style=\"text-align: right;\">\n",
       "      <th></th>\n",
       "      <th>df</th>\n",
       "      <th>sum_sq</th>\n",
       "      <th>mean_sq</th>\n",
       "      <th>F</th>\n",
       "      <th>PR(&gt;F)</th>\n",
       "    </tr>\n",
       "  </thead>\n",
       "  <tbody>\n",
       "    <tr>\n",
       "      <th>C(ads)</th>\n",
       "      <td>1.0</td>\n",
       "      <td>33735.001667</td>\n",
       "      <td>33735.001667</td>\n",
       "      <td>336.722432</td>\n",
       "      <td>6.446773e-60</td>\n",
       "    </tr>\n",
       "    <tr>\n",
       "      <th>C(age_group)</th>\n",
       "      <td>2.0</td>\n",
       "      <td>400495.163333</td>\n",
       "      <td>200247.581667</td>\n",
       "      <td>1998.750536</td>\n",
       "      <td>1.636934e-264</td>\n",
       "    </tr>\n",
       "    <tr>\n",
       "      <th>C(ads):C(age_group)</th>\n",
       "      <td>2.0</td>\n",
       "      <td>232685.043333</td>\n",
       "      <td>116342.521667</td>\n",
       "      <td>1161.260853</td>\n",
       "      <td>5.618312e-206</td>\n",
       "    </tr>\n",
       "    <tr>\n",
       "      <th>Residual</th>\n",
       "      <td>594.0</td>\n",
       "      <td>59510.710000</td>\n",
       "      <td>100.186380</td>\n",
       "      <td>NaN</td>\n",
       "      <td>NaN</td>\n",
       "    </tr>\n",
       "  </tbody>\n",
       "</table>\n",
       "</div>"
      ],
      "text/plain": [
       "                        df         sum_sq        mean_sq            F  \\\n",
       "C(ads)                 1.0   33735.001667   33735.001667   336.722432   \n",
       "C(age_group)           2.0  400495.163333  200247.581667  1998.750536   \n",
       "C(ads):C(age_group)    2.0  232685.043333  116342.521667  1161.260853   \n",
       "Residual             594.0   59510.710000     100.186380          NaN   \n",
       "\n",
       "                            PR(>F)  \n",
       "C(ads)                6.446773e-60  \n",
       "C(age_group)         1.636934e-264  \n",
       "C(ads):C(age_group)  5.618312e-206  \n",
       "Residual                       NaN  "
      ]
     },
     "execution_count": 84,
     "metadata": {},
     "output_type": "execute_result"
    }
   ],
   "source": [
    "#многофакторный анализ через стат моделс - главные эффекты + их взаимодействие\n",
    "model_main = smf.ols(\"clicks ~ C(ads)+C(age_group) + C(ads):C(age_group)\", data=ads_clicks).fit()\n",
    "anova_lm(model_main)"
   ]
  },
  {
   "cell_type": "code",
   "execution_count": 85,
   "id": "53bbc0b1",
   "metadata": {
    "scrolled": true
   },
   "outputs": [
    {
     "data": {
      "text/plain": [
       "<Axes: xlabel='ads', ylabel='clicks'>"
      ]
     },
     "execution_count": 85,
     "metadata": {},
     "output_type": "execute_result"
    },
    {
     "data": {
      "image/png": "[encoded data removed]",
      "text/plain": [
       "<Figure size 640x480 with 1 Axes>"
      ]
     },
     "metadata": {},
     "output_type": "display_data"
    }
   ],
   "source": [
    "sns.pointplot(x='ads', y='clicks', hue='age_group', data=ads_clicks, capsize=0.2)"
   ]
  },
  {
   "cell_type": "markdown",
   "id": "3e91251d",
   "metadata": {},
   "source": [
    "При проверке взамодействия факторов в стат моделс получили стат значимые результаты == взаимодействие есть и оно значимо;\n",
    "\n",
    "При проверке взаимодействия факторов на графике можно визуально увидеть , как разные возрастные группы отреагировали на новую рекламу;\n"
   ]
  },
  {
   "cell_type": "code",
   "execution_count": 86,
   "id": "32764599",
   "metadata": {},
   "outputs": [
    {
     "data": {
      "text/html": [
       "<div>\n",
       "<style scoped>\n",
       "    .dataframe tbody tr th:only-of-type {\n",
       "        vertical-align: middle;\n",
       "    }\n",
       "\n",
       "    .dataframe tbody tr th {\n",
       "        vertical-align: top;\n",
       "    }\n",
       "\n",
       "    .dataframe thead th {\n",
       "        text-align: right;\n",
       "    }\n",
       "</style>\n",
       "<table border=\"1\" class=\"dataframe\">\n",
       "  <thead>\n",
       "    <tr style=\"text-align: right;\">\n",
       "      <th></th>\n",
       "      <th>Source</th>\n",
       "      <th>SS</th>\n",
       "      <th>DF</th>\n",
       "      <th>MS</th>\n",
       "      <th>F</th>\n",
       "      <th>p-unc</th>\n",
       "      <th>np2</th>\n",
       "    </tr>\n",
       "  </thead>\n",
       "  <tbody>\n",
       "    <tr>\n",
       "      <th>0</th>\n",
       "      <td>ads</td>\n",
       "      <td>33735.001667</td>\n",
       "      <td>1</td>\n",
       "      <td>33735.001667</td>\n",
       "      <td>336.722432</td>\n",
       "      <td>6.446773e-60</td>\n",
       "      <td>0.361786</td>\n",
       "    </tr>\n",
       "    <tr>\n",
       "      <th>1</th>\n",
       "      <td>age_group</td>\n",
       "      <td>400495.163333</td>\n",
       "      <td>2</td>\n",
       "      <td>200247.581667</td>\n",
       "      <td>1998.750536</td>\n",
       "      <td>1.636934e-264</td>\n",
       "      <td>0.870631</td>\n",
       "    </tr>\n",
       "    <tr>\n",
       "      <th>2</th>\n",
       "      <td>ads * age_group</td>\n",
       "      <td>232685.043333</td>\n",
       "      <td>2</td>\n",
       "      <td>116342.521667</td>\n",
       "      <td>1161.260853</td>\n",
       "      <td>5.618312e-206</td>\n",
       "      <td>0.796333</td>\n",
       "    </tr>\n",
       "    <tr>\n",
       "      <th>3</th>\n",
       "      <td>Residual</td>\n",
       "      <td>59510.710000</td>\n",
       "      <td>594</td>\n",
       "      <td>100.186380</td>\n",
       "      <td>NaN</td>\n",
       "      <td>NaN</td>\n",
       "      <td>NaN</td>\n",
       "    </tr>\n",
       "  </tbody>\n",
       "</table>\n",
       "</div>"
      ],
      "text/plain": [
       "            Source             SS   DF             MS            F  \\\n",
       "0              ads   33735.001667    1   33735.001667   336.722432   \n",
       "1        age_group  400495.163333    2  200247.581667  1998.750536   \n",
       "2  ads * age_group  232685.043333    2  116342.521667  1161.260853   \n",
       "3         Residual   59510.710000  594     100.186380          NaN   \n",
       "\n",
       "           p-unc       np2  \n",
       "0   6.446773e-60  0.361786  \n",
       "1  1.636934e-264  0.870631  \n",
       "2  5.618312e-206  0.796333  \n",
       "3            NaN       NaN  "
      ]
     },
     "execution_count": 86,
     "metadata": {},
     "output_type": "execute_result"
    }
   ],
   "source": [
    "#сделаем то же самое в pingouin\n",
    "#проверяет влияние факторов и их взаимодействие(n2 показывает влияние только этого фактора без учета других факторов)\n",
    "pg.anova(data=ads_clicks, dv='clicks', between=['ads','age_group'])"
   ]
  },
  {
   "cell_type": "code",
   "execution_count": 87,
   "id": "0acdd968",
   "metadata": {},
   "outputs": [
    {
     "data": {
      "text/html": [
       "<div>\n",
       "<style scoped>\n",
       "    .dataframe tbody tr th:only-of-type {\n",
       "        vertical-align: middle;\n",
       "    }\n",
       "\n",
       "    .dataframe tbody tr th {\n",
       "        vertical-align: top;\n",
       "    }\n",
       "\n",
       "    .dataframe thead th {\n",
       "        text-align: right;\n",
       "    }\n",
       "</style>\n",
       "<table border=\"1\" class=\"dataframe\">\n",
       "  <thead>\n",
       "    <tr style=\"text-align: right;\">\n",
       "      <th></th>\n",
       "      <th>Source</th>\n",
       "      <th>SS</th>\n",
       "      <th>DF</th>\n",
       "      <th>MS</th>\n",
       "      <th>F</th>\n",
       "      <th>p-unc</th>\n",
       "      <th>n2</th>\n",
       "    </tr>\n",
       "  </thead>\n",
       "  <tbody>\n",
       "    <tr>\n",
       "      <th>0</th>\n",
       "      <td>ads</td>\n",
       "      <td>33735.001667</td>\n",
       "      <td>1</td>\n",
       "      <td>33735.001667</td>\n",
       "      <td>336.722432</td>\n",
       "      <td>6.446773e-60</td>\n",
       "      <td>0.046440</td>\n",
       "    </tr>\n",
       "    <tr>\n",
       "      <th>1</th>\n",
       "      <td>age_group</td>\n",
       "      <td>400495.163333</td>\n",
       "      <td>2</td>\n",
       "      <td>200247.581667</td>\n",
       "      <td>1998.750536</td>\n",
       "      <td>1.636934e-264</td>\n",
       "      <td>0.551323</td>\n",
       "    </tr>\n",
       "    <tr>\n",
       "      <th>2</th>\n",
       "      <td>ads * age_group</td>\n",
       "      <td>232685.043333</td>\n",
       "      <td>2</td>\n",
       "      <td>116342.521667</td>\n",
       "      <td>1161.260853</td>\n",
       "      <td>5.618312e-206</td>\n",
       "      <td>0.320315</td>\n",
       "    </tr>\n",
       "    <tr>\n",
       "      <th>3</th>\n",
       "      <td>Residual</td>\n",
       "      <td>59510.710000</td>\n",
       "      <td>594</td>\n",
       "      <td>100.186380</td>\n",
       "      <td>NaN</td>\n",
       "      <td>NaN</td>\n",
       "      <td>NaN</td>\n",
       "    </tr>\n",
       "  </tbody>\n",
       "</table>\n",
       "</div>"
      ],
      "text/plain": [
       "            Source             SS   DF             MS            F  \\\n",
       "0              ads   33735.001667    1   33735.001667   336.722432   \n",
       "1        age_group  400495.163333    2  200247.581667  1998.750536   \n",
       "2  ads * age_group  232685.043333    2  116342.521667  1161.260853   \n",
       "3         Residual   59510.710000  594     100.186380          NaN   \n",
       "\n",
       "           p-unc        n2  \n",
       "0   6.446773e-60  0.046440  \n",
       "1  1.636934e-264  0.551323  \n",
       "2  5.618312e-206  0.320315  \n",
       "3            NaN       NaN  "
      ]
     },
     "execution_count": 87,
     "metadata": {},
     "output_type": "execute_result"
    }
   ],
   "source": [
    "#размер эффекта(n2 показывает влияние факторая с учетом других факторов общую дисперсию)\n",
    "pg.anova(data=ads_clicks, dv='clicks', between=['ads','age_group'], effsize='n2')"
   ]
  },
  {
   "cell_type": "code",
   "execution_count": null,
   "id": "349358ee",
   "metadata": {},
   "outputs": [],
   "source": []
  },
  {
   "cell_type": "code",
   "execution_count": 88,
   "id": "5fa95df6",
   "metadata": {},
   "outputs": [
    {
     "data": {
      "text/html": [
       "<div>\n",
       "<style scoped>\n",
       "    .dataframe tbody tr th:only-of-type {\n",
       "        vertical-align: middle;\n",
       "    }\n",
       "\n",
       "    .dataframe tbody tr th {\n",
       "        vertical-align: top;\n",
       "    }\n",
       "\n",
       "    .dataframe thead th {\n",
       "        text-align: right;\n",
       "    }\n",
       "</style>\n",
       "<table border=\"1\" class=\"dataframe\">\n",
       "  <thead>\n",
       "    <tr style=\"text-align: right;\">\n",
       "      <th></th>\n",
       "      <th>Source</th>\n",
       "      <th>SS</th>\n",
       "      <th>DF</th>\n",
       "      <th>MS</th>\n",
       "      <th>F</th>\n",
       "      <th>p-unc</th>\n",
       "      <th>np2</th>\n",
       "    </tr>\n",
       "  </thead>\n",
       "  <tbody>\n",
       "    <tr>\n",
       "      <th>0</th>\n",
       "      <td>ads</td>\n",
       "      <td>33735.001667</td>\n",
       "      <td>1</td>\n",
       "      <td>33735.001667</td>\n",
       "      <td>336.722432</td>\n",
       "      <td>6.446773e-60</td>\n",
       "      <td>0.361786</td>\n",
       "    </tr>\n",
       "    <tr>\n",
       "      <th>1</th>\n",
       "      <td>age_group</td>\n",
       "      <td>400495.163333</td>\n",
       "      <td>2</td>\n",
       "      <td>200247.581667</td>\n",
       "      <td>1998.750536</td>\n",
       "      <td>1.636934e-264</td>\n",
       "      <td>0.870631</td>\n",
       "    </tr>\n",
       "    <tr>\n",
       "      <th>2</th>\n",
       "      <td>ads * age_group</td>\n",
       "      <td>232685.043333</td>\n",
       "      <td>2</td>\n",
       "      <td>116342.521667</td>\n",
       "      <td>1161.260853</td>\n",
       "      <td>5.618312e-206</td>\n",
       "      <td>0.796333</td>\n",
       "    </tr>\n",
       "    <tr>\n",
       "      <th>3</th>\n",
       "      <td>Residual</td>\n",
       "      <td>59510.710000</td>\n",
       "      <td>594</td>\n",
       "      <td>100.186380</td>\n",
       "      <td>NaN</td>\n",
       "      <td>NaN</td>\n",
       "      <td>NaN</td>\n",
       "    </tr>\n",
       "  </tbody>\n",
       "</table>\n",
       "</div>"
      ],
      "text/plain": [
       "            Source             SS   DF             MS            F  \\\n",
       "0              ads   33735.001667    1   33735.001667   336.722432   \n",
       "1        age_group  400495.163333    2  200247.581667  1998.750536   \n",
       "2  ads * age_group  232685.043333    2  116342.521667  1161.260853   \n",
       "3         Residual   59510.710000  594     100.186380          NaN   \n",
       "\n",
       "           p-unc       np2  \n",
       "0   6.446773e-60  0.361786  \n",
       "1  1.636934e-264  0.870631  \n",
       "2  5.618312e-206  0.796333  \n",
       "3            NaN       NaN  "
      ]
     },
     "execution_count": 88,
     "metadata": {},
     "output_type": "execute_result"
    }
   ],
   "source": [
    "pg.anova(data=ads_clicks, dv='clicks', between=['ads','age_group'], ss_type=3)"
   ]
  },
  {
   "cell_type": "markdown",
   "id": "53befd95",
   "metadata": {},
   "source": [
    "В ss_type показывает как считается сумма квадратов эффектов:\n",
    "1. ss_type=1 считается попорялку -- 1 фактор, 2 фактор, взаимодействие;\n",
    "2. ss_type=2 считает главные факторы одновременно и потом взаимодействие -- считаем, если нам вожны именно главные факторы\n",
    "3. ss_type=3 сичтает все одновременно --считаем, если нам важно взаимодействие\n",
    "\n",
    "Не рекомендуется использовать ss_type=1, потому что она зависит от того в каком порядке мы вводим факторы."
   ]
  },
  {
   "cell_type": "markdown",
   "id": "93e67903",
   "metadata": {},
   "source": [
    "### Корреляция и регрессия"
   ]
  },
  {
   "cell_type": "markdown",
   "id": "da1d239d",
   "metadata": {},
   "source": [
    "#### Проверка гипотез\n",
    "- H0 – коэффициент корреляции равен нулю\n",
    "- H1 – коэффициент корреляции не равен нулю\n",
    "Значимость рассчитывается с использованием t-распределения с количеством степеней свободы df=N−2\n",
    "\n",
    "#### Условия применения:\n",
    "\n",
    "1. Связь линейна и монотонна (нарастает или убывает в одном направлении, не меняя его)\n",
    "2. Отсутствуют выбросы\n",
    "3. Переменные нормально распределены\n",
    "В случае нарушения этих допущений могут быть полезны коэффициенты корреляции Спирмена и Кэндалла, которые вместо реальных значений анализируют их ранги. "
   ]
  },
  {
   "cell_type": "code",
   "execution_count": null,
   "id": "d2f11f6f",
   "metadata": {},
   "outputs": [],
   "source": [
    "# import numpy as np\n",
    "# import scipy.stats as st\n",
    "# import pandas as pd\n",
    "\n",
    "# # через numpy (только Пирсона, без p-значений)\n",
    "# np.corrcoef(x, y)  # y опционален, можно дать массив с несколькими колонками, функция строит матрицу корреляций\n",
    "\n",
    "# # через scipy (даёт значение коэффициента корреляции и p-значение)\n",
    "# st.pearsonr(x, y) \n",
    "# st.spearmanr(x, y)\n",
    "# st.kendalltau(x, y) \n",
    "\n",
    "# # через pandas (сравнение pandas Series)\n",
    "# df.corr()\n",
    "# df.corr(method='spearman')\n",
    "# df.corr(method='kendall')"
   ]
  },
  {
   "cell_type": "code",
   "execution_count": null,
   "id": "d94e00fa",
   "metadata": {},
   "outputs": [],
   "source": []
  },
  {
   "cell_type": "code",
   "execution_count": 104,
   "id": "e352b45d",
   "metadata": {},
   "outputs": [],
   "source": [
    "import seaborn as sns\n",
    "import scipy.stats"
   ]
  },
  {
   "cell_type": "markdown",
   "id": "2cca8473",
   "metadata": {},
   "source": [
    "Подгружаем из библиотеки seaborn случайный датасет;"
   ]
  },
  {
   "cell_type": "code",
   "execution_count": 99,
   "id": "4be0c6f5",
   "metadata": {},
   "outputs": [
    {
     "data": {
      "text/html": [
       "<div>\n",
       "<style scoped>\n",
       "    .dataframe tbody tr th:only-of-type {\n",
       "        vertical-align: middle;\n",
       "    }\n",
       "\n",
       "    .dataframe tbody tr th {\n",
       "        vertical-align: top;\n",
       "    }\n",
       "\n",
       "    .dataframe thead th {\n",
       "        text-align: right;\n",
       "    }\n",
       "</style>\n",
       "<table border=\"1\" class=\"dataframe\">\n",
       "  <thead>\n",
       "    <tr style=\"text-align: right;\">\n",
       "      <th></th>\n",
       "      <th>total_bill</th>\n",
       "      <th>tip</th>\n",
       "      <th>sex</th>\n",
       "      <th>smoker</th>\n",
       "      <th>day</th>\n",
       "      <th>time</th>\n",
       "      <th>size</th>\n",
       "    </tr>\n",
       "  </thead>\n",
       "  <tbody>\n",
       "    <tr>\n",
       "      <th>0</th>\n",
       "      <td>16.99</td>\n",
       "      <td>1.01</td>\n",
       "      <td>Female</td>\n",
       "      <td>No</td>\n",
       "      <td>Sun</td>\n",
       "      <td>Dinner</td>\n",
       "      <td>2</td>\n",
       "    </tr>\n",
       "    <tr>\n",
       "      <th>1</th>\n",
       "      <td>10.34</td>\n",
       "      <td>1.66</td>\n",
       "      <td>Male</td>\n",
       "      <td>No</td>\n",
       "      <td>Sun</td>\n",
       "      <td>Dinner</td>\n",
       "      <td>3</td>\n",
       "    </tr>\n",
       "    <tr>\n",
       "      <th>2</th>\n",
       "      <td>21.01</td>\n",
       "      <td>3.50</td>\n",
       "      <td>Male</td>\n",
       "      <td>No</td>\n",
       "      <td>Sun</td>\n",
       "      <td>Dinner</td>\n",
       "      <td>3</td>\n",
       "    </tr>\n",
       "    <tr>\n",
       "      <th>3</th>\n",
       "      <td>23.68</td>\n",
       "      <td>3.31</td>\n",
       "      <td>Male</td>\n",
       "      <td>No</td>\n",
       "      <td>Sun</td>\n",
       "      <td>Dinner</td>\n",
       "      <td>2</td>\n",
       "    </tr>\n",
       "    <tr>\n",
       "      <th>4</th>\n",
       "      <td>24.59</td>\n",
       "      <td>3.61</td>\n",
       "      <td>Female</td>\n",
       "      <td>No</td>\n",
       "      <td>Sun</td>\n",
       "      <td>Dinner</td>\n",
       "      <td>4</td>\n",
       "    </tr>\n",
       "  </tbody>\n",
       "</table>\n",
       "</div>"
      ],
      "text/plain": [
       "   total_bill   tip     sex smoker  day    time  size\n",
       "0       16.99  1.01  Female     No  Sun  Dinner     2\n",
       "1       10.34  1.66    Male     No  Sun  Dinner     3\n",
       "2       21.01  3.50    Male     No  Sun  Dinner     3\n",
       "3       23.68  3.31    Male     No  Sun  Dinner     2\n",
       "4       24.59  3.61  Female     No  Sun  Dinner     4"
      ]
     },
     "execution_count": 99,
     "metadata": {},
     "output_type": "execute_result"
    }
   ],
   "source": [
    "tips = sns.load_dataset('tips')\n",
    "tips.head()"
   ]
  },
  {
   "cell_type": "code",
   "execution_count": 100,
   "id": "8903a7e3",
   "metadata": {},
   "outputs": [
    {
     "data": {
      "text/plain": [
       "(244, 7)"
      ]
     },
     "execution_count": 100,
     "metadata": {},
     "output_type": "execute_result"
    }
   ],
   "source": [
    "tips.shape"
   ]
  },
  {
   "cell_type": "markdown",
   "id": "f5d899d9",
   "metadata": {},
   "source": [
    "Построим график скетерплота для данного распределения."
   ]
  },
  {
   "cell_type": "code",
   "execution_count": 101,
   "id": "87996619",
   "metadata": {},
   "outputs": [
    {
     "data": {
      "text/plain": [
       "<Axes: xlabel='total_bill', ylabel='tip'>"
      ]
     },
     "execution_count": 101,
     "metadata": {},
     "output_type": "execute_result"
    },
    {
     "data": {
      "image/png": "[encoded data removed]",
      "text/plain": [
       "<Figure size 640x480 with 1 Axes>"
      ]
     },
     "metadata": {},
     "output_type": "display_data"
    }
   ],
   "source": [
    "sns.scatterplot(data=tips, x='total_bill', y='tip')"
   ]
  },
  {
   "cell_type": "markdown",
   "id": "71d6b641",
   "metadata": {},
   "source": [
    "Не удивительно, по графику мы наблюдаем корреляцию, что при большем чеке == больше чаевые. \n",
    "\n",
    "Измерим нашу корреляцию с помощью корреляции Пирсона и его непараметрического аналога -- корреляции Спирмена."
   ]
  },
  {
   "cell_type": "code",
   "execution_count": 102,
   "id": "eff32063",
   "metadata": {},
   "outputs": [
    {
     "data": {
      "text/plain": [
       "array([[1.        , 0.67573411],\n",
       "       [0.67573411, 1.        ]])"
      ]
     },
     "execution_count": 102,
     "metadata": {},
     "output_type": "execute_result"
    }
   ],
   "source": [
    "np.corrcoef(tips.total_bill, tips.tip)"
   ]
  },
  {
   "cell_type": "markdown",
   "id": "cc8485bf",
   "metadata": {},
   "source": [
    "Докажем что корреляция стат значима:\n",
    "- Н0 - корреляции нет, все в пределах нормы;\n",
    "- Н1 - корреляция есть, данные взаимосвязанны между собой;"
   ]
  },
  {
   "cell_type": "code",
   "execution_count": 105,
   "id": "227cb014",
   "metadata": {},
   "outputs": [
    {
     "data": {
      "text/plain": [
       "PearsonRResult(statistic=0.6757341092113647, pvalue=6.692470646863343e-34)"
      ]
     },
     "execution_count": 105,
     "metadata": {},
     "output_type": "execute_result"
    }
   ],
   "source": [
    "scipy.stats.pearsonr(tips.total_bill, tips.tip)"
   ]
  },
  {
   "cell_type": "code",
   "execution_count": 106,
   "id": "158d0c6c",
   "metadata": {},
   "outputs": [
    {
     "data": {
      "text/plain": [
       "SignificanceResult(statistic=0.6789681219001009, pvalue=2.501158440923619e-34)"
      ]
     },
     "execution_count": 106,
     "metadata": {},
     "output_type": "execute_result"
    }
   ],
   "source": [
    "scipy.stats.spearmanr(tips.total_bill, tips.tip)"
   ]
  },
  {
   "cell_type": "markdown",
   "id": "b3c5dd8a",
   "metadata": {},
   "source": [
    "Данный пример про идеальную модель, в жизни такое можно встретить редко;\n",
    "\n",
    "Загрузим новый датасет и проанализируем его."
   ]
  },
  {
   "cell_type": "code",
   "execution_count": 123,
   "id": "c64c68f7",
   "metadata": {},
   "outputs": [
    {
     "data": {
      "text/html": [
       "<div>\n",
       "<style scoped>\n",
       "    .dataframe tbody tr th:only-of-type {\n",
       "        vertical-align: middle;\n",
       "    }\n",
       "\n",
       "    .dataframe tbody tr th {\n",
       "        vertical-align: top;\n",
       "    }\n",
       "\n",
       "    .dataframe thead th {\n",
       "        text-align: right;\n",
       "    }\n",
       "</style>\n",
       "<table border=\"1\" class=\"dataframe\">\n",
       "  <thead>\n",
       "    <tr style=\"text-align: right;\">\n",
       "      <th></th>\n",
       "      <th>CRIM</th>\n",
       "      <th>ZN</th>\n",
       "      <th>INDUS</th>\n",
       "      <th>CHAS</th>\n",
       "      <th>NOX</th>\n",
       "      <th>RM</th>\n",
       "      <th>AGE</th>\n",
       "      <th>DIS</th>\n",
       "      <th>RAD</th>\n",
       "      <th>TAX</th>\n",
       "      <th>PTRATIO</th>\n",
       "    </tr>\n",
       "  </thead>\n",
       "  <tbody>\n",
       "    <tr>\n",
       "      <th>0</th>\n",
       "      <td>0.00632</td>\n",
       "      <td>18.0</td>\n",
       "      <td>2.31</td>\n",
       "      <td>0.0</td>\n",
       "      <td>0.538</td>\n",
       "      <td>6.575</td>\n",
       "      <td>65.2</td>\n",
       "      <td>4.0900</td>\n",
       "      <td>1.0</td>\n",
       "      <td>296.0</td>\n",
       "      <td>15.3</td>\n",
       "    </tr>\n",
       "    <tr>\n",
       "      <th>2</th>\n",
       "      <td>0.02731</td>\n",
       "      <td>0.0</td>\n",
       "      <td>7.07</td>\n",
       "      <td>0.0</td>\n",
       "      <td>0.469</td>\n",
       "      <td>6.421</td>\n",
       "      <td>78.9</td>\n",
       "      <td>4.9671</td>\n",
       "      <td>2.0</td>\n",
       "      <td>242.0</td>\n",
       "      <td>17.8</td>\n",
       "    </tr>\n",
       "    <tr>\n",
       "      <th>4</th>\n",
       "      <td>0.02729</td>\n",
       "      <td>0.0</td>\n",
       "      <td>7.07</td>\n",
       "      <td>0.0</td>\n",
       "      <td>0.469</td>\n",
       "      <td>7.185</td>\n",
       "      <td>61.1</td>\n",
       "      <td>4.9671</td>\n",
       "      <td>2.0</td>\n",
       "      <td>242.0</td>\n",
       "      <td>17.8</td>\n",
       "    </tr>\n",
       "    <tr>\n",
       "      <th>6</th>\n",
       "      <td>0.03237</td>\n",
       "      <td>0.0</td>\n",
       "      <td>2.18</td>\n",
       "      <td>0.0</td>\n",
       "      <td>0.458</td>\n",
       "      <td>6.998</td>\n",
       "      <td>45.8</td>\n",
       "      <td>6.0622</td>\n",
       "      <td>3.0</td>\n",
       "      <td>222.0</td>\n",
       "      <td>18.7</td>\n",
       "    </tr>\n",
       "    <tr>\n",
       "      <th>8</th>\n",
       "      <td>0.06905</td>\n",
       "      <td>0.0</td>\n",
       "      <td>2.18</td>\n",
       "      <td>0.0</td>\n",
       "      <td>0.458</td>\n",
       "      <td>7.147</td>\n",
       "      <td>54.2</td>\n",
       "      <td>6.0622</td>\n",
       "      <td>3.0</td>\n",
       "      <td>222.0</td>\n",
       "      <td>18.7</td>\n",
       "    </tr>\n",
       "  </tbody>\n",
       "</table>\n",
       "</div>"
      ],
      "text/plain": [
       "      CRIM    ZN  INDUS  CHAS    NOX     RM   AGE     DIS  RAD    TAX  PTRATIO\n",
       "0  0.00632  18.0   2.31   0.0  0.538  6.575  65.2  4.0900  1.0  296.0     15.3\n",
       "2  0.02731   0.0   7.07   0.0  0.469  6.421  78.9  4.9671  2.0  242.0     17.8\n",
       "4  0.02729   0.0   7.07   0.0  0.469  7.185  61.1  4.9671  2.0  242.0     17.8\n",
       "6  0.03237   0.0   2.18   0.0  0.458  6.998  45.8  6.0622  3.0  222.0     18.7\n",
       "8  0.06905   0.0   2.18   0.0  0.458  7.147  54.2  6.0622  3.0  222.0     18.7"
      ]
     },
     "execution_count": 123,
     "metadata": {},
     "output_type": "execute_result"
    }
   ],
   "source": [
    "import pandas as pd\n",
    "\n",
    "data_url = \"http://lib.stat.cmu.edu/datasets/boston\"\n",
    "column_names = ['CRIM', 'ZN', 'INDUS', 'CHAS', 'NOX', 'RM', 'AGE', 'DIS', 'RAD', 'TAX', 'PTRATIO']\n",
    "raw_df = pd.read_csv(data_url, sep=\"\\s+\", skiprows=22, header=None, names=column_names)\n",
    "# Удаление строк с пропущенными значениями\n",
    "raw_df.dropna(inplace=True)\n",
    "\n",
    "# Выводим первые строки DataFrame для проверки\n",
    "raw_df.head()"
   ]
  },
  {
   "cell_type": "code",
   "execution_count": 124,
   "id": "10e4f895",
   "metadata": {},
   "outputs": [
    {
     "data": {
      "text/plain": [
       "<Axes: xlabel='CRIM', ylabel='AGE'>"
      ]
     },
     "execution_count": 124,
     "metadata": {},
     "output_type": "execute_result"
    },
    {
     "data": {
      "image/png": "[encoded data removed]",
      "text/plain": [
       "<Figure size 640x480 with 1 Axes>"
      ]
     },
     "metadata": {},
     "output_type": "display_data"
    }
   ],
   "source": [
    "sns.scatterplot(data=raw_df, x='CRIM', y='AGE')"
   ]
  },
  {
   "cell_type": "markdown",
   "id": "c5104d36",
   "metadata": {},
   "source": [
    "Почему же у нас получились такие данные? \n",
    "- Данные необходимо преподготовить;\n",
    "\n",
    "Построим графики наших переменных и посмотрим, что же может быть в них не так."
   ]
  },
  {
   "cell_type": "code",
   "execution_count": 125,
   "id": "758d497f",
   "metadata": {},
   "outputs": [
    {
     "data": {
      "text/plain": [
       "<seaborn.axisgrid.FacetGrid at 0x26dd67c20e0>"
      ]
     },
     "execution_count": 125,
     "metadata": {},
     "output_type": "execute_result"
    },
    {
     "data": {
      "image/png": "[encoded data removed]",
      "text/plain": [
       "<Figure size 500x500 with 1 Axes>"
      ]
     },
     "metadata": {},
     "output_type": "display_data"
    }
   ],
   "source": [
    "sns.displot(raw_df.CRIM)"
   ]
  },
  {
   "cell_type": "markdown",
   "id": "6dac4de0",
   "metadata": {},
   "source": [
    "По графику выше: переменные зажаты в одной области"
   ]
  },
  {
   "cell_type": "code",
   "execution_count": 126,
   "id": "1aa65a0e",
   "metadata": {},
   "outputs": [
    {
     "data": {
      "text/plain": [
       "<seaborn.axisgrid.FacetGrid at 0x26dd6805720>"
      ]
     },
     "execution_count": 126,
     "metadata": {},
     "output_type": "execute_result"
    },
    {
     "data": {
      "image/png": "[encoded data removed]",
      "text/plain": [
       "<Figure size 500x500 with 1 Axes>"
      ]
     },
     "metadata": {},
     "output_type": "display_data"
    }
   ],
   "source": [
    "sns.displot(raw_df.AGE)"
   ]
  },
  {
   "cell_type": "markdown",
   "id": "b70ce2c4",
   "metadata": {},
   "source": [
    "Вывод: распределение с возрастом увеличивается.\n",
    "\n",
    "Как мы изучали ранее, данные можно логарифмировать, чтобы сгладить выбросы:"
   ]
  },
  {
   "cell_type": "code",
   "execution_count": 128,
   "id": "78e8a952",
   "metadata": {},
   "outputs": [],
   "source": [
    "raw_df['CRM_log'] = np.log(raw_df.CRIM)"
   ]
  },
  {
   "cell_type": "code",
   "execution_count": 131,
   "id": "47a8d9d9",
   "metadata": {},
   "outputs": [
    {
     "data": {
      "text/plain": [
       "<seaborn.axisgrid.FacetGrid at 0x26dd9354730>"
      ]
     },
     "execution_count": 131,
     "metadata": {},
     "output_type": "execute_result"
    },
    {
     "data": {
      "image/png": "[encoded data removed]",
      "text/plain": [
       "<Figure size 500x500 with 1 Axes>"
      ]
     },
     "metadata": {},
     "output_type": "display_data"
    }
   ],
   "source": [
    "sns.displot(raw_df.CRM_log)"
   ]
  },
  {
   "cell_type": "markdown",
   "id": "7e149739",
   "metadata": {},
   "source": [
    "Распределение уже становится более нормальным, построим график с логарифмированными данными:"
   ]
  },
  {
   "cell_type": "code",
   "execution_count": 129,
   "id": "0fe59dc2",
   "metadata": {},
   "outputs": [
    {
     "data": {
      "text/plain": [
       "<Axes: xlabel='CRM_log', ylabel='AGE'>"
      ]
     },
     "execution_count": 129,
     "metadata": {},
     "output_type": "execute_result"
    },
    {
     "data": {
      "image/png": "[encoded data removed]",
      "text/plain": [
       "<Figure size 640x480 with 1 Axes>"
      ]
     },
     "metadata": {},
     "output_type": "display_data"
    }
   ],
   "source": [
    "sns.scatterplot(data=raw_df, x='CRM_log', y='AGE')"
   ]
  },
  {
   "cell_type": "markdown",
   "id": "4cc3fca2",
   "metadata": {},
   "source": [
    "На графике мы видим положительную взаимосвязь.\n",
    "\n",
    "Можем сделать вывод - корреляци между объектами существует.\n",
    "\n",
    "Для дополнительной проверки используем непараметрический критерий Спирмена, потому что есть явные выбросы -- используем непараметрику"
   ]
  },
  {
   "cell_type": "code",
   "execution_count": 130,
   "id": "01ea8986",
   "metadata": {},
   "outputs": [
    {
     "data": {
      "text/plain": [
       "SignificanceResult(statistic=0.7041399841460586, pvalue=5.689192531057184e-77)"
      ]
     },
     "execution_count": 130,
     "metadata": {},
     "output_type": "execute_result"
    }
   ],
   "source": [
    "scipy.stats.spearmanr(raw_df.CRM_log, raw_df.AGE)"
   ]
  },
  {
   "cell_type": "markdown",
   "id": "1cec434b",
   "metadata": {},
   "source": [
    "При статистической проверке есть довольно сильная корреляция между атрибутами в 0,7\n",
    "\n",
    "Проверим что бы показали статистические тесты на данных, которые мы не логарифмировали:"
   ]
  },
  {
   "cell_type": "code",
   "execution_count": 133,
   "id": "09ec91fc",
   "metadata": {},
   "outputs": [
    {
     "data": {
      "text/plain": [
       "SignificanceResult(statistic=0.7041399841460586, pvalue=5.689192531057184e-77)"
      ]
     },
     "execution_count": 133,
     "metadata": {},
     "output_type": "execute_result"
    }
   ],
   "source": [
    "scipy.stats.spearmanr(raw_df.CRIM, raw_df.AGE)"
   ]
  },
  {
   "cell_type": "markdown",
   "id": "565a21ce",
   "metadata": {},
   "source": [
    "Статистический тест показал такой же результат как и с логарифмированными значениями -- почему?\n",
    "- мы использовали непараметрический критерий\n",
    "\n",
    "Можем проверить корреляцию всех атрибутов друг с другом, его можно использовать при проверке корреляции на графике, чтобы понять корреляция есть, даже если на графике ее нету. \n",
    "\n",
    "Используем как шпаргалку для более глубокой аналитике, преобразовании самих данных"
   ]
  },
  {
   "cell_type": "code",
   "execution_count": 134,
   "id": "b126fb59",
   "metadata": {},
   "outputs": [
    {
     "data": {
      "text/html": [
       "<div>\n",
       "<style scoped>\n",
       "    .dataframe tbody tr th:only-of-type {\n",
       "        vertical-align: middle;\n",
       "    }\n",
       "\n",
       "    .dataframe tbody tr th {\n",
       "        vertical-align: top;\n",
       "    }\n",
       "\n",
       "    .dataframe thead th {\n",
       "        text-align: right;\n",
       "    }\n",
       "</style>\n",
       "<table border=\"1\" class=\"dataframe\">\n",
       "  <thead>\n",
       "    <tr style=\"text-align: right;\">\n",
       "      <th></th>\n",
       "      <th>CRIM</th>\n",
       "      <th>ZN</th>\n",
       "      <th>INDUS</th>\n",
       "      <th>CHAS</th>\n",
       "      <th>NOX</th>\n",
       "      <th>RM</th>\n",
       "      <th>AGE</th>\n",
       "      <th>DIS</th>\n",
       "      <th>RAD</th>\n",
       "      <th>TAX</th>\n",
       "      <th>PTRATIO</th>\n",
       "      <th>CRM_log</th>\n",
       "    </tr>\n",
       "  </thead>\n",
       "  <tbody>\n",
       "    <tr>\n",
       "      <th>CRIM</th>\n",
       "      <td>1.000000</td>\n",
       "      <td>-0.200469</td>\n",
       "      <td>0.406583</td>\n",
       "      <td>-0.055892</td>\n",
       "      <td>0.420972</td>\n",
       "      <td>-0.219247</td>\n",
       "      <td>0.352734</td>\n",
       "      <td>-0.379670</td>\n",
       "      <td>0.625505</td>\n",
       "      <td>0.582764</td>\n",
       "      <td>0.289946</td>\n",
       "      <td>0.666486</td>\n",
       "    </tr>\n",
       "    <tr>\n",
       "      <th>ZN</th>\n",
       "      <td>-0.200469</td>\n",
       "      <td>1.000000</td>\n",
       "      <td>-0.533828</td>\n",
       "      <td>-0.042697</td>\n",
       "      <td>-0.516604</td>\n",
       "      <td>0.311991</td>\n",
       "      <td>-0.569537</td>\n",
       "      <td>0.664408</td>\n",
       "      <td>-0.311948</td>\n",
       "      <td>-0.314563</td>\n",
       "      <td>-0.391679</td>\n",
       "      <td>-0.517091</td>\n",
       "    </tr>\n",
       "    <tr>\n",
       "      <th>INDUS</th>\n",
       "      <td>0.406583</td>\n",
       "      <td>-0.533828</td>\n",
       "      <td>1.000000</td>\n",
       "      <td>0.062938</td>\n",
       "      <td>0.763651</td>\n",
       "      <td>-0.391676</td>\n",
       "      <td>0.644779</td>\n",
       "      <td>-0.708027</td>\n",
       "      <td>0.595129</td>\n",
       "      <td>0.720760</td>\n",
       "      <td>0.383248</td>\n",
       "      <td>0.730821</td>\n",
       "    </tr>\n",
       "    <tr>\n",
       "      <th>CHAS</th>\n",
       "      <td>-0.055892</td>\n",
       "      <td>-0.042697</td>\n",
       "      <td>0.062938</td>\n",
       "      <td>1.000000</td>\n",
       "      <td>0.091203</td>\n",
       "      <td>0.091251</td>\n",
       "      <td>0.086518</td>\n",
       "      <td>-0.099176</td>\n",
       "      <td>-0.007368</td>\n",
       "      <td>-0.035587</td>\n",
       "      <td>-0.121515</td>\n",
       "      <td>0.028496</td>\n",
       "    </tr>\n",
       "    <tr>\n",
       "      <th>NOX</th>\n",
       "      <td>0.420972</td>\n",
       "      <td>-0.516604</td>\n",
       "      <td>0.763651</td>\n",
       "      <td>0.091203</td>\n",
       "      <td>1.000000</td>\n",
       "      <td>-0.302188</td>\n",
       "      <td>0.731470</td>\n",
       "      <td>-0.769230</td>\n",
       "      <td>0.611441</td>\n",
       "      <td>0.668023</td>\n",
       "      <td>0.188933</td>\n",
       "      <td>0.788616</td>\n",
       "    </tr>\n",
       "    <tr>\n",
       "      <th>RM</th>\n",
       "      <td>-0.219247</td>\n",
       "      <td>0.311991</td>\n",
       "      <td>-0.391676</td>\n",
       "      <td>0.091251</td>\n",
       "      <td>-0.302188</td>\n",
       "      <td>1.000000</td>\n",
       "      <td>-0.240265</td>\n",
       "      <td>0.205246</td>\n",
       "      <td>-0.209847</td>\n",
       "      <td>-0.292048</td>\n",
       "      <td>-0.355501</td>\n",
       "      <td>-0.306943</td>\n",
       "    </tr>\n",
       "    <tr>\n",
       "      <th>AGE</th>\n",
       "      <td>0.352734</td>\n",
       "      <td>-0.569537</td>\n",
       "      <td>0.644779</td>\n",
       "      <td>0.086518</td>\n",
       "      <td>0.731470</td>\n",
       "      <td>-0.240265</td>\n",
       "      <td>1.000000</td>\n",
       "      <td>-0.747881</td>\n",
       "      <td>0.456022</td>\n",
       "      <td>0.506456</td>\n",
       "      <td>0.261515</td>\n",
       "      <td>0.658284</td>\n",
       "    </tr>\n",
       "    <tr>\n",
       "      <th>DIS</th>\n",
       "      <td>-0.379670</td>\n",
       "      <td>0.664408</td>\n",
       "      <td>-0.708027</td>\n",
       "      <td>-0.099176</td>\n",
       "      <td>-0.769230</td>\n",
       "      <td>0.205246</td>\n",
       "      <td>-0.747881</td>\n",
       "      <td>1.000000</td>\n",
       "      <td>-0.494588</td>\n",
       "      <td>-0.534432</td>\n",
       "      <td>-0.232471</td>\n",
       "      <td>-0.681903</td>\n",
       "    </tr>\n",
       "    <tr>\n",
       "      <th>RAD</th>\n",
       "      <td>0.625505</td>\n",
       "      <td>-0.311948</td>\n",
       "      <td>0.595129</td>\n",
       "      <td>-0.007368</td>\n",
       "      <td>0.611441</td>\n",
       "      <td>-0.209847</td>\n",
       "      <td>0.456022</td>\n",
       "      <td>-0.494588</td>\n",
       "      <td>1.000000</td>\n",
       "      <td>0.910228</td>\n",
       "      <td>0.464741</td>\n",
       "      <td>0.853407</td>\n",
       "    </tr>\n",
       "    <tr>\n",
       "      <th>TAX</th>\n",
       "      <td>0.582764</td>\n",
       "      <td>-0.314563</td>\n",
       "      <td>0.720760</td>\n",
       "      <td>-0.035587</td>\n",
       "      <td>0.668023</td>\n",
       "      <td>-0.292048</td>\n",
       "      <td>0.506456</td>\n",
       "      <td>-0.534432</td>\n",
       "      <td>0.910228</td>\n",
       "      <td>1.000000</td>\n",
       "      <td>0.460853</td>\n",
       "      <td>0.828234</td>\n",
       "    </tr>\n",
       "    <tr>\n",
       "      <th>PTRATIO</th>\n",
       "      <td>0.289946</td>\n",
       "      <td>-0.391679</td>\n",
       "      <td>0.383248</td>\n",
       "      <td>-0.121515</td>\n",
       "      <td>0.188933</td>\n",
       "      <td>-0.355501</td>\n",
       "      <td>0.261515</td>\n",
       "      <td>-0.232471</td>\n",
       "      <td>0.464741</td>\n",
       "      <td>0.460853</td>\n",
       "      <td>1.000000</td>\n",
       "      <td>0.389554</td>\n",
       "    </tr>\n",
       "    <tr>\n",
       "      <th>CRM_log</th>\n",
       "      <td>0.666486</td>\n",
       "      <td>-0.517091</td>\n",
       "      <td>0.730821</td>\n",
       "      <td>0.028496</td>\n",
       "      <td>0.788616</td>\n",
       "      <td>-0.306943</td>\n",
       "      <td>0.658284</td>\n",
       "      <td>-0.681903</td>\n",
       "      <td>0.853407</td>\n",
       "      <td>0.828234</td>\n",
       "      <td>0.389554</td>\n",
       "      <td>1.000000</td>\n",
       "    </tr>\n",
       "  </tbody>\n",
       "</table>\n",
       "</div>"
      ],
      "text/plain": [
       "             CRIM        ZN     INDUS      CHAS       NOX        RM       AGE  \\\n",
       "CRIM     1.000000 -0.200469  0.406583 -0.055892  0.420972 -0.219247  0.352734   \n",
       "ZN      -0.200469  1.000000 -0.533828 -0.042697 -0.516604  0.311991 -0.569537   \n",
       "INDUS    0.406583 -0.533828  1.000000  0.062938  0.763651 -0.391676  0.644779   \n",
       "CHAS    -0.055892 -0.042697  0.062938  1.000000  0.091203  0.091251  0.086518   \n",
       "NOX      0.420972 -0.516604  0.763651  0.091203  1.000000 -0.302188  0.731470   \n",
       "RM      -0.219247  0.311991 -0.391676  0.091251 -0.302188  1.000000 -0.240265   \n",
       "AGE      0.352734 -0.569537  0.644779  0.086518  0.731470 -0.240265  1.000000   \n",
       "DIS     -0.379670  0.664408 -0.708027 -0.099176 -0.769230  0.205246 -0.747881   \n",
       "RAD      0.625505 -0.311948  0.595129 -0.007368  0.611441 -0.209847  0.456022   \n",
       "TAX      0.582764 -0.314563  0.720760 -0.035587  0.668023 -0.292048  0.506456   \n",
       "PTRATIO  0.289946 -0.391679  0.383248 -0.121515  0.188933 -0.355501  0.261515   \n",
       "CRM_log  0.666486 -0.517091  0.730821  0.028496  0.788616 -0.306943  0.658284   \n",
       "\n",
       "              DIS       RAD       TAX   PTRATIO   CRM_log  \n",
       "CRIM    -0.379670  0.625505  0.582764  0.289946  0.666486  \n",
       "ZN       0.664408 -0.311948 -0.314563 -0.391679 -0.517091  \n",
       "INDUS   -0.708027  0.595129  0.720760  0.383248  0.730821  \n",
       "CHAS    -0.099176 -0.007368 -0.035587 -0.121515  0.028496  \n",
       "NOX     -0.769230  0.611441  0.668023  0.188933  0.788616  \n",
       "RM       0.205246 -0.209847 -0.292048 -0.355501 -0.306943  \n",
       "AGE     -0.747881  0.456022  0.506456  0.261515  0.658284  \n",
       "DIS      1.000000 -0.494588 -0.534432 -0.232471 -0.681903  \n",
       "RAD     -0.494588  1.000000  0.910228  0.464741  0.853407  \n",
       "TAX     -0.534432  0.910228  1.000000  0.460853  0.828234  \n",
       "PTRATIO -0.232471  0.464741  0.460853  1.000000  0.389554  \n",
       "CRM_log -0.681903  0.853407  0.828234  0.389554  1.000000  "
      ]
     },
     "execution_count": 134,
     "metadata": {},
     "output_type": "execute_result"
    }
   ],
   "source": [
    "raw_df.corr()"
   ]
  },
  {
   "cell_type": "markdown",
   "id": "ff0ad865",
   "metadata": {},
   "source": [
    "#### Регрессия"
   ]
  },
  {
   "cell_type": "code",
   "execution_count": 135,
   "id": "dd26972a",
   "metadata": {},
   "outputs": [
    {
     "data": {
      "text/plain": [
       "<Axes: xlabel='total_bill', ylabel='tip'>"
      ]
     },
     "execution_count": 135,
     "metadata": {},
     "output_type": "execute_result"
    },
    {
     "data": {
      "image/png": "[encoded data removed]",
      "text/plain": [
       "<Figure size 640x480 with 1 Axes>"
      ]
     },
     "metadata": {},
     "output_type": "display_data"
    }
   ],
   "source": [
    "sns.regplot(data=tips, x='total_bill', y='tip')"
   ]
  },
  {
   "cell_type": "markdown",
   "id": "df051e29",
   "metadata": {},
   "source": [
    "Регрессия - это аппроксимация наложенная на график корреляции. Оптимальная аппроксимация рассчитывается МНК."
   ]
  },
  {
   "cell_type": "markdown",
   "id": "07f10ab6",
   "metadata": {},
   "source": [
    "### Множественный регрессионный анализ"
   ]
  },
  {
   "cell_type": "code",
   "execution_count": null,
   "id": "3c8ef12e",
   "metadata": {},
   "outputs": [],
   "source": []
  },
  {
   "cell_type": "code",
   "execution_count": null,
   "id": "537fc1a0",
   "metadata": {},
   "outputs": [],
   "source": []
  },
  {
   "cell_type": "markdown",
   "id": "08f7caad",
   "metadata": {},
   "source": [
    "### MDE и Мощность теста"
   ]
  },
  {
   "cell_type": "code",
   "execution_count": 137,
   "id": "d77dd104",
   "metadata": {},
   "outputs": [],
   "source": [
    "import pandas as pd\n",
    "import numpy as np\n",
    "from scipy import stats"
   ]
  },
  {
   "cell_type": "markdown",
   "id": "c631c272",
   "metadata": {},
   "source": [
    "Данные для эксперимента:"
   ]
  },
  {
   "cell_type": "code",
   "execution_count": 175,
   "id": "bb5e2db8",
   "metadata": {},
   "outputs": [],
   "source": [
    "n = 10 #размер выборки\n",
    "mu = 100 #среднее в выборке 1\n",
    "sigma = 10 #стандартное отклонение\n",
    "diff = 0.1 #различие в среднем во второй выборке"
   ]
  },
  {
   "cell_type": "code",
   "execution_count": 176,
   "id": "ee9d5778",
   "metadata": {},
   "outputs": [],
   "source": [
    "n_trials = 1000  #количсетво экспериментов\n",
    "significant_count = 0 #счетчик"
   ]
  },
  {
   "cell_type": "code",
   "execution_count": 177,
   "id": "ddf9b1fd",
   "metadata": {},
   "outputs": [],
   "source": [
    "#учет количества стат значимых различий\n",
    "for i in range(n_trials):\n",
    "    control_group = np.random.normal(mu, sigma, n)\n",
    "    exp_group     = np.random.normal(mu+mu*diff, sigma, n)\n",
    "    test_fit = stats.ttest_ind(control_group, exp_group)\n",
    "    if test_fit.pvalue < 0.05:\n",
    "        significant_count += 1"
   ]
  },
  {
   "cell_type": "code",
   "execution_count": 178,
   "id": "223913f3",
   "metadata": {},
   "outputs": [
    {
     "data": {
      "text/plain": [
       "0.559"
      ]
     },
     "execution_count": 178,
     "metadata": {},
     "output_type": "execute_result"
    }
   ],
   "source": [
    "significant_count/n_trials"
   ]
  },
  {
   "cell_type": "markdown",
   "id": "7e7a8da6",
   "metadata": {},
   "source": [
    "Что такое мощность стат теста? \n",
    "- это то с какой вероятностью наш стат тест реально задетектирует стат значимые различия"
   ]
  },
  {
   "cell_type": "markdown",
   "id": "7a94c1a4",
   "metadata": {},
   "source": [
    "Что же происходит в нашем эксперименте?\n",
    "- при увеличении объема выборки мощность А-В тестов увеличивается, с большей вероятностью задетектируют различия, даже если они очень маленькие; при n = 1000 и diff = 0.1\n",
    "- если у нас различия большие, то даже маленький размер выборки эти различия покажет, например n = 10 и diff = 0.1\n",
    "\n",
    "#### Вывод: \n",
    "Предпологаем какой эффект мы ожидаем увидеть в эксперименте, дальше расчитываем размер выборки, который необходим, чтобы задетектировать данный эффект с очень высокой вероятностью"
   ]
  },
  {
   "cell_type": "code",
   "execution_count": null,
   "id": "37010b74",
   "metadata": {},
   "outputs": [],
   "source": []
  },
  {
   "cell_type": "code",
   "execution_count": null,
   "id": "9369b7ab",
   "metadata": {},
   "outputs": [],
   "source": []
  },
  {
   "cell_type": "code",
   "execution_count": null,
   "id": "c83c18a5",
   "metadata": {},
   "outputs": [],
   "source": []
  },
  {
   "cell_type": "code",
   "execution_count": null,
   "id": "6fb75826",
   "metadata": {},
   "outputs": [],
   "source": []
  },
  {
   "cell_type": "code",
   "execution_count": null,
   "id": "1619772b",
   "metadata": {},
   "outputs": [],
   "source": []
  },
  {
   "cell_type": "code",
   "execution_count": null,
   "id": "90663da7",
   "metadata": {},
   "outputs": [],
   "source": []
  },
  {
   "cell_type": "code",
   "execution_count": null,
   "id": "901f260a",
   "metadata": {},
   "outputs": [],
   "source": []
  }
 ],
 "metadata": {
  "kernelspec": {
   "display_name": "Python 3 (ipykernel)",
   "language": "python",
   "name": "python3"
  },
  "language_info": {
   "codemirror_mode": {
    "name": "ipython",
    "version": 3
   },
   "file_extension": ".py",
   "mimetype": "text/x-python",
   "name": "python",
   "nbconvert_exporter": "python",
   "pygments_lexer": "ipython3",
   "version": "3.10.7"
  }
 },
 "nbformat": 4,
 "nbformat_minor": 5
}
