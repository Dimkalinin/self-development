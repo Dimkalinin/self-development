{
 "cells": [
  {
   "cell_type": "code",
   "execution_count": 2,
   "id": "6c4c441c",
   "metadata": {},
   "outputs": [],
   "source": [
    "#  абстракция: идеальная модель нашей генеральной совокупности "
   ]
  },
  {
   "cell_type": "code",
   "execution_count": 91,
   "id": "887e7c32",
   "metadata": {},
   "outputs": [],
   "source": [
    "import pandas as pd\n",
    "import numpy as np\n",
    "\n",
    "import seaborn as sns\n",
    "%matplotlib inline"
   ]
  },
  {
   "cell_type": "code",
   "execution_count": 4,
   "id": "c5ee0b35",
   "metadata": {},
   "outputs": [],
   "source": [
    "mu = 100\n",
    "sigma = 10"
   ]
  },
  {
   "cell_type": "code",
   "execution_count": 5,
   "id": "2eff9638",
   "metadata": {},
   "outputs": [],
   "source": [
    "population = np.round(np.random.normal(mu, sigma, 10000), 2) #нормальное распределение из параметров"
   ]
  },
  {
   "cell_type": "code",
   "execution_count": 6,
   "id": "ecb482e8",
   "metadata": {},
   "outputs": [
    {
     "data": {
      "text/plain": [
       "array([ 99.34,  97.54,  99.45, ..., 111.29,  95.96, 102.15])"
      ]
     },
     "execution_count": 6,
     "metadata": {},
     "output_type": "execute_result"
    }
   ],
   "source": [
    "population #пусть это будет нашей генеральной совокупностью"
   ]
  },
  {
   "cell_type": "code",
   "execution_count": 7,
   "id": "e6931a11",
   "metadata": {},
   "outputs": [
    {
     "name": "stderr",
     "output_type": "stream",
     "text": [
      "C:\\Users\\Дима\\AppData\\Local\\Temp\\ipykernel_12100\\4209463519.py:1: UserWarning: \n",
      "\n",
      "`distplot` is a deprecated function and will be removed in seaborn v0.14.0.\n",
      "\n",
      "Please adapt your code to use either `displot` (a figure-level function with\n",
      "similar flexibility) or `histplot` (an axes-level function for histograms).\n",
      "\n",
      "For a guide to updating your code to use the new functions, please see\n",
      "https://gist.github.com/mwaskom/de44147ed2974457ad6372750bbe5751\n",
      "\n",
      "  sns.distplot(population, kde=False)\n"
     ]
    },
    {
     "data": {
      "text/plain": [
       "<Axes: >"
      ]
     },
     "execution_count": 7,
     "metadata": {},
     "output_type": "execute_result"
    },
    {
     "data": {
      "image/png": "[encoded data removed]",
      "text/plain": [
       "<Figure size 640x480 with 1 Axes>"
      ]
     },
     "metadata": {},
     "output_type": "display_data"
    }
   ],
   "source": [
    "sns.distplot(population, kde=False)"
   ]
  },
  {
   "cell_type": "code",
   "execution_count": 45,
   "id": "2972da21",
   "metadata": {},
   "outputs": [],
   "source": [
    "mu = population.mean() #среднее в генеральной совокупности"
   ]
  },
  {
   "cell_type": "code",
   "execution_count": 46,
   "id": "a58de3fb",
   "metadata": {},
   "outputs": [],
   "source": [
    "sigma = population.std() #стандартное отклонение в генеральной совокупности"
   ]
  },
  {
   "cell_type": "code",
   "execution_count": 10,
   "id": "0eb60720",
   "metadata": {},
   "outputs": [],
   "source": [
    "# пример того что ЦПТ действительно работает"
   ]
  },
  {
   "cell_type": "code",
   "execution_count": 11,
   "id": "5dc3d960",
   "metadata": {},
   "outputs": [],
   "source": [
    "sample_size = 30 # размер нашей выборки"
   ]
  },
  {
   "cell_type": "code",
   "execution_count": 12,
   "id": "22852bbc",
   "metadata": {},
   "outputs": [],
   "source": [
    "sample = np.random.choice(population, sample_size, False) #наша выборки"
   ]
  },
  {
   "cell_type": "code",
   "execution_count": 13,
   "id": "4d125fdf",
   "metadata": {},
   "outputs": [
    {
     "data": {
      "text/plain": [
       "102.30133333333332"
      ]
     },
     "execution_count": 13,
     "metadata": {},
     "output_type": "execute_result"
    }
   ],
   "source": [
    "sample.mean()"
   ]
  },
  {
   "cell_type": "code",
   "execution_count": null,
   "id": "53ad5082",
   "metadata": {},
   "outputs": [],
   "source": []
  },
  {
   "cell_type": "code",
   "execution_count": 14,
   "id": "ee60ecb4",
   "metadata": {},
   "outputs": [],
   "source": [
    "sample_means =[] #набор средних в выборках"
   ]
  },
  {
   "cell_type": "code",
   "execution_count": 15,
   "id": "dceadf18",
   "metadata": {},
   "outputs": [],
   "source": [
    "n = 10000 #колличесвто выборок"
   ]
  },
  {
   "cell_type": "code",
   "execution_count": 16,
   "id": "379488b2",
   "metadata": {},
   "outputs": [],
   "source": [
    "for i in range(n):\n",
    "    sample = np.random.choice(population, sample_size, False) #наша выборки\n",
    "    sample_means.append(sample.mean())"
   ]
  },
  {
   "cell_type": "code",
   "execution_count": 17,
   "id": "bfeceb9a",
   "metadata": {},
   "outputs": [
    {
     "name": "stderr",
     "output_type": "stream",
     "text": [
      "C:\\Users\\Дима\\AppData\\Local\\Temp\\ipykernel_12100\\1429077293.py:1: UserWarning: \n",
      "\n",
      "`distplot` is a deprecated function and will be removed in seaborn v0.14.0.\n",
      "\n",
      "Please adapt your code to use either `displot` (a figure-level function with\n",
      "similar flexibility) or `histplot` (an axes-level function for histograms).\n",
      "\n",
      "For a guide to updating your code to use the new functions, please see\n",
      "https://gist.github.com/mwaskom/de44147ed2974457ad6372750bbe5751\n",
      "\n",
      "  sns.distplot(sample_means, kde=False) #график средних в выборках\n"
     ]
    },
    {
     "data": {
      "text/plain": [
       "<Axes: >"
      ]
     },
     "execution_count": 17,
     "metadata": {},
     "output_type": "execute_result"
    },
    {
     "data": {
      "image/png": "[encoded data removed]",
      "text/plain": [
       "<Figure size 640x480 with 1 Axes>"
      ]
     },
     "metadata": {},
     "output_type": "display_data"
    }
   ],
   "source": [
    "sns.distplot(sample_means, kde=False) #график средних в выборках"
   ]
  },
  {
   "cell_type": "code",
   "execution_count": 18,
   "id": "e110da66",
   "metadata": {},
   "outputs": [
    {
     "data": {
      "text/plain": [
       "99.92625476666667"
      ]
     },
     "execution_count": 18,
     "metadata": {},
     "output_type": "execute_result"
    }
   ],
   "source": [
    "np.mean(sample_means) # центропредельная теорема,среднее средних"
   ]
  },
  {
   "cell_type": "code",
   "execution_count": 19,
   "id": "8fb8c361",
   "metadata": {},
   "outputs": [],
   "source": [
    "# Правило 3х сигм: 100% наших наблюдений лежит +- 3 сигмы"
   ]
  },
  {
   "cell_type": "code",
   "execution_count": 20,
   "id": "68731ed1",
   "metadata": {},
   "outputs": [],
   "source": [
    "# Правило 1.96 сигм - 95% всех наблюдений лежит в этом диапазоне"
   ]
  },
  {
   "cell_type": "code",
   "execution_count": 21,
   "id": "6954b6e5",
   "metadata": {},
   "outputs": [],
   "source": [
    "# se = sigma / корень(n)"
   ]
  },
  {
   "cell_type": "code",
   "execution_count": 22,
   "id": "7d59e0c7",
   "metadata": {},
   "outputs": [],
   "source": [
    "se = population.std() / sample_size**0.5"
   ]
  },
  {
   "cell_type": "code",
   "execution_count": 23,
   "id": "2a412d3f",
   "metadata": {},
   "outputs": [
    {
     "data": {
      "text/plain": [
       "1.8295382129048756"
      ]
     },
     "execution_count": 23,
     "metadata": {},
     "output_type": "execute_result"
    }
   ],
   "source": [
    "se # стандартная ошибка"
   ]
  },
  {
   "cell_type": "code",
   "execution_count": 24,
   "id": "3793c38d",
   "metadata": {},
   "outputs": [
    {
     "data": {
      "text/plain": [
       "1.8505405431130268"
      ]
     },
     "execution_count": 24,
     "metadata": {},
     "output_type": "execute_result"
    }
   ],
   "source": [
    "np.std(sample_means) #стандартная ошибка непосредственно в центропреельной теореме"
   ]
  },
  {
   "cell_type": "code",
   "execution_count": null,
   "id": "7c1fb558",
   "metadata": {},
   "outputs": [],
   "source": []
  },
  {
   "cell_type": "code",
   "execution_count": 25,
   "id": "8f3e0b9b",
   "metadata": {},
   "outputs": [
    {
     "data": {
      "text/plain": [
       "103.51281989729355"
      ]
     },
     "execution_count": 25,
     "metadata": {},
     "output_type": "execute_result"
    }
   ],
   "source": [
    "population.mean() + 1.96* se"
   ]
  },
  {
   "cell_type": "code",
   "execution_count": 26,
   "id": "0efbbaec",
   "metadata": {},
   "outputs": [
    {
     "data": {
      "text/plain": [
       "96.34103010270644"
      ]
     },
     "execution_count": 26,
     "metadata": {},
     "output_type": "execute_result"
    }
   ],
   "source": [
    "population.mean() - 1.96* se"
   ]
  },
  {
   "cell_type": "code",
   "execution_count": 27,
   "id": "fc30dc36",
   "metadata": {},
   "outputs": [
    {
     "data": {
      "text/plain": [
       "[96.27, 103.38]"
      ]
     },
     "execution_count": 27,
     "metadata": {},
     "output_type": "execute_result"
    }
   ],
   "source": [
    "[96.27, 103.38] # 95% интервал"
   ]
  },
  {
   "cell_type": "code",
   "execution_count": null,
   "id": "8e6a5c62",
   "metadata": {},
   "outputs": [],
   "source": []
  },
  {
   "cell_type": "code",
   "execution_count": null,
   "id": "496468d3",
   "metadata": {},
   "outputs": [],
   "source": []
  },
  {
   "cell_type": "code",
   "execution_count": 28,
   "id": "bf21fbf3",
   "metadata": {},
   "outputs": [],
   "source": [
    "#========================================"
   ]
  },
  {
   "cell_type": "code",
   "execution_count": 29,
   "id": "4d0d844d",
   "metadata": {},
   "outputs": [],
   "source": [
    "# переходим в реальность"
   ]
  },
  {
   "cell_type": "code",
   "execution_count": 30,
   "id": "b6baabf0",
   "metadata": {},
   "outputs": [],
   "source": [
    "sample_real = np.random.choice(population, sample_size, False) #наша выборки"
   ]
  },
  {
   "cell_type": "code",
   "execution_count": 31,
   "id": "9f126773",
   "metadata": {},
   "outputs": [
    {
     "data": {
      "text/plain": [
       "array([ 88.48, 103.11, 105.27, 118.16,  96.34,  95.75,  99.92,  97.33,\n",
       "       105.34, 110.59,  95.69, 109.65, 113.04,  88.9 ,  88.83, 113.01,\n",
       "       103.94, 110.6 ,  93.9 ,  84.44,  81.43, 106.66,  98.2 , 115.42,\n",
       "        88.41,  93.8 ,  92.99,  94.8 , 105.27, 108.59])"
      ]
     },
     "execution_count": 31,
     "metadata": {},
     "output_type": "execute_result"
    }
   ],
   "source": [
    "sample_real # в реальность у нас 1 выборка"
   ]
  },
  {
   "cell_type": "code",
   "execution_count": 32,
   "id": "646749d1",
   "metadata": {},
   "outputs": [
    {
     "data": {
      "text/plain": [
       "100.262"
      ]
     },
     "execution_count": 32,
     "metadata": {},
     "output_type": "execute_result"
    }
   ],
   "source": [
    "sample_real.mean() #находим среднее"
   ]
  },
  {
   "cell_type": "code",
   "execution_count": 33,
   "id": "bff71f39",
   "metadata": {},
   "outputs": [
    {
     "data": {
      "text/plain": [
       "9.598700050874944"
      ]
     },
     "execution_count": 33,
     "metadata": {},
     "output_type": "execute_result"
    }
   ],
   "source": [
    "sample_real.std() #находим стандартное отклонение, ее можно использовать в фомуле, но там уже будет не нормальное распределение,\n",
    "# а Т распределение"
   ]
  },
  {
   "cell_type": "code",
   "execution_count": 34,
   "id": "21850c95",
   "metadata": {},
   "outputs": [],
   "source": [
    "# se = sigma / корень(n) "
   ]
  },
  {
   "cell_type": "code",
   "execution_count": 35,
   "id": "7643acdd",
   "metadata": {},
   "outputs": [],
   "source": [
    "se = sample_real.std() / sample_size ** 0.5 #находим стандартную ошибку"
   ]
  },
  {
   "cell_type": "code",
   "execution_count": 36,
   "id": "027a683e",
   "metadata": {},
   "outputs": [
    {
     "data": {
      "text/plain": [
       "1.7524748468633975"
      ]
     },
     "execution_count": 36,
     "metadata": {},
     "output_type": "execute_result"
    }
   ],
   "source": [
    "se"
   ]
  },
  {
   "cell_type": "code",
   "execution_count": 37,
   "id": "1ad8a5ae",
   "metadata": {},
   "outputs": [],
   "source": [
    "#находим оценненый 95% доверительный интервал"
   ]
  },
  {
   "cell_type": "code",
   "execution_count": 38,
   "id": "02ffd09c",
   "metadata": {},
   "outputs": [
    {
     "data": {
      "text/plain": [
       "103.69685069985226"
      ]
     },
     "execution_count": 38,
     "metadata": {},
     "output_type": "execute_result"
    }
   ],
   "source": [
    "sample_real.mean() + 1.96*se"
   ]
  },
  {
   "cell_type": "code",
   "execution_count": 39,
   "id": "22757fcd",
   "metadata": {},
   "outputs": [
    {
     "data": {
      "text/plain": [
       "96.82714930014774"
      ]
     },
     "execution_count": 39,
     "metadata": {},
     "output_type": "execute_result"
    }
   ],
   "source": [
    "sample_real.mean() - 1.96*se"
   ]
  },
  {
   "cell_type": "code",
   "execution_count": 40,
   "id": "4788e647",
   "metadata": {},
   "outputs": [],
   "source": [
    "# при многократном повторении 95% из полученных интервалов  наше среднее лежит в генеральной \n",
    "# совокупности в интервале от 96 до 103.\n",
    "# Если бы кто нибудь утверждал, что среднее в ГС \n",
    "# выходит за эти рамки(H0), то математически можно было бы\n",
    "# отклонить его утверждение\n",
    "# и наоборот, если бы утверждали что она лежит в этом интервале(H0), \n",
    "# то это утрверждение можно было бы принять!\n",
    "# так формулируется две гипотезы: Н0 и Н1, при этом мы принимаем или отклоняем только Н0"
   ]
  },
  {
   "cell_type": "code",
   "execution_count": 41,
   "id": "bd2c95d8",
   "metadata": {},
   "outputs": [],
   "source": [
    "# Важно:\n",
    "\n",
    "# p-уровень значимости не говорит о силе эффекта \n",
    "# (напр., пользователи стали пользоваться приложением меньше в 3 или 1.1 раза)\n",
    "\n",
    "# Если получили уровень значимости выше порога – это не значит, что нулевая гипотеза верна. \n",
    "# Просто такой уровень значимости не позволяет нам её отклонить."
   ]
  },
  {
   "cell_type": "code",
   "execution_count": null,
   "id": "e06a89cf",
   "metadata": {},
   "outputs": [],
   "source": []
  },
  {
   "cell_type": "code",
   "execution_count": null,
   "id": "5c989f44",
   "metadata": {},
   "outputs": [],
   "source": []
  },
  {
   "cell_type": "code",
   "execution_count": 42,
   "id": "26cb2ca8",
   "metadata": {},
   "outputs": [],
   "source": [
    "# ==============================================="
   ]
  },
  {
   "cell_type": "code",
   "execution_count": null,
   "id": "2d9fb40e",
   "metadata": {},
   "outputs": [],
   "source": []
  },
  {
   "cell_type": "markdown",
   "id": "5ab5afeb",
   "metadata": {},
   "source": [
    "#### Z- распределение для средних в множетсвенной выборке \n",
    "Это идеальная математическая модель, к которому мы стремимся, потому что нам невозможно узнать среднее в генеральной совокупности и ее стандартное отклонение "
   ]
  },
  {
   "cell_type": "code",
   "execution_count": 80,
   "id": "39026283",
   "metadata": {},
   "outputs": [],
   "source": [
    "sample_size = 5 #объем нашей выборки"
   ]
  },
  {
   "cell_type": "code",
   "execution_count": 81,
   "id": "8123ed2d",
   "metadata": {},
   "outputs": [],
   "source": [
    "se = population.std() / sample_size**0.5  #стандартная ошибка среднего"
   ]
  },
  {
   "cell_type": "code",
   "execution_count": 82,
   "id": "dee97051",
   "metadata": {},
   "outputs": [],
   "source": [
    "z_scores = [] #накопитель значений среднего\n",
    "n = 10000 # колличество выборок"
   ]
  },
  {
   "cell_type": "code",
   "execution_count": 83,
   "id": "ec2d9d51",
   "metadata": {},
   "outputs": [],
   "source": [
    "for i in range(n):\n",
    "    sample = np.random.choice(population, sample_size, False) #наша выборки\n",
    "    sample_mean = sample.mean() #находим среднее в выборке\n",
    "    \n",
    "    z_score = (sample_mean - mu) / se  #распределение среднего в выборке (в этом случае нам известно среднее в ГС и ее СтО)\n",
    "    z_scores.append(z_score)"
   ]
  },
  {
   "cell_type": "code",
   "execution_count": 84,
   "id": "4cc0598c",
   "metadata": {},
   "outputs": [
    {
     "data": {
      "text/plain": [
       "<seaborn.axisgrid.FacetGrid at 0x20946dbbaf0>"
      ]
     },
     "execution_count": 84,
     "metadata": {},
     "output_type": "execute_result"
    },
    {
     "data": {
      "image/png": "[encoded data removed]",
      "text/plain": [
       "<Figure size 500x500 with 1 Axes>"
      ]
     },
     "metadata": {},
     "output_type": "display_data"
    }
   ],
   "source": [
    "sns.displot(z_scores, kde=False)"
   ]
  },
  {
   "cell_type": "code",
   "execution_count": null,
   "id": "6f1421e1",
   "metadata": {},
   "outputs": [],
   "source": []
  },
  {
   "cell_type": "code",
   "execution_count": 85,
   "id": "8adc27a2",
   "metadata": {},
   "outputs": [],
   "source": [
    "# t - распределение"
   ]
  },
  {
   "cell_type": "code",
   "execution_count": 86,
   "id": "569009d7",
   "metadata": {},
   "outputs": [],
   "source": [
    "t_scores = []\n",
    "n = 10000"
   ]
  },
  {
   "cell_type": "code",
   "execution_count": 87,
   "id": "5f8aad41",
   "metadata": {},
   "outputs": [],
   "source": [
    "for i in range(n):\n",
    "    sample = np.random.choice(population, sample_size, False) #наша выборки\n",
    "    sample_mean = sample.mean()\n",
    "    sample_std = sample.std() #находим стандартное отклонение в выборке\n",
    "    \n",
    "    se_ = sample_std / sample_size ** 0.5 #считаем стандартную ошибку среднего \n",
    "    t_score = (sample_mean - mu) / se_  #находим новое значение в распределение\n",
    "    \n",
    "    t_scores.append(t_score)"
   ]
  },
  {
   "cell_type": "code",
   "execution_count": 88,
   "id": "d9aeac87",
   "metadata": {},
   "outputs": [
    {
     "data": {
      "text/plain": [
       "<seaborn.axisgrid.FacetGrid at 0x209483519c0>"
      ]
     },
     "execution_count": 88,
     "metadata": {},
     "output_type": "execute_result"
    },
    {
     "data": {
      "image/png": "[encoded data removed]",
      "text/plain": [
       "<Figure size 500x500 with 1 Axes>"
      ]
     },
     "metadata": {},
     "output_type": "display_data"
    }
   ],
   "source": [
    "sns.displot(t_scores, kde=False)"
   ]
  },
  {
   "cell_type": "code",
   "execution_count": 90,
   "id": "088ad2ac",
   "metadata": {},
   "outputs": [
    {
     "data": {
      "text/plain": [
       "4"
      ]
     },
     "execution_count": 90,
     "metadata": {},
     "output_type": "execute_result"
    }
   ],
   "source": [
    "# число степеней свободы для Т распределения\n",
    "df = sample_size - 1\n",
    "df"
   ]
  },
  {
   "cell_type": "markdown",
   "id": "5f44115c",
   "metadata": {},
   "source": [
    "#### Распределение Стьюдента (Т-распределение)\n",
    "Чем больше степеней свободы и чем больше наблюдений, тем всё больше распределение становится похожим на нормальное"
   ]
  },
  {
   "cell_type": "code",
   "execution_count": null,
   "id": "f96c984e",
   "metadata": {},
   "outputs": [],
   "source": []
  },
  {
   "cell_type": "code",
   "execution_count": null,
   "id": "6851e797",
   "metadata": {},
   "outputs": [],
   "source": []
  },
  {
   "cell_type": "code",
   "execution_count": null,
   "id": "ad2c8b43",
   "metadata": {},
   "outputs": [],
   "source": []
  },
  {
   "cell_type": "code",
   "execution_count": null,
   "id": "a286d41f",
   "metadata": {},
   "outputs": [],
   "source": []
  },
  {
   "cell_type": "code",
   "execution_count": null,
   "id": "73fe3571",
   "metadata": {},
   "outputs": [],
   "source": []
  },
  {
   "cell_type": "code",
   "execution_count": null,
   "id": "15897475",
   "metadata": {},
   "outputs": [],
   "source": []
  },
  {
   "cell_type": "code",
   "execution_count": null,
   "id": "b52911e2",
   "metadata": {},
   "outputs": [],
   "source": []
  },
  {
   "cell_type": "code",
   "execution_count": null,
   "id": "28a6271d",
   "metadata": {},
   "outputs": [],
   "source": []
  },
  {
   "cell_type": "code",
   "execution_count": null,
   "id": "bbe4cc61",
   "metadata": {},
   "outputs": [],
   "source": []
  },
  {
   "cell_type": "code",
   "execution_count": null,
   "id": "7b255055",
   "metadata": {},
   "outputs": [],
   "source": []
  },
  {
   "cell_type": "code",
   "execution_count": null,
   "id": "bc9b0499",
   "metadata": {},
   "outputs": [],
   "source": []
  },
  {
   "cell_type": "code",
   "execution_count": null,
   "id": "c4cca286",
   "metadata": {},
   "outputs": [],
   "source": []
  },
  {
   "cell_type": "code",
   "execution_count": null,
   "id": "901f260a",
   "metadata": {},
   "outputs": [],
   "source": []
  }
 ],
 "metadata": {
  "kernelspec": {
   "display_name": "Python 3 (ipykernel)",
   "language": "python",
   "name": "python3"
  },
  "language_info": {
   "codemirror_mode": {
    "name": "ipython",
    "version": 3
   },
   "file_extension": ".py",
   "mimetype": "text/x-python",
   "name": "python",
   "nbconvert_exporter": "python",
   "pygments_lexer": "ipython3",
   "version": "3.10.7"
  }
 },
 "nbformat": 4,
 "nbformat_minor": 5
}
