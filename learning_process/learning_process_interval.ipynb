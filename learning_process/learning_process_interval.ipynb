{
 "cells": [
  {
   "cell_type": "code",
   "execution_count": 2,
   "id": "6c4c441c",
   "metadata": {},
   "outputs": [],
   "source": [
    "#  абстракция: идеальная модель нашей генеральной совокупности "
   ]
  },
  {
   "cell_type": "code",
   "execution_count": 91,
   "id": "887e7c32",
   "metadata": {},
   "outputs": [],
   "source": [
    "import pandas as pd\n",
    "import numpy as np\n",
    "\n",
    "import seaborn as sns\n",
    "%matplotlib inline"
   ]
  },
  {
   "cell_type": "code",
   "execution_count": 4,
   "id": "c5ee0b35",
   "metadata": {},
   "outputs": [],
   "source": [
    "mu = 100\n",
    "sigma = 10"
   ]
  },
  {
   "cell_type": "code",
   "execution_count": 5,
   "id": "2eff9638",
   "metadata": {},
   "outputs": [],
   "source": [
    "population = np.round(np.random.normal(mu, sigma, 10000), 2) #нормальное распределение из параметров"
   ]
  },
  {
   "cell_type": "code",
   "execution_count": 6,
   "id": "ecb482e8",
   "metadata": {},
   "outputs": [
    {
     "data": {
      "text/plain": [
       "array([ 99.34,  97.54,  99.45, ..., 111.29,  95.96, 102.15])"
      ]
     },
     "execution_count": 6,
     "metadata": {},
     "output_type": "execute_result"
    }
   ],
   "source": [
    "population #пусть это будет нашей генеральной совокупностью"
   ]
  },
  {
   "cell_type": "code",
   "execution_count": 7,
   "id": "e6931a11",
   "metadata": {},
   "outputs": [
    {
     "name": "stderr",
     "output_type": "stream",
     "text": [
      "C:\\Users\\Дима\\AppData\\Local\\Temp\\ipykernel_12100\\4209463519.py:1: UserWarning: \n",
      "\n",
      "`distplot` is a deprecated function and will be removed in seaborn v0.14.0.\n",
      "\n",
      "Please adapt your code to use either `displot` (a figure-level function with\n",
      "similar flexibility) or `histplot` (an axes-level function for histograms).\n",
      "\n",
      "For a guide to updating your code to use the new functions, please see\n",
      "https://gist.github.com/mwaskom/de44147ed2974457ad6372750bbe5751\n",
      "\n",
      "  sns.distplot(population, kde=False)\n"
     ]
    },
    {
     "data": {
      "text/plain": [
       "<Axes: >"
      ]
     },
     "execution_count": 7,
     "metadata": {},
     "output_type": "execute_result"
    },
    {
     "data": {
      "image/png": "[encoded data removed]",
      "text/plain": [
       "<Figure size 640x480 with 1 Axes>"
      ]
     },
     "metadata": {},
     "output_type": "display_data"
    }
   ],
   "source": [
    "sns.distplot(population, kde=False)"
   ]
  },
  {
   "cell_type": "code",
   "execution_count": 45,
   "id": "2972da21",
   "metadata": {},
   "outputs": [],
   "source": [
    "mu = population.mean() #среднее в генеральной совокупности"
   ]
  },
  {
   "cell_type": "code",
   "execution_count": 46,
   "id": "a58de3fb",
   "metadata": {},
   "outputs": [],
   "source": [
    "sigma = population.std() #стандартное отклонение в генеральной совокупности"
   ]
  },
  {
   "cell_type": "code",
   "execution_count": 10,
   "id": "0eb60720",
   "metadata": {},
   "outputs": [],
   "source": [
    "# пример того что ЦПТ действительно работает"
   ]
  },
  {
   "cell_type": "code",
   "execution_count": 11,
   "id": "5dc3d960",
   "metadata": {},
   "outputs": [],
   "source": [
    "sample_size = 30 # размер нашей выборки"
   ]
  },
  {
   "cell_type": "code",
   "execution_count": 12,
   "id": "22852bbc",
   "metadata": {},
   "outputs": [],
   "source": [
    "sample = np.random.choice(population, sample_size, False) #наша выборки"
   ]
  },
  {
   "cell_type": "code",
   "execution_count": 13,
   "id": "4d125fdf",
   "metadata": {},
   "outputs": [
    {
     "data": {
      "text/plain": [
       "102.30133333333332"
      ]
     },
     "execution_count": 13,
     "metadata": {},
     "output_type": "execute_result"
    }
   ],
   "source": [
    "sample.mean()"
   ]
  },
  {
   "cell_type": "code",
   "execution_count": null,
   "id": "53ad5082",
   "metadata": {},
   "outputs": [],
   "source": []
  },
  {
   "cell_type": "code",
   "execution_count": 14,
   "id": "ee60ecb4",
   "metadata": {},
   "outputs": [],
   "source": [
    "sample_means =[] #набор средних в выборках"
   ]
  },
  {
   "cell_type": "code",
   "execution_count": 15,
   "id": "dceadf18",
   "metadata": {},
   "outputs": [],
   "source": [
    "n = 10000 #колличесвто выборок"
   ]
  },
  {
   "cell_type": "code",
   "execution_count": 16,
   "id": "379488b2",
   "metadata": {},
   "outputs": [],
   "source": [
    "for i in range(n):\n",
    "    sample = np.random.choice(population, sample_size, False) #наша выборки\n",
    "    sample_means.append(sample.mean())"
   ]
  },
  {
   "cell_type": "code",
   "execution_count": 17,
   "id": "bfeceb9a",
   "metadata": {},
   "outputs": [
    {
     "name": "stderr",
     "output_type": "stream",
     "text": [
      "C:\\Users\\Дима\\AppData\\Local\\Temp\\ipykernel_12100\\1429077293.py:1: UserWarning: \n",
      "\n",
      "`distplot` is a deprecated function and will be removed in seaborn v0.14.0.\n",
      "\n",
      "Please adapt your code to use either `displot` (a figure-level function with\n",
      "similar flexibility) or `histplot` (an axes-level function for histograms).\n",
      "\n",
      "For a guide to updating your code to use the new functions, please see\n",
      "https://gist.github.com/mwaskom/de44147ed2974457ad6372750bbe5751\n",
      "\n",
      "  sns.distplot(sample_means, kde=False) #график средних в выборках\n"
     ]
    },
    {
     "data": {
      "text/plain": [
       "<Axes: >"
      ]
     },
     "execution_count": 17,
     "metadata": {},
     "output_type": "execute_result"
    },
    {
     "data": {
      "image/png": "[encoded data removed]",
      "text/plain": [
       "<Figure size 640x480 with 1 Axes>"
      ]
     },
     "metadata": {},
     "output_type": "display_data"
    }
   ],
   "source": [
    "sns.distplot(sample_means, kde=False) #график средних в выборках"
   ]
  },
  {
   "cell_type": "code",
   "execution_count": 18,
   "id": "e110da66",
   "metadata": {},
   "outputs": [
    {
     "data": {
      "text/plain": [
       "99.92625476666667"
      ]
     },
     "execution_count": 18,
     "metadata": {},
     "output_type": "execute_result"
    }
   ],
   "source": [
    "np.mean(sample_means) # центропредельная теорема,среднее средних"
   ]
  },
  {
   "cell_type": "code",
   "execution_count": 19,
   "id": "8fb8c361",
   "metadata": {},
   "outputs": [],
   "source": [
    "# Правило 3х сигм: 100% наших наблюдений лежит +- 3 сигмы"
   ]
  },
  {
   "cell_type": "code",
   "execution_count": 20,
   "id": "68731ed1",
   "metadata": {},
   "outputs": [],
   "source": [
    "# Правило 1.96 сигм - 95% всех наблюдений лежит в этом диапазоне"
   ]
  },
  {
   "cell_type": "code",
   "execution_count": 21,
   "id": "6954b6e5",
   "metadata": {},
   "outputs": [],
   "source": [
    "# se = sigma / корень(n)"
   ]
  },
  {
   "cell_type": "code",
   "execution_count": 22,
   "id": "7d59e0c7",
   "metadata": {},
   "outputs": [],
   "source": [
    "se = population.std() / sample_size**0.5"
   ]
  },
  {
   "cell_type": "code",
   "execution_count": 23,
   "id": "2a412d3f",
   "metadata": {},
   "outputs": [
    {
     "data": {
      "text/plain": [
       "1.8295382129048756"
      ]
     },
     "execution_count": 23,
     "metadata": {},
     "output_type": "execute_result"
    }
   ],
   "source": [
    "se # стандартная ошибка"
   ]
  },
  {
   "cell_type": "code",
   "execution_count": 24,
   "id": "3793c38d",
   "metadata": {},
   "outputs": [
    {
     "data": {
      "text/plain": [
       "1.8505405431130268"
      ]
     },
     "execution_count": 24,
     "metadata": {},
     "output_type": "execute_result"
    }
   ],
   "source": [
    "np.std(sample_means) #стандартная ошибка непосредственно в центропреельной теореме"
   ]
  },
  {
   "cell_type": "code",
   "execution_count": null,
   "id": "7c1fb558",
   "metadata": {},
   "outputs": [],
   "source": []
  },
  {
   "cell_type": "code",
   "execution_count": 25,
   "id": "8f3e0b9b",
   "metadata": {},
   "outputs": [
    {
     "data": {
      "text/plain": [
       "103.51281989729355"
      ]
     },
     "execution_count": 25,
     "metadata": {},
     "output_type": "execute_result"
    }
   ],
   "source": [
    "population.mean() + 1.96* se"
   ]
  },
  {
   "cell_type": "code",
   "execution_count": 26,
   "id": "0efbbaec",
   "metadata": {},
   "outputs": [
    {
     "data": {
      "text/plain": [
       "96.34103010270644"
      ]
     },
     "execution_count": 26,
     "metadata": {},
     "output_type": "execute_result"
    }
   ],
   "source": [
    "population.mean() - 1.96* se"
   ]
  },
  {
   "cell_type": "code",
   "execution_count": 27,
   "id": "fc30dc36",
   "metadata": {},
   "outputs": [
    {
     "data": {
      "text/plain": [
       "[96.27, 103.38]"
      ]
     },
     "execution_count": 27,
     "metadata": {},
     "output_type": "execute_result"
    }
   ],
   "source": [
    "[96.27, 103.38] # 95% интервал"
   ]
  },
  {
   "cell_type": "code",
   "execution_count": null,
   "id": "8e6a5c62",
   "metadata": {},
   "outputs": [],
   "source": []
  },
  {
   "cell_type": "code",
   "execution_count": null,
   "id": "496468d3",
   "metadata": {},
   "outputs": [],
   "source": []
  },
  {
   "cell_type": "code",
   "execution_count": 28,
   "id": "bf21fbf3",
   "metadata": {},
   "outputs": [],
   "source": [
    "#========================================"
   ]
  },
  {
   "cell_type": "code",
   "execution_count": 29,
   "id": "4d0d844d",
   "metadata": {},
   "outputs": [],
   "source": [
    "# переходим в реальность"
   ]
  },
  {
   "cell_type": "code",
   "execution_count": 30,
   "id": "b6baabf0",
   "metadata": {},
   "outputs": [],
   "source": [
    "sample_real = np.random.choice(population, sample_size, False) #наша выборки"
   ]
  },
  {
   "cell_type": "code",
   "execution_count": 31,
   "id": "9f126773",
   "metadata": {},
   "outputs": [
    {
     "data": {
      "text/plain": [
       "array([ 88.48, 103.11, 105.27, 118.16,  96.34,  95.75,  99.92,  97.33,\n",
       "       105.34, 110.59,  95.69, 109.65, 113.04,  88.9 ,  88.83, 113.01,\n",
       "       103.94, 110.6 ,  93.9 ,  84.44,  81.43, 106.66,  98.2 , 115.42,\n",
       "        88.41,  93.8 ,  92.99,  94.8 , 105.27, 108.59])"
      ]
     },
     "execution_count": 31,
     "metadata": {},
     "output_type": "execute_result"
    }
   ],
   "source": [
    "sample_real # в реальность у нас 1 выборка"
   ]
  },
  {
   "cell_type": "code",
   "execution_count": 32,
   "id": "646749d1",
   "metadata": {},
   "outputs": [
    {
     "data": {
      "text/plain": [
       "100.262"
      ]
     },
     "execution_count": 32,
     "metadata": {},
     "output_type": "execute_result"
    }
   ],
   "source": [
    "sample_real.mean() #находим среднее"
   ]
  },
  {
   "cell_type": "code",
   "execution_count": 33,
   "id": "bff71f39",
   "metadata": {},
   "outputs": [
    {
     "data": {
      "text/plain": [
       "9.598700050874944"
      ]
     },
     "execution_count": 33,
     "metadata": {},
     "output_type": "execute_result"
    }
   ],
   "source": [
    "sample_real.std() #находим стандартное отклонение, ее можно использовать в фомуле, но там уже будет не нормальное распределение,\n",
    "# а Т распределение"
   ]
  },
  {
   "cell_type": "code",
   "execution_count": 34,
   "id": "21850c95",
   "metadata": {},
   "outputs": [],
   "source": [
    "# se = sigma / корень(n) "
   ]
  },
  {
   "cell_type": "code",
   "execution_count": 35,
   "id": "7643acdd",
   "metadata": {},
   "outputs": [],
   "source": [
    "se = sample_real.std() / sample_size ** 0.5 #находим стандартную ошибку"
   ]
  },
  {
   "cell_type": "code",
   "execution_count": 36,
   "id": "027a683e",
   "metadata": {},
   "outputs": [
    {
     "data": {
      "text/plain": [
       "1.7524748468633975"
      ]
     },
     "execution_count": 36,
     "metadata": {},
     "output_type": "execute_result"
    }
   ],
   "source": [
    "se"
   ]
  },
  {
   "cell_type": "code",
   "execution_count": 37,
   "id": "1ad8a5ae",
   "metadata": {},
   "outputs": [],
   "source": [
    "#находим оценненый 95% доверительный интервал"
   ]
  },
  {
   "cell_type": "code",
   "execution_count": 38,
   "id": "02ffd09c",
   "metadata": {},
   "outputs": [
    {
     "data": {
      "text/plain": [
       "103.69685069985226"
      ]
     },
     "execution_count": 38,
     "metadata": {},
     "output_type": "execute_result"
    }
   ],
   "source": [
    "sample_real.mean() + 1.96*se"
   ]
  },
  {
   "cell_type": "code",
   "execution_count": 39,
   "id": "22757fcd",
   "metadata": {},
   "outputs": [
    {
     "data": {
      "text/plain": [
       "96.82714930014774"
      ]
     },
     "execution_count": 39,
     "metadata": {},
     "output_type": "execute_result"
    }
   ],
   "source": [
    "sample_real.mean() - 1.96*se"
   ]
  },
  {
   "cell_type": "code",
   "execution_count": 40,
   "id": "4788e647",
   "metadata": {},
   "outputs": [],
   "source": [
    "# при многократном повторении 95% из полученных интервалов  наше среднее лежит в генеральной \n",
    "# совокупности в интервале от 96 до 103.\n",
    "# Если бы кто нибудь утверждал, что среднее в ГС \n",
    "# выходит за эти рамки(H0), то математически можно было бы\n",
    "# отклонить его утверждение\n",
    "# и наоборот, если бы утверждали что она лежит в этом интервале(H0), \n",
    "# то это утрверждение можно было бы принять!\n",
    "# так формулируется две гипотезы: Н0 и Н1, при этом мы принимаем или отклоняем только Н0"
   ]
  },
  {
   "cell_type": "code",
   "execution_count": 41,
   "id": "bd2c95d8",
   "metadata": {},
   "outputs": [],
   "source": [
    "# Важно:\n",
    "\n",
    "# p-уровень значимости не говорит о силе эффекта \n",
    "# (напр., пользователи стали пользоваться приложением меньше в 3 или 1.1 раза)\n",
    "\n",
    "# Если получили уровень значимости выше порога – это не значит, что нулевая гипотеза верна. \n",
    "# Просто такой уровень значимости не позволяет нам её отклонить."
   ]
  },
  {
   "cell_type": "code",
   "execution_count": null,
   "id": "e06a89cf",
   "metadata": {},
   "outputs": [],
   "source": []
  },
  {
   "cell_type": "code",
   "execution_count": null,
   "id": "5c989f44",
   "metadata": {},
   "outputs": [],
   "source": []
  },
  {
   "cell_type": "code",
   "execution_count": 42,
   "id": "26cb2ca8",
   "metadata": {},
   "outputs": [],
   "source": [
    "# ==============================================="
   ]
  },
  {
   "cell_type": "code",
   "execution_count": null,
   "id": "2d9fb40e",
   "metadata": {},
   "outputs": [],
   "source": []
  },
  {
   "cell_type": "markdown",
   "id": "dca3974f",
   "metadata": {},
   "source": [
    "#### Z- распределение для средних в множетсвенной выборке \n",
    "Это идеальная математическая модель, к которому мы стремимся, потому что нам невозможно узнать среднее в генеральной совокупности и ее стандартное отклонение "
   ]
  },
  {
   "cell_type": "code",
   "execution_count": 93,
   "id": "39026283",
   "metadata": {},
   "outputs": [],
   "source": [
    "sample_size = 31 #объем нашей выборки"
   ]
  },
  {
   "cell_type": "code",
   "execution_count": 94,
   "id": "8123ed2d",
   "metadata": {},
   "outputs": [],
   "source": [
    "se = population.std() / sample_size**0.5  #стандартная ошибка среднего"
   ]
  },
  {
   "cell_type": "code",
   "execution_count": 95,
   "id": "dee97051",
   "metadata": {},
   "outputs": [],
   "source": [
    "z_scores = [] #накопитель значений среднего\n",
    "n = 10000 # колличество выборок"
   ]
  },
  {
   "cell_type": "code",
   "execution_count": 96,
   "id": "ec2d9d51",
   "metadata": {},
   "outputs": [],
   "source": [
    "for i in range(n):\n",
    "    sample = np.random.choice(population, sample_size, False) #наша выборки\n",
    "    sample_mean = sample.mean() #находим среднее в выборке\n",
    "    \n",
    "    z_score = (sample_mean - mu) / se  #распределение среднего в выборке (в этом случае нам известно среднее в ГС и ее СтО)\n",
    "    z_scores.append(z_score)"
   ]
  },
  {
   "cell_type": "code",
   "execution_count": 97,
   "id": "4cc0598c",
   "metadata": {},
   "outputs": [
    {
     "data": {
      "text/plain": [
       "<seaborn.axisgrid.FacetGrid at 0x20946ee4640>"
      ]
     },
     "execution_count": 97,
     "metadata": {},
     "output_type": "execute_result"
    },
    {
     "data": {
      "image/png": "[encoded data removed]",
      "text/plain": [
       "<Figure size 500x500 with 1 Axes>"
      ]
     },
     "metadata": {},
     "output_type": "display_data"
    }
   ],
   "source": [
    "sns.displot(z_scores, kde=False)"
   ]
  },
  {
   "cell_type": "code",
   "execution_count": null,
   "id": "6f1421e1",
   "metadata": {},
   "outputs": [],
   "source": []
  },
  {
   "cell_type": "code",
   "execution_count": 98,
   "id": "8adc27a2",
   "metadata": {},
   "outputs": [],
   "source": [
    "# t - распределение"
   ]
  },
  {
   "cell_type": "code",
   "execution_count": 99,
   "id": "569009d7",
   "metadata": {},
   "outputs": [],
   "source": [
    "t_scores = []\n",
    "n = 10000"
   ]
  },
  {
   "cell_type": "code",
   "execution_count": 100,
   "id": "5f8aad41",
   "metadata": {},
   "outputs": [],
   "source": [
    "for i in range(n):\n",
    "    sample = np.random.choice(population, sample_size, False) #наша выборки\n",
    "    sample_mean = sample.mean()\n",
    "    sample_std = sample.std() #находим стандартное отклонение в выборке\n",
    "    \n",
    "    se_ = sample_std / sample_size ** 0.5 #считаем стандартную ошибку среднего \n",
    "    t_score = (sample_mean - mu) / se_  #находим новое значение в распределение\n",
    "    \n",
    "    t_scores.append(t_score)"
   ]
  },
  {
   "cell_type": "code",
   "execution_count": 101,
   "id": "d9aeac87",
   "metadata": {},
   "outputs": [
    {
     "data": {
      "text/plain": [
       "<seaborn.axisgrid.FacetGrid at 0x209483511b0>"
      ]
     },
     "execution_count": 101,
     "metadata": {},
     "output_type": "execute_result"
    },
    {
     "data": {
      "image/png": "[encoded data removed]",
      "text/plain": [
       "<Figure size 500x500 with 1 Axes>"
      ]
     },
     "metadata": {},
     "output_type": "display_data"
    }
   ],
   "source": [
    "sns.displot(t_scores, kde=False)"
   ]
  },
  {
   "cell_type": "code",
   "execution_count": 102,
   "id": "088ad2ac",
   "metadata": {},
   "outputs": [
    {
     "data": {
      "text/plain": [
       "30"
      ]
     },
     "execution_count": 102,
     "metadata": {},
     "output_type": "execute_result"
    }
   ],
   "source": [
    "# число степеней свободы для Т распределения\n",
    "df = sample_size - 1\n",
    "df"
   ]
  },
  {
   "cell_type": "markdown",
   "id": "9459773d",
   "metadata": {},
   "source": [
    "#### Распределение Стьюдента (Т-распределение)\n",
    "Чем больше степеней свободы и чем больше наблюдений, тем всё больше распределение становится похожим на нормальное"
   ]
  },
  {
   "cell_type": "code",
   "execution_count": null,
   "id": "f96c984e",
   "metadata": {},
   "outputs": [],
   "source": []
  },
  {
   "cell_type": "markdown",
   "id": "7835c087",
   "metadata": {},
   "source": [
    "### Дисперсионный анализ\n",
    "#### ANOVA на практике"
   ]
  },
  {
   "cell_type": "code",
   "execution_count": 118,
   "id": "1e400661",
   "metadata": {},
   "outputs": [],
   "source": [
    "import scipy.stats as ss\n",
    "import statsmodels.api as sm\n",
    "import statsmodels.formula.api as smf\n",
    "from statsmodels.stats.api import anova_lm\n",
    "from statsmodels.stats.multicomp import (pairwise_tukeyhsd, MultiComparison)\n",
    "\n",
    "import pingouin as pg\n",
    "\n",
    "import matplotlib.pyplot as plt\n",
    "import seaborn as sns"
   ]
  },
  {
   "cell_type": "code",
   "execution_count": 120,
   "id": "ecc33f53",
   "metadata": {},
   "outputs": [],
   "source": [
    "post_likes = pd.read_csv('post_likes.csv')"
   ]
  },
  {
   "cell_type": "code",
   "execution_count": 121,
   "id": "11f48840",
   "metadata": {},
   "outputs": [
    {
     "data": {
      "text/html": [
       "<div>\n",
       "<style scoped>\n",
       "    .dataframe tbody tr th:only-of-type {\n",
       "        vertical-align: middle;\n",
       "    }\n",
       "\n",
       "    .dataframe tbody tr th {\n",
       "        vertical-align: top;\n",
       "    }\n",
       "\n",
       "    .dataframe thead th {\n",
       "        text-align: right;\n",
       "    }\n",
       "</style>\n",
       "<table border=\"1\" class=\"dataframe\">\n",
       "  <thead>\n",
       "    <tr style=\"text-align: right;\">\n",
       "      <th></th>\n",
       "      <th>id</th>\n",
       "      <th>button</th>\n",
       "      <th>likes</th>\n",
       "    </tr>\n",
       "  </thead>\n",
       "  <tbody>\n",
       "    <tr>\n",
       "      <th>0</th>\n",
       "      <td>S001</td>\n",
       "      <td>red</td>\n",
       "      <td>160</td>\n",
       "    </tr>\n",
       "    <tr>\n",
       "      <th>1</th>\n",
       "      <td>S002</td>\n",
       "      <td>red</td>\n",
       "      <td>150</td>\n",
       "    </tr>\n",
       "    <tr>\n",
       "      <th>2</th>\n",
       "      <td>S003</td>\n",
       "      <td>red</td>\n",
       "      <td>150</td>\n",
       "    </tr>\n",
       "    <tr>\n",
       "      <th>3</th>\n",
       "      <td>S004</td>\n",
       "      <td>red</td>\n",
       "      <td>150</td>\n",
       "    </tr>\n",
       "    <tr>\n",
       "      <th>4</th>\n",
       "      <td>S005</td>\n",
       "      <td>red</td>\n",
       "      <td>187</td>\n",
       "    </tr>\n",
       "  </tbody>\n",
       "</table>\n",
       "</div>"
      ],
      "text/plain": [
       "     id button  likes\n",
       "0  S001    red    160\n",
       "1  S002    red    150\n",
       "2  S003    red    150\n",
       "3  S004    red    150\n",
       "4  S005    red    187"
      ]
     },
     "execution_count": 121,
     "metadata": {},
     "output_type": "execute_result"
    }
   ],
   "source": [
    "post_likes.head()"
   ]
  },
  {
   "cell_type": "markdown",
   "id": "1bdc1f0e",
   "metadata": {},
   "source": [
    "#### Этап 1, описателная статистика\n",
    "Рисуем графики"
   ]
  },
  {
   "cell_type": "code",
   "execution_count": 130,
   "id": "23bea3ab",
   "metadata": {},
   "outputs": [
    {
     "data": {
      "text/plain": [
       "<Axes: xlabel='button', ylabel='likes'>"
      ]
     },
     "execution_count": 130,
     "metadata": {},
     "output_type": "execute_result"
    },
    {
     "data": {
      "image/png": "[encoded data removed]",
      "text/plain": [
       "<Figure size 640x480 with 1 Axes>"
      ]
     },
     "metadata": {},
     "output_type": "display_data"
    }
   ],
   "source": [
    "#через боксплот\n",
    "sns.boxplot(x='button', y='likes', data=post_likes, hue='button', palette=['r','g','b'] ) "
   ]
  },
  {
   "cell_type": "code",
   "execution_count": 131,
   "id": "9df6b89e",
   "metadata": {},
   "outputs": [
    {
     "data": {
      "text/plain": [
       "<Axes: xlabel='button', ylabel='likes'>"
      ]
     },
     "execution_count": 131,
     "metadata": {},
     "output_type": "execute_result"
    },
    {
     "data": {
      "image/png": "[encoded data removed]",
      "text/plain": [
       "<Figure size 640x480 with 1 Axes>"
      ]
     },
     "metadata": {},
     "output_type": "display_data"
    }
   ],
   "source": [
    "#скрипичный график - более наглядно, есть наглядное распределение\n",
    "sns.violinplot(x='button', y='likes', data=post_likes, hue='button', palette=['r','g','b'] )"
   ]
  },
  {
   "cell_type": "markdown",
   "id": "9206bddc",
   "metadata": {},
   "source": [
    "#### Три способа посчитать однофакторный ANOVA:"
   ]
  },
  {
   "cell_type": "code",
   "execution_count": 133,
   "id": "304ad968",
   "metadata": {},
   "outputs": [],
   "source": [
    "# через scipy\n",
    "red = post_likes.query('button==\"red\"').likes\n",
    "green = post_likes.query('button==\"green\"').likes\n",
    "blue = post_likes.query('button==\"blue\"').likes"
   ]
  },
  {
   "cell_type": "code",
   "execution_count": 134,
   "id": "e5f4226d",
   "metadata": {},
   "outputs": [
    {
     "data": {
      "text/plain": [
       "F_onewayResult(statistic=85.99631112614011, pvalue=3.437004581021769e-30)"
      ]
     },
     "execution_count": 134,
     "metadata": {},
     "output_type": "execute_result"
    }
   ],
   "source": [
    "ss.f_oneway(red,green,blue)"
   ]
  },
  {
   "cell_type": "markdown",
   "id": "c8b1b25a",
   "metadata": {},
   "source": [
    "В дисперсионном анализе p-value < 0.05 -- между группами статистически есть различия, но если бы групп было намного больше в f_oneway:\n",
    "1. Не удобно выделять каждую группу;\n",
    "2. Не понятно между какими группами есть различия;"
   ]
  },
  {
   "cell_type": "code",
   "execution_count": 135,
   "id": "aa164610",
   "metadata": {},
   "outputs": [
    {
     "data": {
      "text/html": [
       "<div>\n",
       "<style scoped>\n",
       "    .dataframe tbody tr th:only-of-type {\n",
       "        vertical-align: middle;\n",
       "    }\n",
       "\n",
       "    .dataframe tbody tr th {\n",
       "        vertical-align: top;\n",
       "    }\n",
       "\n",
       "    .dataframe thead th {\n",
       "        text-align: right;\n",
       "    }\n",
       "</style>\n",
       "<table border=\"1\" class=\"dataframe\">\n",
       "  <thead>\n",
       "    <tr style=\"text-align: right;\">\n",
       "      <th></th>\n",
       "      <th>df</th>\n",
       "      <th>sum_sq</th>\n",
       "      <th>mean_sq</th>\n",
       "      <th>F</th>\n",
       "      <th>PR(&gt;F)</th>\n",
       "    </tr>\n",
       "  </thead>\n",
       "  <tbody>\n",
       "    <tr>\n",
       "      <th>C(button)</th>\n",
       "      <td>2.0</td>\n",
       "      <td>201960.286667</td>\n",
       "      <td>100980.143333</td>\n",
       "      <td>85.996311</td>\n",
       "      <td>3.437005e-30</td>\n",
       "    </tr>\n",
       "    <tr>\n",
       "      <th>Residual</th>\n",
       "      <td>297.0</td>\n",
       "      <td>348748.710000</td>\n",
       "      <td>1174.238081</td>\n",
       "      <td>NaN</td>\n",
       "      <td>NaN</td>\n",
       "    </tr>\n",
       "  </tbody>\n",
       "</table>\n",
       "</div>"
      ],
      "text/plain": [
       "              df         sum_sq        mean_sq          F        PR(>F)\n",
       "C(button)    2.0  201960.286667  100980.143333  85.996311  3.437005e-30\n",
       "Residual   297.0  348748.710000    1174.238081        NaN           NaN"
      ]
     },
     "execution_count": 135,
     "metadata": {},
     "output_type": "execute_result"
    }
   ],
   "source": [
    "#через statsmodels\n",
    "model = smf.ols(formula = \"likes ~ C(button)\", data=post_likes).fit()\n",
    "anova_lm(model)"
   ]
  },
  {
   "cell_type": "markdown",
   "id": "e1fd7133",
   "metadata": {},
   "source": [
    "Через statsmodels более удобный спрособ:\n",
    "1. likes ~ C(button) какие значения ~ группируем по button --нам не нужно явно выделять каждую группу;\n",
    "2. Есть больше данных которые используются в статистике;\n",
    "\n",
    "Но:\n",
    "- Слишком много промежуточных функций, чтобы получить конечный результат;"
   ]
  },
  {
   "cell_type": "code",
   "execution_count": 136,
   "id": "2807329f",
   "metadata": {},
   "outputs": [
    {
     "data": {
      "text/html": [
       "<div>\n",
       "<style scoped>\n",
       "    .dataframe tbody tr th:only-of-type {\n",
       "        vertical-align: middle;\n",
       "    }\n",
       "\n",
       "    .dataframe tbody tr th {\n",
       "        vertical-align: top;\n",
       "    }\n",
       "\n",
       "    .dataframe thead th {\n",
       "        text-align: right;\n",
       "    }\n",
       "</style>\n",
       "<table border=\"1\" class=\"dataframe\">\n",
       "  <thead>\n",
       "    <tr style=\"text-align: right;\">\n",
       "      <th></th>\n",
       "      <th>Source</th>\n",
       "      <th>ddof1</th>\n",
       "      <th>ddof2</th>\n",
       "      <th>F</th>\n",
       "      <th>p-unc</th>\n",
       "      <th>np2</th>\n",
       "    </tr>\n",
       "  </thead>\n",
       "  <tbody>\n",
       "    <tr>\n",
       "      <th>0</th>\n",
       "      <td>button</td>\n",
       "      <td>2</td>\n",
       "      <td>297</td>\n",
       "      <td>85.996311</td>\n",
       "      <td>3.437005e-30</td>\n",
       "      <td>0.366728</td>\n",
       "    </tr>\n",
       "  </tbody>\n",
       "</table>\n",
       "</div>"
      ],
      "text/plain": [
       "   Source  ddof1  ddof2          F         p-unc       np2\n",
       "0  button      2    297  85.996311  3.437005e-30  0.366728"
      ]
     },
     "execution_count": 136,
     "metadata": {},
     "output_type": "execute_result"
    }
   ],
   "source": [
    "#через pingouin\n",
    "pg.anova(data=post_likes, dv='likes', between='button')"
   ]
  },
  {
   "cell_type": "markdown",
   "id": "74438176",
   "metadata": {},
   "source": [
    "Через pingouin более удобный спрособ:\n",
    "1. Удобная формула в 1 строку;\n",
    "2. Наличие достаточной информации, которая используется в статистике;"
   ]
  },
  {
   "cell_type": "markdown",
   "id": "6ef3cd13",
   "metadata": {},
   "source": [
    "Построим график среднего с доверительными интервалами"
   ]
  },
  {
   "cell_type": "code",
   "execution_count": 137,
   "id": "44b93154",
   "metadata": {},
   "outputs": [
    {
     "data": {
      "text/plain": [
       "<Axes: xlabel='button', ylabel='likes'>"
      ]
     },
     "execution_count": 137,
     "metadata": {},
     "output_type": "execute_result"
    },
    {
     "data": {
      "image/png": "[encoded data removed]",
      "text/plain": [
       "<Figure size 640x480 with 1 Axes>"
      ]
     },
     "metadata": {},
     "output_type": "display_data"
    }
   ],
   "source": [
    "sns.pointplot(x='button', y='likes', data=post_likes)"
   ]
  },
  {
   "cell_type": "markdown",
   "id": "9650f0d1",
   "metadata": {},
   "source": [
    "По графику можно сделать следующие выводы:\n",
    "1. Однозначное различие кнопки blue;\n",
    "2. Кнопки red and green скорее всего не различаются, по ним необходимо провести доп. стат. тесты."
   ]
  },
  {
   "cell_type": "markdown",
   "id": "1d5a8951",
   "metadata": {},
   "source": [
    "#### Тестируем нормальность "
   ]
  },
  {
   "cell_type": "code",
   "execution_count": 138,
   "id": "318d1f32",
   "metadata": {},
   "outputs": [
    {
     "name": "stdout",
     "output_type": "stream",
     "text": [
      "ShapiroResult(statistic=0.988104522228241, pvalue=0.515945315361023)\n",
      "ShapiroResult(statistic=0.9937934279441833, pvalue=0.9309807419776917)\n",
      "ShapiroResult(statistic=0.988717794418335, pvalue=0.5625351667404175)\n"
     ]
    }
   ],
   "source": [
    "#Через scipy, shapiro - не очень хорошо реагирует на выборки очень большого размера, \n",
    "# если выборки слишком большие, то он реагирует даже на самые мелкие отклонения от нормальности\n",
    "print(ss.shapiro(red))\n",
    "print(ss.shapiro(blue))\n",
    "print(ss.shapiro(green))"
   ]
  },
  {
   "cell_type": "code",
   "execution_count": 139,
   "id": "2e65a136",
   "metadata": {},
   "outputs": [
    {
     "name": "stdout",
     "output_type": "stream",
     "text": [
      "NormaltestResult(statistic=1.834358590753997, pvalue=0.3996447324611219)\n",
      "NormaltestResult(statistic=0.4606964500747045, pvalue=0.7942569741771747)\n",
      "NormaltestResult(statistic=0.6727062715909409, pvalue=0.7143707913703767)\n"
     ]
    }
   ],
   "source": [
    "#Через normaltest - более нормально реагирует на выборки очень большого размера\n",
    "print(ss.normaltest(red))\n",
    "print(ss.normaltest(blue))\n",
    "print(ss.normaltest(green))"
   ]
  },
  {
   "cell_type": "code",
   "execution_count": 140,
   "id": "988706bb",
   "metadata": {},
   "outputs": [
    {
     "data": {
      "text/html": [
       "<div>\n",
       "<style scoped>\n",
       "    .dataframe tbody tr th:only-of-type {\n",
       "        vertical-align: middle;\n",
       "    }\n",
       "\n",
       "    .dataframe tbody tr th {\n",
       "        vertical-align: top;\n",
       "    }\n",
       "\n",
       "    .dataframe thead th {\n",
       "        text-align: right;\n",
       "    }\n",
       "</style>\n",
       "<table border=\"1\" class=\"dataframe\">\n",
       "  <thead>\n",
       "    <tr style=\"text-align: right;\">\n",
       "      <th></th>\n",
       "      <th>W</th>\n",
       "      <th>pval</th>\n",
       "      <th>normal</th>\n",
       "    </tr>\n",
       "    <tr>\n",
       "      <th>button</th>\n",
       "      <th></th>\n",
       "      <th></th>\n",
       "      <th></th>\n",
       "    </tr>\n",
       "  </thead>\n",
       "  <tbody>\n",
       "    <tr>\n",
       "      <th>red</th>\n",
       "      <td>1.834359</td>\n",
       "      <td>0.399645</td>\n",
       "      <td>True</td>\n",
       "    </tr>\n",
       "    <tr>\n",
       "      <th>green</th>\n",
       "      <td>0.672706</td>\n",
       "      <td>0.714371</td>\n",
       "      <td>True</td>\n",
       "    </tr>\n",
       "    <tr>\n",
       "      <th>blue</th>\n",
       "      <td>0.460696</td>\n",
       "      <td>0.794257</td>\n",
       "      <td>True</td>\n",
       "    </tr>\n",
       "  </tbody>\n",
       "</table>\n",
       "</div>"
      ],
      "text/plain": [
       "               W      pval  normal\n",
       "button                            \n",
       "red     1.834359  0.399645    True\n",
       "green   0.672706  0.714371    True\n",
       "blue    0.460696  0.794257    True"
      ]
     },
     "execution_count": 140,
     "metadata": {},
     "output_type": "execute_result"
    }
   ],
   "source": [
    "#Через pingouin\n",
    "pg.normality(data=post_likes, dv='likes', group='button', method='normaltest')"
   ]
  },
  {
   "cell_type": "code",
   "execution_count": 141,
   "id": "c8fcbf68",
   "metadata": {},
   "outputs": [
    {
     "data": {
      "image/png": "[encoded data removed]",
      "text/plain": [
       "<Figure size 640x480 with 1 Axes>"
      ]
     },
     "execution_count": 141,
     "metadata": {},
     "output_type": "execute_result"
    },
    {
     "data": {
      "image/png": "[encoded data removed]",
      "text/plain": [
       "<Figure size 640x480 with 1 Axes>"
      ]
     },
     "metadata": {},
     "output_type": "display_data"
    }
   ],
   "source": [
    "#можно проверить с помощью графиков\n",
    "#например проверим 1 группу\n",
    "sm.qqplot(blue, line='r')"
   ]
  },
  {
   "cell_type": "code",
   "execution_count": 142,
   "id": "8475d3cc",
   "metadata": {},
   "outputs": [
    {
     "data": {
      "text/plain": [
       "<Axes: xlabel='Theoretical quantiles', ylabel='Ordered quantiles'>"
      ]
     },
     "execution_count": 142,
     "metadata": {},
     "output_type": "execute_result"
    },
    {
     "data": {
      "image/png": "[encoded data removed]",
      "text/plain": [
       "<Figure size 640x480 with 1 Axes>"
      ]
     },
     "metadata": {},
     "output_type": "display_data"
    }
   ],
   "source": [
    "#график в pingouin\n",
    "pg.qqplot(blue)"
   ]
  },
  {
   "cell_type": "markdown",
   "id": "da7d12db",
   "metadata": {},
   "source": [
    "В pingouin:\n",
    "1. Более наглядно;\n",
    "2. Есть доверительный интервал;"
   ]
  },
  {
   "cell_type": "markdown",
   "id": "3e689283",
   "metadata": {},
   "source": [
    "#### Тестируем различие в дисперсиях"
   ]
  },
  {
   "cell_type": "code",
   "execution_count": 143,
   "id": "ebc101da",
   "metadata": {},
   "outputs": [
    {
     "data": {
      "text/plain": [
       "LeveneResult(statistic=35.214282435572876, pvalue=1.8886636651083753e-14)"
      ]
     },
     "execution_count": 143,
     "metadata": {},
     "output_type": "execute_result"
    }
   ],
   "source": [
    "#через scipy -- тест ЛЕВЕНА\n",
    "ss.levene(red,green,blue)"
   ]
  },
  {
   "cell_type": "code",
   "execution_count": 144,
   "id": "31c94b88",
   "metadata": {},
   "outputs": [
    {
     "data": {
      "text/html": [
       "<div>\n",
       "<style scoped>\n",
       "    .dataframe tbody tr th:only-of-type {\n",
       "        vertical-align: middle;\n",
       "    }\n",
       "\n",
       "    .dataframe tbody tr th {\n",
       "        vertical-align: top;\n",
       "    }\n",
       "\n",
       "    .dataframe thead th {\n",
       "        text-align: right;\n",
       "    }\n",
       "</style>\n",
       "<table border=\"1\" class=\"dataframe\">\n",
       "  <thead>\n",
       "    <tr style=\"text-align: right;\">\n",
       "      <th></th>\n",
       "      <th>W</th>\n",
       "      <th>pval</th>\n",
       "      <th>equal_var</th>\n",
       "    </tr>\n",
       "  </thead>\n",
       "  <tbody>\n",
       "    <tr>\n",
       "      <th>levene</th>\n",
       "      <td>35.214282</td>\n",
       "      <td>1.888664e-14</td>\n",
       "      <td>False</td>\n",
       "    </tr>\n",
       "  </tbody>\n",
       "</table>\n",
       "</div>"
      ],
      "text/plain": [
       "                W          pval  equal_var\n",
       "levene  35.214282  1.888664e-14      False"
      ]
     },
     "execution_count": 144,
     "metadata": {},
     "output_type": "execute_result"
    }
   ],
   "source": [
    "#через pingouin -- проверка на гомоскедастичность (или гетеро...)\n",
    "pg.homoscedasticity(data=post_likes, dv='likes', group='button')"
   ]
  },
  {
   "cell_type": "markdown",
   "id": "b4db1408",
   "metadata": {},
   "source": [
    "По результатам тестов дисперисии разные p-value < 0.05\n",
    "- Что в этом случае нам делать?, необходимы поправки на различие в дисперсиях\n",
    "\n",
    "Используем поправки Уэлча"
   ]
  },
  {
   "cell_type": "code",
   "execution_count": 146,
   "id": "3bbe40d7",
   "metadata": {},
   "outputs": [
    {
     "data": {
      "text/html": [
       "<div>\n",
       "<style scoped>\n",
       "    .dataframe tbody tr th:only-of-type {\n",
       "        vertical-align: middle;\n",
       "    }\n",
       "\n",
       "    .dataframe tbody tr th {\n",
       "        vertical-align: top;\n",
       "    }\n",
       "\n",
       "    .dataframe thead th {\n",
       "        text-align: right;\n",
       "    }\n",
       "</style>\n",
       "<table border=\"1\" class=\"dataframe\">\n",
       "  <thead>\n",
       "    <tr style=\"text-align: right;\">\n",
       "      <th></th>\n",
       "      <th>Source</th>\n",
       "      <th>ddof1</th>\n",
       "      <th>ddof2</th>\n",
       "      <th>F</th>\n",
       "      <th>p-unc</th>\n",
       "      <th>np2</th>\n",
       "    </tr>\n",
       "  </thead>\n",
       "  <tbody>\n",
       "    <tr>\n",
       "      <th>0</th>\n",
       "      <td>button</td>\n",
       "      <td>2</td>\n",
       "      <td>182.958104</td>\n",
       "      <td>177.856578</td>\n",
       "      <td>1.255660e-43</td>\n",
       "      <td>0.366728</td>\n",
       "    </tr>\n",
       "  </tbody>\n",
       "</table>\n",
       "</div>"
      ],
      "text/plain": [
       "   Source  ddof1       ddof2           F         p-unc       np2\n",
       "0  button      2  182.958104  177.856578  1.255660e-43  0.366728"
      ]
     },
     "execution_count": 146,
     "metadata": {},
     "output_type": "execute_result"
    }
   ],
   "source": [
    "#ANOVA Уэлча в pingouin\n",
    "pg.welch_anova(data=post_likes, dv='likes', between='button')"
   ]
  },
  {
   "cell_type": "markdown",
   "id": "bdbcc318",
   "metadata": {},
   "source": [
    "При использовании поправок на разность дисперсий, тесты показывают результат еще более высокого F значения (было 85.99 - -стало 177.85):\n",
    "- Различия между группами есть, с поправками на дисперсию они еще более выраженные;"
   ]
  },
  {
   "cell_type": "markdown",
   "id": "8209bdff",
   "metadata": {},
   "source": [
    "### Проблема множественного сравнения"
   ]
  },
  {
   "cell_type": "code",
   "execution_count": 147,
   "id": "3c10c828",
   "metadata": {},
   "outputs": [],
   "source": [
    "from scipy.special import comb"
   ]
  },
  {
   "cell_type": "markdown",
   "id": "b6fa5cf4",
   "metadata": {},
   "source": [
    "Почему мы используем ANOVA вместо t-теста?\n",
    "- Разбор:"
   ]
  },
  {
   "cell_type": "code",
   "execution_count": 163,
   "id": "cd146756",
   "metadata": {},
   "outputs": [
    {
     "name": "stdout",
     "output_type": "stream",
     "text": [
      "Колличество групп = 3.0\n",
      "p-value = 0.1426250000000001\n"
     ]
    }
   ],
   "source": [
    "n = comb(3, 2) #биноминальный коэффициент - сколько пар в 3 различных условиях\n",
    "print(f\"Колличество групп = {n}\")\n",
    "print(f'p-value = {1 - 0.95**n}') "
   ]
  },
  {
   "cell_type": "code",
   "execution_count": 164,
   "id": "418a96ef",
   "metadata": {},
   "outputs": [
    {
     "name": "stdout",
     "output_type": "stream",
     "text": [
      "Колличество групп = 10.0\n",
      "p-value = 0.4012630607616213\n"
     ]
    }
   ],
   "source": [
    "n = comb(5, 2) #биноминальный коэффициент - сколько пар в 3 различных условиях\n",
    "print(f\"Колличество групп = {n}\")\n",
    "print(f'p-value = {1 - 0.95**n}') "
   ]
  },
  {
   "cell_type": "markdown",
   "id": "2cb0112c",
   "metadata": {},
   "source": [
    "Чем больше групп, тем больше p-value при множественном сравнении == тем сильнее наш шанс допустить ошибку 1 рода."
   ]
  },
  {
   "cell_type": "markdown",
   "id": "d23461f2",
   "metadata": {},
   "source": [
    "Если нашли различия, то используем множественное сравнение. При этом нам необходимо использовать поправки в тестах, так как мы уже выяснили, что при множественном сравнени увеличивается ошибка 1 рода."
   ]
  },
  {
   "cell_type": "code",
   "execution_count": 166,
   "id": "80b35589",
   "metadata": {},
   "outputs": [
    {
     "data": {
      "text/html": [
       "<div>\n",
       "<style scoped>\n",
       "    .dataframe tbody tr th:only-of-type {\n",
       "        vertical-align: middle;\n",
       "    }\n",
       "\n",
       "    .dataframe tbody tr th {\n",
       "        vertical-align: top;\n",
       "    }\n",
       "\n",
       "    .dataframe thead th {\n",
       "        text-align: right;\n",
       "    }\n",
       "</style>\n",
       "<table border=\"1\" class=\"dataframe\">\n",
       "  <thead>\n",
       "    <tr style=\"text-align: right;\">\n",
       "      <th></th>\n",
       "      <th>Contrast</th>\n",
       "      <th>A</th>\n",
       "      <th>B</th>\n",
       "      <th>Paired</th>\n",
       "      <th>Parametric</th>\n",
       "      <th>T</th>\n",
       "      <th>dof</th>\n",
       "      <th>alternative</th>\n",
       "      <th>p-unc</th>\n",
       "      <th>BF10</th>\n",
       "      <th>hedges</th>\n",
       "    </tr>\n",
       "  </thead>\n",
       "  <tbody>\n",
       "    <tr>\n",
       "      <th>0</th>\n",
       "      <td>button</td>\n",
       "      <td>blue</td>\n",
       "      <td>green</td>\n",
       "      <td>False</td>\n",
       "      <td>True</td>\n",
       "      <td>8.591097</td>\n",
       "      <td>198.0</td>\n",
       "      <td>two-sided</td>\n",
       "      <td>2.561866e-15</td>\n",
       "      <td>2.025e+12</td>\n",
       "      <td>1.210357</td>\n",
       "    </tr>\n",
       "    <tr>\n",
       "      <th>1</th>\n",
       "      <td>button</td>\n",
       "      <td>blue</td>\n",
       "      <td>red</td>\n",
       "      <td>False</td>\n",
       "      <td>True</td>\n",
       "      <td>18.769214</td>\n",
       "      <td>198.0</td>\n",
       "      <td>two-sided</td>\n",
       "      <td>7.952330e-46</td>\n",
       "      <td>1.582e+42</td>\n",
       "      <td>2.644301</td>\n",
       "    </tr>\n",
       "    <tr>\n",
       "      <th>2</th>\n",
       "      <td>button</td>\n",
       "      <td>green</td>\n",
       "      <td>red</td>\n",
       "      <td>False</td>\n",
       "      <td>True</td>\n",
       "      <td>2.240189</td>\n",
       "      <td>198.0</td>\n",
       "      <td>two-sided</td>\n",
       "      <td>2.619001e-02</td>\n",
       "      <td>1.583</td>\n",
       "      <td>0.315609</td>\n",
       "    </tr>\n",
       "  </tbody>\n",
       "</table>\n",
       "</div>"
      ],
      "text/plain": [
       "  Contrast      A      B  Paired  Parametric          T    dof alternative  \\\n",
       "0   button   blue  green   False        True   8.591097  198.0   two-sided   \n",
       "1   button   blue    red   False        True  18.769214  198.0   two-sided   \n",
       "2   button  green    red   False        True   2.240189  198.0   two-sided   \n",
       "\n",
       "          p-unc       BF10    hedges  \n",
       "0  2.561866e-15  2.025e+12  1.210357  \n",
       "1  7.952330e-46  1.582e+42  2.644301  \n",
       "2  2.619001e-02      1.583  0.315609  "
      ]
     },
     "execution_count": 166,
     "metadata": {},
     "output_type": "execute_result"
    }
   ],
   "source": [
    "#Попарные сравнения без поправки\n",
    "pg.pairwise_tests(data=post_likes, dv='likes', between='button')"
   ]
  },
  {
   "cell_type": "code",
   "execution_count": 167,
   "id": "ca633685",
   "metadata": {},
   "outputs": [
    {
     "data": {
      "text/html": [
       "<div>\n",
       "<style scoped>\n",
       "    .dataframe tbody tr th:only-of-type {\n",
       "        vertical-align: middle;\n",
       "    }\n",
       "\n",
       "    .dataframe tbody tr th {\n",
       "        vertical-align: top;\n",
       "    }\n",
       "\n",
       "    .dataframe thead th {\n",
       "        text-align: right;\n",
       "    }\n",
       "</style>\n",
       "<table border=\"1\" class=\"dataframe\">\n",
       "  <thead>\n",
       "    <tr style=\"text-align: right;\">\n",
       "      <th></th>\n",
       "      <th>Contrast</th>\n",
       "      <th>A</th>\n",
       "      <th>B</th>\n",
       "      <th>Paired</th>\n",
       "      <th>Parametric</th>\n",
       "      <th>T</th>\n",
       "      <th>dof</th>\n",
       "      <th>alternative</th>\n",
       "      <th>p-unc</th>\n",
       "      <th>p-corr</th>\n",
       "      <th>p-adjust</th>\n",
       "      <th>BF10</th>\n",
       "      <th>hedges</th>\n",
       "    </tr>\n",
       "  </thead>\n",
       "  <tbody>\n",
       "    <tr>\n",
       "      <th>0</th>\n",
       "      <td>button</td>\n",
       "      <td>blue</td>\n",
       "      <td>green</td>\n",
       "      <td>False</td>\n",
       "      <td>True</td>\n",
       "      <td>8.591097</td>\n",
       "      <td>198.0</td>\n",
       "      <td>two-sided</td>\n",
       "      <td>2.561866e-15</td>\n",
       "      <td>7.685599e-15</td>\n",
       "      <td>bonf</td>\n",
       "      <td>2.025e+12</td>\n",
       "      <td>1.210357</td>\n",
       "    </tr>\n",
       "    <tr>\n",
       "      <th>1</th>\n",
       "      <td>button</td>\n",
       "      <td>blue</td>\n",
       "      <td>red</td>\n",
       "      <td>False</td>\n",
       "      <td>True</td>\n",
       "      <td>18.769214</td>\n",
       "      <td>198.0</td>\n",
       "      <td>two-sided</td>\n",
       "      <td>7.952330e-46</td>\n",
       "      <td>2.385699e-45</td>\n",
       "      <td>bonf</td>\n",
       "      <td>1.582e+42</td>\n",
       "      <td>2.644301</td>\n",
       "    </tr>\n",
       "    <tr>\n",
       "      <th>2</th>\n",
       "      <td>button</td>\n",
       "      <td>green</td>\n",
       "      <td>red</td>\n",
       "      <td>False</td>\n",
       "      <td>True</td>\n",
       "      <td>2.240189</td>\n",
       "      <td>198.0</td>\n",
       "      <td>two-sided</td>\n",
       "      <td>2.619001e-02</td>\n",
       "      <td>7.857004e-02</td>\n",
       "      <td>bonf</td>\n",
       "      <td>1.583</td>\n",
       "      <td>0.315609</td>\n",
       "    </tr>\n",
       "  </tbody>\n",
       "</table>\n",
       "</div>"
      ],
      "text/plain": [
       "  Contrast      A      B  Paired  Parametric          T    dof alternative  \\\n",
       "0   button   blue  green   False        True   8.591097  198.0   two-sided   \n",
       "1   button   blue    red   False        True  18.769214  198.0   two-sided   \n",
       "2   button  green    red   False        True   2.240189  198.0   two-sided   \n",
       "\n",
       "          p-unc        p-corr p-adjust       BF10    hedges  \n",
       "0  2.561866e-15  7.685599e-15     bonf  2.025e+12  1.210357  \n",
       "1  7.952330e-46  2.385699e-45     bonf  1.582e+42  2.644301  \n",
       "2  2.619001e-02  7.857004e-02     bonf      1.583  0.315609  "
      ]
     },
     "execution_count": 167,
     "metadata": {},
     "output_type": "execute_result"
    }
   ],
   "source": [
    "#попарное сравнение с поправкой Банферони\n",
    "pg.pairwise_tests(data=post_likes, dv='likes', between='button', padjust='bonf')"
   ]
  },
  {
   "cell_type": "code",
   "execution_count": 168,
   "id": "0453b221",
   "metadata": {},
   "outputs": [
    {
     "data": {
      "text/html": [
       "<div>\n",
       "<style scoped>\n",
       "    .dataframe tbody tr th:only-of-type {\n",
       "        vertical-align: middle;\n",
       "    }\n",
       "\n",
       "    .dataframe tbody tr th {\n",
       "        vertical-align: top;\n",
       "    }\n",
       "\n",
       "    .dataframe thead th {\n",
       "        text-align: right;\n",
       "    }\n",
       "</style>\n",
       "<table border=\"1\" class=\"dataframe\">\n",
       "  <thead>\n",
       "    <tr style=\"text-align: right;\">\n",
       "      <th></th>\n",
       "      <th>A</th>\n",
       "      <th>B</th>\n",
       "      <th>mean(A)</th>\n",
       "      <th>mean(B)</th>\n",
       "      <th>diff</th>\n",
       "      <th>se</th>\n",
       "      <th>T</th>\n",
       "      <th>p-tukey</th>\n",
       "      <th>hedges</th>\n",
       "    </tr>\n",
       "  </thead>\n",
       "  <tbody>\n",
       "    <tr>\n",
       "      <th>0</th>\n",
       "      <td>blue</td>\n",
       "      <td>green</td>\n",
       "      <td>210.03</td>\n",
       "      <td>162.02</td>\n",
       "      <td>48.01</td>\n",
       "      <td>4.846108</td>\n",
       "      <td>9.906919</td>\n",
       "      <td>1.143530e-14</td>\n",
       "      <td>1.210357</td>\n",
       "    </tr>\n",
       "    <tr>\n",
       "      <th>1</th>\n",
       "      <td>blue</td>\n",
       "      <td>red</td>\n",
       "      <td>210.03</td>\n",
       "      <td>149.96</td>\n",
       "      <td>60.07</td>\n",
       "      <td>4.846108</td>\n",
       "      <td>12.395514</td>\n",
       "      <td>1.143530e-14</td>\n",
       "      <td>2.644301</td>\n",
       "    </tr>\n",
       "    <tr>\n",
       "      <th>2</th>\n",
       "      <td>green</td>\n",
       "      <td>red</td>\n",
       "      <td>162.02</td>\n",
       "      <td>149.96</td>\n",
       "      <td>12.06</td>\n",
       "      <td>4.846108</td>\n",
       "      <td>2.488595</td>\n",
       "      <td>3.557351e-02</td>\n",
       "      <td>0.315609</td>\n",
       "    </tr>\n",
       "  </tbody>\n",
       "</table>\n",
       "</div>"
      ],
      "text/plain": [
       "       A      B  mean(A)  mean(B)   diff        se          T       p-tukey  \\\n",
       "0   blue  green   210.03   162.02  48.01  4.846108   9.906919  1.143530e-14   \n",
       "1   blue    red   210.03   149.96  60.07  4.846108  12.395514  1.143530e-14   \n",
       "2  green    red   162.02   149.96  12.06  4.846108   2.488595  3.557351e-02   \n",
       "\n",
       "     hedges  \n",
       "0  1.210357  \n",
       "1  2.644301  \n",
       "2  0.315609  "
      ]
     },
     "execution_count": 168,
     "metadata": {},
     "output_type": "execute_result"
    }
   ],
   "source": [
    "#попарное сравнение с тестом Тьюки\n",
    "pg.pairwise_tukey(data=post_likes, dv='likes', between='button')"
   ]
  },
  {
   "cell_type": "code",
   "execution_count": 170,
   "id": "583e2bce",
   "metadata": {},
   "outputs": [
    {
     "data": {
      "text/html": [
       "<div>\n",
       "<style scoped>\n",
       "    .dataframe tbody tr th:only-of-type {\n",
       "        vertical-align: middle;\n",
       "    }\n",
       "\n",
       "    .dataframe tbody tr th {\n",
       "        vertical-align: top;\n",
       "    }\n",
       "\n",
       "    .dataframe thead th {\n",
       "        text-align: right;\n",
       "    }\n",
       "</style>\n",
       "<table border=\"1\" class=\"dataframe\">\n",
       "  <thead>\n",
       "    <tr style=\"text-align: right;\">\n",
       "      <th></th>\n",
       "      <th>A</th>\n",
       "      <th>B</th>\n",
       "      <th>mean(A)</th>\n",
       "      <th>mean(B)</th>\n",
       "      <th>diff</th>\n",
       "      <th>se</th>\n",
       "      <th>T</th>\n",
       "      <th>df</th>\n",
       "      <th>pval</th>\n",
       "      <th>hedges</th>\n",
       "    </tr>\n",
       "  </thead>\n",
       "  <tbody>\n",
       "    <tr>\n",
       "      <th>0</th>\n",
       "      <td>blue</td>\n",
       "      <td>green</td>\n",
       "      <td>210.03</td>\n",
       "      <td>162.02</td>\n",
       "      <td>48.01</td>\n",
       "      <td>5.588343</td>\n",
       "      <td>8.591097</td>\n",
       "      <td>145.583529</td>\n",
       "      <td>2.242651e-14</td>\n",
       "      <td>1.210357</td>\n",
       "    </tr>\n",
       "    <tr>\n",
       "      <th>1</th>\n",
       "      <td>blue</td>\n",
       "      <td>red</td>\n",
       "      <td>210.03</td>\n",
       "      <td>149.96</td>\n",
       "      <td>60.07</td>\n",
       "      <td>3.200454</td>\n",
       "      <td>18.769214</td>\n",
       "      <td>188.902921</td>\n",
       "      <td>0.000000e+00</td>\n",
       "      <td>2.644301</td>\n",
       "    </tr>\n",
       "    <tr>\n",
       "      <th>2</th>\n",
       "      <td>green</td>\n",
       "      <td>red</td>\n",
       "      <td>162.02</td>\n",
       "      <td>149.96</td>\n",
       "      <td>12.06</td>\n",
       "      <td>5.383475</td>\n",
       "      <td>2.240189</td>\n",
       "      <td>129.889834</td>\n",
       "      <td>6.830241e-02</td>\n",
       "      <td>0.315609</td>\n",
       "    </tr>\n",
       "  </tbody>\n",
       "</table>\n",
       "</div>"
      ],
      "text/plain": [
       "       A      B  mean(A)  mean(B)   diff        se          T          df  \\\n",
       "0   blue  green   210.03   162.02  48.01  5.588343   8.591097  145.583529   \n",
       "1   blue    red   210.03   149.96  60.07  3.200454  18.769214  188.902921   \n",
       "2  green    red   162.02   149.96  12.06  5.383475   2.240189  129.889834   \n",
       "\n",
       "           pval    hedges  \n",
       "0  2.242651e-14  1.210357  \n",
       "1  0.000000e+00  2.644301  \n",
       "2  6.830241e-02  0.315609  "
      ]
     },
     "execution_count": 170,
     "metadata": {},
     "output_type": "execute_result"
    }
   ],
   "source": [
    "#попарное сравнение с тестом Геймса-Хоувела - при неравнестве дисперсий, НАШ СЛУЧАЙ!\n",
    "pg.pairwise_gameshowell(data=post_likes, dv='likes', between='button')"
   ]
  },
  {
   "cell_type": "code",
   "execution_count": 171,
   "id": "4dcd97b3",
   "metadata": {},
   "outputs": [
    {
     "data": {
      "text/html": [
       "<table class=\"simpletable\">\n",
       "<caption>Multiple Comparison of Means - Tukey HSD, FWER=0.05</caption>\n",
       "<tr>\n",
       "  <th>group1</th> <th>group2</th> <th>meandiff</th>  <th>p-adj</th>   <th>lower</th>    <th>upper</th>  <th>reject</th>\n",
       "</tr>\n",
       "<tr>\n",
       "   <td>blue</td>   <td>green</td>  <td>-48.01</td>    <td>0.0</td>  <td>-59.4251</td> <td>-36.5949</td>  <td>True</td> \n",
       "</tr>\n",
       "<tr>\n",
       "   <td>blue</td>    <td>red</td>   <td>-60.07</td>    <td>0.0</td>  <td>-71.4851</td> <td>-48.6549</td>  <td>True</td> \n",
       "</tr>\n",
       "<tr>\n",
       "   <td>green</td>   <td>red</td>   <td>-12.06</td>  <td>0.0356</td> <td>-23.4751</td>  <td>-0.6449</td>  <td>True</td> \n",
       "</tr>\n",
       "</table>"
      ],
      "text/latex": [
       "\\begin{center}\n",
       "\\begin{tabular}{ccccccc}\n",
       "\\toprule\n",
       "\\textbf{group1} & \\textbf{group2} & \\textbf{meandiff} & \\textbf{p-adj} & \\textbf{lower} & \\textbf{upper} & \\textbf{reject}  \\\\\n",
       "\\midrule\n",
       "      blue      &      green      &       -48.01      &      0.0       &    -59.4251    &    -36.5949    &       True       \\\\\n",
       "      blue      &       red       &       -60.07      &      0.0       &    -71.4851    &    -48.6549    &       True       \\\\\n",
       "     green      &       red       &       -12.06      &     0.0356     &    -23.4751    &    -0.6449     &       True       \\\\\n",
       "\\bottomrule\n",
       "\\end{tabular}\n",
       "%\\caption{Multiple Comparison of Means - Tukey HSD, FWER=0.05}\n",
       "\\end{center}"
      ],
      "text/plain": [
       "<class 'statsmodels.iolib.table.SimpleTable'>"
      ]
     },
     "execution_count": 171,
     "metadata": {},
     "output_type": "execute_result"
    }
   ],
   "source": [
    "#реализация через стат моделс\n",
    "#попарное сравнение с тестом Тьюки\n",
    "#через стат моделс нет теста Геймса-Хоувела\n",
    "#так что используем pingouin\n",
    "pairwise_tukeyhsd(post_likes.likes, post_likes.button).summary()"
   ]
  },
  {
   "cell_type": "code",
   "execution_count": 175,
   "id": "d06cf747",
   "metadata": {},
   "outputs": [
    {
     "data": {
      "text/html": [
       "<table class=\"simpletable\">\n",
       "<caption>Multiple Comparison of Means - Tukey HSD, FWER=0.05</caption>\n",
       "<tr>\n",
       "  <th>group1</th> <th>group2</th> <th>meandiff</th>  <th>p-adj</th>   <th>lower</th>    <th>upper</th>  <th>reject</th>\n",
       "</tr>\n",
       "<tr>\n",
       "   <td>blue</td>   <td>green</td>  <td>-48.01</td>    <td>0.0</td>  <td>-59.4251</td> <td>-36.5949</td>  <td>True</td> \n",
       "</tr>\n",
       "<tr>\n",
       "   <td>blue</td>    <td>red</td>   <td>-60.07</td>    <td>0.0</td>  <td>-71.4851</td> <td>-48.6549</td>  <td>True</td> \n",
       "</tr>\n",
       "<tr>\n",
       "   <td>green</td>   <td>red</td>   <td>-12.06</td>  <td>0.0356</td> <td>-23.4751</td>  <td>-0.6449</td>  <td>True</td> \n",
       "</tr>\n",
       "</table>"
      ],
      "text/latex": [
       "\\begin{center}\n",
       "\\begin{tabular}{ccccccc}\n",
       "\\toprule\n",
       "\\textbf{group1} & \\textbf{group2} & \\textbf{meandiff} & \\textbf{p-adj} & \\textbf{lower} & \\textbf{upper} & \\textbf{reject}  \\\\\n",
       "\\midrule\n",
       "      blue      &      green      &       -48.01      &      0.0       &    -59.4251    &    -36.5949    &       True       \\\\\n",
       "      blue      &       red       &       -60.07      &      0.0       &    -71.4851    &    -48.6549    &       True       \\\\\n",
       "     green      &       red       &       -12.06      &     0.0356     &    -23.4751    &    -0.6449     &       True       \\\\\n",
       "\\bottomrule\n",
       "\\end{tabular}\n",
       "%\\caption{Multiple Comparison of Means - Tukey HSD, FWER=0.05}\n",
       "\\end{center}"
      ],
      "text/plain": [
       "<class 'statsmodels.iolib.table.SimpleTable'>"
      ]
     },
     "execution_count": 175,
     "metadata": {},
     "output_type": "execute_result"
    }
   ],
   "source": [
    "MultiComparison(post_likes.likes, post_likes.button).tukeyhsd().summary()"
   ]
  },
  {
   "cell_type": "markdown",
   "id": "5b4de847",
   "metadata": {},
   "source": [
    "### Mногофакторный дисперсионный анализ\n",
    "#### Многофакторный ANOVA"
   ]
  },
  {
   "cell_type": "markdown",
   "id": "30390829",
   "metadata": {},
   "source": [
    "Многофакторный дисперсионный анализ:\n",
    "проверяет действие несколких факторов на исследуемый нами признак:\n",
    "1. фактор нашего экспериментального воздействия(колличество лайков, просмотров, реакций, цвет лайка);\n",
    "2. дополнительный фактор: возрастная группа, мужчины женщины и тд(разные группы в группе, форма лайка)\n"
   ]
  },
  {
   "cell_type": "code",
   "execution_count": 177,
   "id": "6f9f54b5",
   "metadata": {},
   "outputs": [],
   "source": [
    "#загрузим многофакторный данные \n",
    "ads_clicks = pd.read_csv('ads_clicks.csv')"
   ]
  },
  {
   "cell_type": "code",
   "execution_count": 178,
   "id": "d6d35a76",
   "metadata": {},
   "outputs": [
    {
     "data": {
      "text/html": [
       "<div>\n",
       "<style scoped>\n",
       "    .dataframe tbody tr th:only-of-type {\n",
       "        vertical-align: middle;\n",
       "    }\n",
       "\n",
       "    .dataframe tbody tr th {\n",
       "        vertical-align: top;\n",
       "    }\n",
       "\n",
       "    .dataframe thead th {\n",
       "        text-align: right;\n",
       "    }\n",
       "</style>\n",
       "<table border=\"1\" class=\"dataframe\">\n",
       "  <thead>\n",
       "    <tr style=\"text-align: right;\">\n",
       "      <th></th>\n",
       "      <th>id</th>\n",
       "      <th>ads</th>\n",
       "      <th>age_group</th>\n",
       "      <th>clicks</th>\n",
       "    </tr>\n",
       "  </thead>\n",
       "  <tbody>\n",
       "    <tr>\n",
       "      <th>0</th>\n",
       "      <td>S001</td>\n",
       "      <td>classic</td>\n",
       "      <td>18-27</td>\n",
       "      <td>40</td>\n",
       "    </tr>\n",
       "    <tr>\n",
       "      <th>1</th>\n",
       "      <td>S002</td>\n",
       "      <td>classic</td>\n",
       "      <td>18-27</td>\n",
       "      <td>22</td>\n",
       "    </tr>\n",
       "    <tr>\n",
       "      <th>2</th>\n",
       "      <td>S003</td>\n",
       "      <td>classic</td>\n",
       "      <td>18-27</td>\n",
       "      <td>41</td>\n",
       "    </tr>\n",
       "    <tr>\n",
       "      <th>3</th>\n",
       "      <td>S004</td>\n",
       "      <td>classic</td>\n",
       "      <td>18-27</td>\n",
       "      <td>35</td>\n",
       "    </tr>\n",
       "    <tr>\n",
       "      <th>4</th>\n",
       "      <td>S005</td>\n",
       "      <td>classic</td>\n",
       "      <td>18-27</td>\n",
       "      <td>39</td>\n",
       "    </tr>\n",
       "  </tbody>\n",
       "</table>\n",
       "</div>"
      ],
      "text/plain": [
       "     id      ads age_group  clicks\n",
       "0  S001  classic     18-27      40\n",
       "1  S002  classic     18-27      22\n",
       "2  S003  classic     18-27      41\n",
       "3  S004  classic     18-27      35\n",
       "4  S005  classic     18-27      39"
      ]
     },
     "execution_count": 178,
     "metadata": {},
     "output_type": "execute_result"
    }
   ],
   "source": [
    "ads_clicks.head()"
   ]
  },
  {
   "cell_type": "code",
   "execution_count": 180,
   "id": "1f7782c1",
   "metadata": {},
   "outputs": [
    {
     "data": {
      "text/html": [
       "<div>\n",
       "<style scoped>\n",
       "    .dataframe tbody tr th:only-of-type {\n",
       "        vertical-align: middle;\n",
       "    }\n",
       "\n",
       "    .dataframe tbody tr th {\n",
       "        vertical-align: top;\n",
       "    }\n",
       "\n",
       "    .dataframe thead th {\n",
       "        text-align: right;\n",
       "    }\n",
       "</style>\n",
       "<table border=\"1\" class=\"dataframe\">\n",
       "  <thead>\n",
       "    <tr style=\"text-align: right;\">\n",
       "      <th></th>\n",
       "      <th>df</th>\n",
       "      <th>sum_sq</th>\n",
       "      <th>mean_sq</th>\n",
       "      <th>F</th>\n",
       "      <th>PR(&gt;F)</th>\n",
       "    </tr>\n",
       "  </thead>\n",
       "  <tbody>\n",
       "    <tr>\n",
       "      <th>C(ads)</th>\n",
       "      <td>1.0</td>\n",
       "      <td>33735.001667</td>\n",
       "      <td>33735.001667</td>\n",
       "      <td>68.810244</td>\n",
       "      <td>7.245176e-16</td>\n",
       "    </tr>\n",
       "    <tr>\n",
       "      <th>C(age_group)</th>\n",
       "      <td>2.0</td>\n",
       "      <td>400495.163333</td>\n",
       "      <td>200247.581667</td>\n",
       "      <td>408.450696</td>\n",
       "      <td>1.950084e-112</td>\n",
       "    </tr>\n",
       "    <tr>\n",
       "      <th>Residual</th>\n",
       "      <td>596.0</td>\n",
       "      <td>292195.753333</td>\n",
       "      <td>490.261331</td>\n",
       "      <td>NaN</td>\n",
       "      <td>NaN</td>\n",
       "    </tr>\n",
       "  </tbody>\n",
       "</table>\n",
       "</div>"
      ],
      "text/plain": [
       "                 df         sum_sq        mean_sq           F         PR(>F)\n",
       "C(ads)          1.0   33735.001667   33735.001667   68.810244   7.245176e-16\n",
       "C(age_group)    2.0  400495.163333  200247.581667  408.450696  1.950084e-112\n",
       "Residual      596.0  292195.753333     490.261331         NaN            NaN"
      ]
     },
     "execution_count": 180,
     "metadata": {},
     "output_type": "execute_result"
    }
   ],
   "source": [
    "#многофакторный анализ через стат моделс - только главные эффекты\n",
    "model_main = smf.ols(\"clicks ~ C(ads)+C(age_group)\", data=ads_clicks).fit()\n",
    "anova_lm(model_main)"
   ]
  },
  {
   "cell_type": "markdown",
   "id": "f4d4cd3f",
   "metadata": {},
   "source": [
    "По результатам теста:\n",
    "1. Есть эффект рекламной компании;\n",
    "2. Есть эффект возрастной группы;\n",
    "\n",
    "Мы учли только главные эффекты, связь между 1 и 2 фактором здесь не учитываем;"
   ]
  },
  {
   "cell_type": "code",
   "execution_count": 181,
   "id": "f742684e",
   "metadata": {},
   "outputs": [
    {
     "data": {
      "text/plain": [
       "<Axes: xlabel='ads', ylabel='clicks'>"
      ]
     },
     "execution_count": 181,
     "metadata": {},
     "output_type": "execute_result"
    },
    {
     "data": {
      "image/png": "[encoded data removed]",
      "text/plain": [
       "<Figure size 640x480 with 1 Axes>"
      ]
     },
     "metadata": {},
     "output_type": "display_data"
    }
   ],
   "source": [
    "#Первый фактор\n",
    "sns.pointplot(x='ads', y='clicks', data=ads_clicks, capsize=0.2)"
   ]
  },
  {
   "cell_type": "markdown",
   "id": "cd9ae445",
   "metadata": {},
   "source": [
    "По графику: реклама bold and classic различаются, но необходимо еще учитывать фактор возраста"
   ]
  },
  {
   "cell_type": "code",
   "execution_count": 183,
   "id": "847e371d",
   "metadata": {},
   "outputs": [
    {
     "data": {
      "text/plain": [
       "<Axes: xlabel='age_group', ylabel='clicks'>"
      ]
     },
     "execution_count": 183,
     "metadata": {},
     "output_type": "execute_result"
    },
    {
     "data": {
      "image/png": "[encoded data removed]",
      "text/plain": [
       "<Figure size 640x480 with 1 Axes>"
      ]
     },
     "metadata": {},
     "output_type": "display_data"
    }
   ],
   "source": [
    "#Второй фактор\n",
    "sns.pointplot(x='age_group', y='clicks', data=ads_clicks, capsize=0.2)"
   ]
  },
  {
   "cell_type": "markdown",
   "id": "29cc4e61",
   "metadata": {},
   "source": [
    "По графику: более молодые группы кликают чаще.\n",
    "\n",
    "НО сейчас у нас графики не взаимосвязанны и !многофакторный анализ через стат моделс - мы рассмотрели только главные эффекты === как будто они не связанны === будто бы всегда эпатажная реклама будет собирать больше просмотров и в этой рекламе 18-27 возрастная группа самая кликабельная"
   ]
  },
  {
   "cell_type": "markdown",
   "id": "e6bffef5",
   "metadata": {},
   "source": [
    "##### Проверяем взаимодеqствие:"
   ]
  },
  {
   "cell_type": "code",
   "execution_count": 184,
   "id": "b39001ec",
   "metadata": {},
   "outputs": [
    {
     "data": {
      "text/html": [
       "<div>\n",
       "<style scoped>\n",
       "    .dataframe tbody tr th:only-of-type {\n",
       "        vertical-align: middle;\n",
       "    }\n",
       "\n",
       "    .dataframe tbody tr th {\n",
       "        vertical-align: top;\n",
       "    }\n",
       "\n",
       "    .dataframe thead th {\n",
       "        text-align: right;\n",
       "    }\n",
       "</style>\n",
       "<table border=\"1\" class=\"dataframe\">\n",
       "  <thead>\n",
       "    <tr style=\"text-align: right;\">\n",
       "      <th></th>\n",
       "      <th>df</th>\n",
       "      <th>sum_sq</th>\n",
       "      <th>mean_sq</th>\n",
       "      <th>F</th>\n",
       "      <th>PR(&gt;F)</th>\n",
       "    </tr>\n",
       "  </thead>\n",
       "  <tbody>\n",
       "    <tr>\n",
       "      <th>C(ads)</th>\n",
       "      <td>1.0</td>\n",
       "      <td>33735.001667</td>\n",
       "      <td>33735.001667</td>\n",
       "      <td>336.722432</td>\n",
       "      <td>6.446773e-60</td>\n",
       "    </tr>\n",
       "    <tr>\n",
       "      <th>C(age_group)</th>\n",
       "      <td>2.0</td>\n",
       "      <td>400495.163333</td>\n",
       "      <td>200247.581667</td>\n",
       "      <td>1998.750536</td>\n",
       "      <td>1.636934e-264</td>\n",
       "    </tr>\n",
       "    <tr>\n",
       "      <th>C(ads):C(age_group)</th>\n",
       "      <td>2.0</td>\n",
       "      <td>232685.043333</td>\n",
       "      <td>116342.521667</td>\n",
       "      <td>1161.260853</td>\n",
       "      <td>5.618312e-206</td>\n",
       "    </tr>\n",
       "    <tr>\n",
       "      <th>Residual</th>\n",
       "      <td>594.0</td>\n",
       "      <td>59510.710000</td>\n",
       "      <td>100.186380</td>\n",
       "      <td>NaN</td>\n",
       "      <td>NaN</td>\n",
       "    </tr>\n",
       "  </tbody>\n",
       "</table>\n",
       "</div>"
      ],
      "text/plain": [
       "                        df         sum_sq        mean_sq            F  \\\n",
       "C(ads)                 1.0   33735.001667   33735.001667   336.722432   \n",
       "C(age_group)           2.0  400495.163333  200247.581667  1998.750536   \n",
       "C(ads):C(age_group)    2.0  232685.043333  116342.521667  1161.260853   \n",
       "Residual             594.0   59510.710000     100.186380          NaN   \n",
       "\n",
       "                            PR(>F)  \n",
       "C(ads)                6.446773e-60  \n",
       "C(age_group)         1.636934e-264  \n",
       "C(ads):C(age_group)  5.618312e-206  \n",
       "Residual                       NaN  "
      ]
     },
     "execution_count": 184,
     "metadata": {},
     "output_type": "execute_result"
    }
   ],
   "source": [
    "#многофакторный анализ через стат моделс - главные эффекты + их взаимодействие\n",
    "model_main = smf.ols(\"clicks ~ C(ads)+C(age_group) + C(ads):C(age_group)\", data=ads_clicks).fit()\n",
    "anova_lm(model_main)"
   ]
  },
  {
   "cell_type": "code",
   "execution_count": 185,
   "id": "22ca70b4",
   "metadata": {},
   "outputs": [
    {
     "data": {
      "text/plain": [
       "<Axes: xlabel='ads', ylabel='clicks'>"
      ]
     },
     "execution_count": 185,
     "metadata": {},
     "output_type": "execute_result"
    },
    {
     "data": {
      "image/png": "[encoded data removed]",
      "text/plain": [
       "<Figure size 640x480 with 1 Axes>"
      ]
     },
     "metadata": {},
     "output_type": "display_data"
    }
   ],
   "source": [
    "sns.pointplot(x='ads', y='clicks', hue='age_group', data=ads_clicks, capsize=0.2)"
   ]
  },
  {
   "cell_type": "markdown",
   "id": "13326add",
   "metadata": {},
   "source": [
    "При проверке взамодействия факторов в стат моделс получили стат значимые результаты == взаимодействие есть и оно значимо;\n",
    "\n",
    "При проверке взаимодействия факторов на графике можно визуально увидеть , как разные возрастные группы отреагировали на новую рекламу;\n"
   ]
  },
  {
   "cell_type": "code",
   "execution_count": 186,
   "id": "83332cc5",
   "metadata": {},
   "outputs": [
    {
     "data": {
      "text/html": [
       "<div>\n",
       "<style scoped>\n",
       "    .dataframe tbody tr th:only-of-type {\n",
       "        vertical-align: middle;\n",
       "    }\n",
       "\n",
       "    .dataframe tbody tr th {\n",
       "        vertical-align: top;\n",
       "    }\n",
       "\n",
       "    .dataframe thead th {\n",
       "        text-align: right;\n",
       "    }\n",
       "</style>\n",
       "<table border=\"1\" class=\"dataframe\">\n",
       "  <thead>\n",
       "    <tr style=\"text-align: right;\">\n",
       "      <th></th>\n",
       "      <th>Source</th>\n",
       "      <th>SS</th>\n",
       "      <th>DF</th>\n",
       "      <th>MS</th>\n",
       "      <th>F</th>\n",
       "      <th>p-unc</th>\n",
       "      <th>np2</th>\n",
       "    </tr>\n",
       "  </thead>\n",
       "  <tbody>\n",
       "    <tr>\n",
       "      <th>0</th>\n",
       "      <td>ads</td>\n",
       "      <td>33735.001667</td>\n",
       "      <td>1</td>\n",
       "      <td>33735.001667</td>\n",
       "      <td>336.722432</td>\n",
       "      <td>6.446773e-60</td>\n",
       "      <td>0.361786</td>\n",
       "    </tr>\n",
       "    <tr>\n",
       "      <th>1</th>\n",
       "      <td>age_group</td>\n",
       "      <td>400495.163333</td>\n",
       "      <td>2</td>\n",
       "      <td>200247.581667</td>\n",
       "      <td>1998.750536</td>\n",
       "      <td>1.636934e-264</td>\n",
       "      <td>0.870631</td>\n",
       "    </tr>\n",
       "    <tr>\n",
       "      <th>2</th>\n",
       "      <td>ads * age_group</td>\n",
       "      <td>232685.043333</td>\n",
       "      <td>2</td>\n",
       "      <td>116342.521667</td>\n",
       "      <td>1161.260853</td>\n",
       "      <td>5.618312e-206</td>\n",
       "      <td>0.796333</td>\n",
       "    </tr>\n",
       "    <tr>\n",
       "      <th>3</th>\n",
       "      <td>Residual</td>\n",
       "      <td>59510.710000</td>\n",
       "      <td>594</td>\n",
       "      <td>100.186380</td>\n",
       "      <td>NaN</td>\n",
       "      <td>NaN</td>\n",
       "      <td>NaN</td>\n",
       "    </tr>\n",
       "  </tbody>\n",
       "</table>\n",
       "</div>"
      ],
      "text/plain": [
       "            Source             SS   DF             MS            F  \\\n",
       "0              ads   33735.001667    1   33735.001667   336.722432   \n",
       "1        age_group  400495.163333    2  200247.581667  1998.750536   \n",
       "2  ads * age_group  232685.043333    2  116342.521667  1161.260853   \n",
       "3         Residual   59510.710000  594     100.186380          NaN   \n",
       "\n",
       "           p-unc       np2  \n",
       "0   6.446773e-60  0.361786  \n",
       "1  1.636934e-264  0.870631  \n",
       "2  5.618312e-206  0.796333  \n",
       "3            NaN       NaN  "
      ]
     },
     "execution_count": 186,
     "metadata": {},
     "output_type": "execute_result"
    }
   ],
   "source": [
    "#сделаем то же самое в pingouin\n",
    "#проверяет влияние факторов и их взаимодействие(n2 показывает влияние только этого фактора без учета других факторов)\n",
    "pg.anova(data=ads_clicks, dv='clicks', between=['ads','age_group'])"
   ]
  },
  {
   "cell_type": "code",
   "execution_count": 187,
   "id": "c86be8ad",
   "metadata": {},
   "outputs": [
    {
     "data": {
      "text/html": [
       "<div>\n",
       "<style scoped>\n",
       "    .dataframe tbody tr th:only-of-type {\n",
       "        vertical-align: middle;\n",
       "    }\n",
       "\n",
       "    .dataframe tbody tr th {\n",
       "        vertical-align: top;\n",
       "    }\n",
       "\n",
       "    .dataframe thead th {\n",
       "        text-align: right;\n",
       "    }\n",
       "</style>\n",
       "<table border=\"1\" class=\"dataframe\">\n",
       "  <thead>\n",
       "    <tr style=\"text-align: right;\">\n",
       "      <th></th>\n",
       "      <th>Source</th>\n",
       "      <th>SS</th>\n",
       "      <th>DF</th>\n",
       "      <th>MS</th>\n",
       "      <th>F</th>\n",
       "      <th>p-unc</th>\n",
       "      <th>n2</th>\n",
       "    </tr>\n",
       "  </thead>\n",
       "  <tbody>\n",
       "    <tr>\n",
       "      <th>0</th>\n",
       "      <td>ads</td>\n",
       "      <td>33735.001667</td>\n",
       "      <td>1</td>\n",
       "      <td>33735.001667</td>\n",
       "      <td>336.722432</td>\n",
       "      <td>6.446773e-60</td>\n",
       "      <td>0.046440</td>\n",
       "    </tr>\n",
       "    <tr>\n",
       "      <th>1</th>\n",
       "      <td>age_group</td>\n",
       "      <td>400495.163333</td>\n",
       "      <td>2</td>\n",
       "      <td>200247.581667</td>\n",
       "      <td>1998.750536</td>\n",
       "      <td>1.636934e-264</td>\n",
       "      <td>0.551323</td>\n",
       "    </tr>\n",
       "    <tr>\n",
       "      <th>2</th>\n",
       "      <td>ads * age_group</td>\n",
       "      <td>232685.043333</td>\n",
       "      <td>2</td>\n",
       "      <td>116342.521667</td>\n",
       "      <td>1161.260853</td>\n",
       "      <td>5.618312e-206</td>\n",
       "      <td>0.320315</td>\n",
       "    </tr>\n",
       "    <tr>\n",
       "      <th>3</th>\n",
       "      <td>Residual</td>\n",
       "      <td>59510.710000</td>\n",
       "      <td>594</td>\n",
       "      <td>100.186380</td>\n",
       "      <td>NaN</td>\n",
       "      <td>NaN</td>\n",
       "      <td>NaN</td>\n",
       "    </tr>\n",
       "  </tbody>\n",
       "</table>\n",
       "</div>"
      ],
      "text/plain": [
       "            Source             SS   DF             MS            F  \\\n",
       "0              ads   33735.001667    1   33735.001667   336.722432   \n",
       "1        age_group  400495.163333    2  200247.581667  1998.750536   \n",
       "2  ads * age_group  232685.043333    2  116342.521667  1161.260853   \n",
       "3         Residual   59510.710000  594     100.186380          NaN   \n",
       "\n",
       "           p-unc        n2  \n",
       "0   6.446773e-60  0.046440  \n",
       "1  1.636934e-264  0.551323  \n",
       "2  5.618312e-206  0.320315  \n",
       "3            NaN       NaN  "
      ]
     },
     "execution_count": 187,
     "metadata": {},
     "output_type": "execute_result"
    }
   ],
   "source": [
    "#размер эффекта(n2 показывает влияние факторая с учетом других факторов общую дисперсию)\n",
    "pg.anova(data=ads_clicks, dv='clicks', between=['ads','age_group'], effsize='n2')"
   ]
  },
  {
   "cell_type": "code",
   "execution_count": null,
   "id": "854a05dc",
   "metadata": {},
   "outputs": [],
   "source": []
  },
  {
   "cell_type": "code",
   "execution_count": 189,
   "id": "b5cfd1aa",
   "metadata": {},
   "outputs": [
    {
     "data": {
      "text/html": [
       "<div>\n",
       "<style scoped>\n",
       "    .dataframe tbody tr th:only-of-type {\n",
       "        vertical-align: middle;\n",
       "    }\n",
       "\n",
       "    .dataframe tbody tr th {\n",
       "        vertical-align: top;\n",
       "    }\n",
       "\n",
       "    .dataframe thead th {\n",
       "        text-align: right;\n",
       "    }\n",
       "</style>\n",
       "<table border=\"1\" class=\"dataframe\">\n",
       "  <thead>\n",
       "    <tr style=\"text-align: right;\">\n",
       "      <th></th>\n",
       "      <th>Source</th>\n",
       "      <th>SS</th>\n",
       "      <th>DF</th>\n",
       "      <th>MS</th>\n",
       "      <th>F</th>\n",
       "      <th>p-unc</th>\n",
       "      <th>np2</th>\n",
       "    </tr>\n",
       "  </thead>\n",
       "  <tbody>\n",
       "    <tr>\n",
       "      <th>0</th>\n",
       "      <td>ads</td>\n",
       "      <td>33735.001667</td>\n",
       "      <td>1</td>\n",
       "      <td>33735.001667</td>\n",
       "      <td>336.722432</td>\n",
       "      <td>6.446773e-60</td>\n",
       "      <td>0.361786</td>\n",
       "    </tr>\n",
       "    <tr>\n",
       "      <th>1</th>\n",
       "      <td>age_group</td>\n",
       "      <td>400495.163333</td>\n",
       "      <td>2</td>\n",
       "      <td>200247.581667</td>\n",
       "      <td>1998.750536</td>\n",
       "      <td>1.636934e-264</td>\n",
       "      <td>0.870631</td>\n",
       "    </tr>\n",
       "    <tr>\n",
       "      <th>2</th>\n",
       "      <td>ads * age_group</td>\n",
       "      <td>232685.043333</td>\n",
       "      <td>2</td>\n",
       "      <td>116342.521667</td>\n",
       "      <td>1161.260853</td>\n",
       "      <td>5.618312e-206</td>\n",
       "      <td>0.796333</td>\n",
       "    </tr>\n",
       "    <tr>\n",
       "      <th>3</th>\n",
       "      <td>Residual</td>\n",
       "      <td>59510.710000</td>\n",
       "      <td>594</td>\n",
       "      <td>100.186380</td>\n",
       "      <td>NaN</td>\n",
       "      <td>NaN</td>\n",
       "      <td>NaN</td>\n",
       "    </tr>\n",
       "  </tbody>\n",
       "</table>\n",
       "</div>"
      ],
      "text/plain": [
       "            Source             SS   DF             MS            F  \\\n",
       "0              ads   33735.001667    1   33735.001667   336.722432   \n",
       "1        age_group  400495.163333    2  200247.581667  1998.750536   \n",
       "2  ads * age_group  232685.043333    2  116342.521667  1161.260853   \n",
       "3         Residual   59510.710000  594     100.186380          NaN   \n",
       "\n",
       "           p-unc       np2  \n",
       "0   6.446773e-60  0.361786  \n",
       "1  1.636934e-264  0.870631  \n",
       "2  5.618312e-206  0.796333  \n",
       "3            NaN       NaN  "
      ]
     },
     "execution_count": 189,
     "metadata": {},
     "output_type": "execute_result"
    }
   ],
   "source": [
    "pg.anova(data=ads_clicks, dv='clicks', between=['ads','age_group'], ss_type=3)"
   ]
  },
  {
   "cell_type": "markdown",
   "id": "51ae8231",
   "metadata": {},
   "source": [
    "В ss_type показывает как считается сумма квадратов эффектов:\n",
    "1. ss_type=1 считается попорялку -- 1 фактор, 2 фактор, взаимодействие;\n",
    "2. ss_type=2 считает главные факторы одновременно и потом взаимодействие -- считаем, если нам вожны именно главные факторы\n",
    "3. ss_type=3 сичтает все одновременно --считаем, если нам важно взаимодействие\n",
    "\n",
    "Не рекомендуется использовать ss_type=1, потому что она зависит от того в каком порядке мы вводим факторы."
   ]
  },
  {
   "cell_type": "code",
   "execution_count": null,
   "id": "aabf9a04",
   "metadata": {},
   "outputs": [],
   "source": []
  },
  {
   "cell_type": "code",
   "execution_count": null,
   "id": "b9048808",
   "metadata": {},
   "outputs": [],
   "source": []
  },
  {
   "cell_type": "code",
   "execution_count": null,
   "id": "45e97b5d",
   "metadata": {},
   "outputs": [],
   "source": []
  },
  {
   "cell_type": "code",
   "execution_count": null,
   "id": "02d2f07e",
   "metadata": {},
   "outputs": [],
   "source": []
  },
  {
   "cell_type": "code",
   "execution_count": null,
   "id": "6bb6b05c",
   "metadata": {},
   "outputs": [],
   "source": []
  },
  {
   "cell_type": "code",
   "execution_count": null,
   "id": "bc9b0499",
   "metadata": {},
   "outputs": [],
   "source": []
  },
  {
   "cell_type": "code",
   "execution_count": null,
   "id": "c4cca286",
   "metadata": {},
   "outputs": [],
   "source": []
  },
  {
   "cell_type": "code",
   "execution_count": null,
   "id": "901f260a",
   "metadata": {},
   "outputs": [],
   "source": []
  }
 ],
 "metadata": {
  "kernelspec": {
   "display_name": "Python 3 (ipykernel)",
   "language": "python",
   "name": "python3"
  },
  "language_info": {
   "codemirror_mode": {
    "name": "ipython",
    "version": 3
   },
   "file_extension": ".py",
   "mimetype": "text/x-python",
   "name": "python",
   "nbconvert_exporter": "python",
   "pygments_lexer": "ipython3",
   "version": "3.10.7"
  }
 },
 "nbformat": 4,
 "nbformat_minor": 5
}
