{
 "cells": [
  {
   "cell_type": "markdown",
   "id": "1a82d46b",
   "metadata": {},
   "source": [
    "### Bootstrap"
   ]
  },
  {
   "cell_type": "markdown",
   "id": "996c2f0c",
   "metadata": {},
   "source": [
    "Не всегда тот показатель, который нас интересует во время анализа, можно проверить готовым тестом. Для подобных непонятных ситуаций аналитиками часто используется метод бутстрапа (bootstrap), позволяющий оценить доверительный интервал для любого интересующего нас показателя.   "
   ]
  },
  {
   "cell_type": "code",
   "execution_count": 1,
   "id": "9220c143",
   "metadata": {},
   "outputs": [],
   "source": [
    "from scipy.stats import bootstrap\n",
    "import pandas as pd\n",
    "import numpy as np\n",
    "import seaborn as sns "
   ]
  },
  {
   "cell_type": "code",
   "execution_count": 3,
   "id": "73786fc1",
   "metadata": {},
   "outputs": [
    {
     "data": {
      "text/html": [
       "<div>\n",
       "<style scoped>\n",
       "    .dataframe tbody tr th:only-of-type {\n",
       "        vertical-align: middle;\n",
       "    }\n",
       "\n",
       "    .dataframe tbody tr th {\n",
       "        vertical-align: top;\n",
       "    }\n",
       "\n",
       "    .dataframe thead th {\n",
       "        text-align: right;\n",
       "    }\n",
       "</style>\n",
       "<table border=\"1\" class=\"dataframe\">\n",
       "  <thead>\n",
       "    <tr style=\"text-align: right;\">\n",
       "      <th></th>\n",
       "      <th>value</th>\n",
       "      <th>group</th>\n",
       "    </tr>\n",
       "  </thead>\n",
       "  <tbody>\n",
       "    <tr>\n",
       "      <th>0</th>\n",
       "      <td>100.719713</td>\n",
       "      <td>experimental</td>\n",
       "    </tr>\n",
       "    <tr>\n",
       "      <th>1</th>\n",
       "      <td>106.771525</td>\n",
       "      <td>experimental</td>\n",
       "    </tr>\n",
       "    <tr>\n",
       "      <th>2</th>\n",
       "      <td>106.974612</td>\n",
       "      <td>experimental</td>\n",
       "    </tr>\n",
       "    <tr>\n",
       "      <th>3</th>\n",
       "      <td>109.249662</td>\n",
       "      <td>experimental</td>\n",
       "    </tr>\n",
       "    <tr>\n",
       "      <th>4</th>\n",
       "      <td>116.230142</td>\n",
       "      <td>experimental</td>\n",
       "    </tr>\n",
       "  </tbody>\n",
       "</table>\n",
       "</div>"
      ],
      "text/plain": [
       "        value         group\n",
       "0  100.719713  experimental\n",
       "1  106.771525  experimental\n",
       "2  106.974612  experimental\n",
       "3  109.249662  experimental\n",
       "4  116.230142  experimental"
      ]
     },
     "execution_count": 3,
     "metadata": {},
     "output_type": "execute_result"
    }
   ],
   "source": [
    "df = pd.read_csv('bootstrap_data.csv')\n",
    "df.head()"
   ]
  },
  {
   "cell_type": "code",
   "execution_count": 6,
   "id": "73e6b77a",
   "metadata": {},
   "outputs": [
    {
     "data": {
      "text/html": [
       "<div>\n",
       "<style scoped>\n",
       "    .dataframe tbody tr th:only-of-type {\n",
       "        vertical-align: middle;\n",
       "    }\n",
       "\n",
       "    .dataframe tbody tr th {\n",
       "        vertical-align: top;\n",
       "    }\n",
       "\n",
       "    .dataframe thead th {\n",
       "        text-align: right;\n",
       "    }\n",
       "</style>\n",
       "<table border=\"1\" class=\"dataframe\">\n",
       "  <thead>\n",
       "    <tr style=\"text-align: right;\">\n",
       "      <th></th>\n",
       "      <th>group</th>\n",
       "      <th>value</th>\n",
       "    </tr>\n",
       "  </thead>\n",
       "  <tbody>\n",
       "    <tr>\n",
       "      <th>0</th>\n",
       "      <td>control</td>\n",
       "      <td>760</td>\n",
       "    </tr>\n",
       "    <tr>\n",
       "      <th>1</th>\n",
       "      <td>experimental</td>\n",
       "      <td>494</td>\n",
       "    </tr>\n",
       "  </tbody>\n",
       "</table>\n",
       "</div>"
      ],
      "text/plain": [
       "          group  value\n",
       "0       control    760\n",
       "1  experimental    494"
      ]
     },
     "execution_count": 6,
     "metadata": {},
     "output_type": "execute_result"
    }
   ],
   "source": [
    "df.groupby('group', as_index=False).agg({'value':'count'})"
   ]
  },
  {
   "cell_type": "code",
   "execution_count": 4,
   "id": "52dd37d2",
   "metadata": {},
   "outputs": [
    {
     "data": {
      "text/plain": [
       "<seaborn.axisgrid.FacetGrid at 0x152bf6d39a0>"
      ]
     },
     "execution_count": 4,
     "metadata": {},
     "output_type": "execute_result"
    },
    {
     "data": {
      "image/png": "[encoded data removed]",
      "text/plain": [
       "<Figure size 642.25x500 with 1 Axes>"
      ]
     },
     "metadata": {},
     "output_type": "display_data"
    }
   ],
   "source": [
    "sns.displot(data=df, x='value', hue='group')"
   ]
  },
  {
   "cell_type": "markdown",
   "id": "3d28b8a2",
   "metadata": {},
   "source": [
    "Дисперсия между двумя группами различается, посмотрим на их средние и медианы."
   ]
  },
  {
   "cell_type": "code",
   "execution_count": 11,
   "id": "8e7e62e5",
   "metadata": {},
   "outputs": [
    {
     "data": {
      "text/html": [
       "<div>\n",
       "<style scoped>\n",
       "    .dataframe tbody tr th:only-of-type {\n",
       "        vertical-align: middle;\n",
       "    }\n",
       "\n",
       "    .dataframe tbody tr th {\n",
       "        vertical-align: top;\n",
       "    }\n",
       "\n",
       "    .dataframe thead th {\n",
       "        text-align: right;\n",
       "    }\n",
       "</style>\n",
       "<table border=\"1\" class=\"dataframe\">\n",
       "  <thead>\n",
       "    <tr style=\"text-align: right;\">\n",
       "      <th></th>\n",
       "      <th>value</th>\n",
       "    </tr>\n",
       "    <tr>\n",
       "      <th>group</th>\n",
       "      <th></th>\n",
       "    </tr>\n",
       "  </thead>\n",
       "  <tbody>\n",
       "    <tr>\n",
       "      <th>control</th>\n",
       "      <td>148.832127</td>\n",
       "    </tr>\n",
       "    <tr>\n",
       "      <th>experimental</th>\n",
       "      <td>106.982597</td>\n",
       "    </tr>\n",
       "  </tbody>\n",
       "</table>\n",
       "</div>"
      ],
      "text/plain": [
       "                   value\n",
       "group                   \n",
       "control       148.832127\n",
       "experimental  106.982597"
      ]
     },
     "execution_count": 11,
     "metadata": {},
     "output_type": "execute_result"
    }
   ],
   "source": [
    "df.groupby('group').agg({'value':'median'})"
   ]
  },
  {
   "cell_type": "code",
   "execution_count": 12,
   "id": "ed502b56",
   "metadata": {},
   "outputs": [
    {
     "data": {
      "text/html": [
       "<div>\n",
       "<style scoped>\n",
       "    .dataframe tbody tr th:only-of-type {\n",
       "        vertical-align: middle;\n",
       "    }\n",
       "\n",
       "    .dataframe tbody tr th {\n",
       "        vertical-align: top;\n",
       "    }\n",
       "\n",
       "    .dataframe thead th {\n",
       "        text-align: right;\n",
       "    }\n",
       "</style>\n",
       "<table border=\"1\" class=\"dataframe\">\n",
       "  <thead>\n",
       "    <tr style=\"text-align: right;\">\n",
       "      <th></th>\n",
       "      <th>value</th>\n",
       "    </tr>\n",
       "    <tr>\n",
       "      <th>group</th>\n",
       "      <th></th>\n",
       "    </tr>\n",
       "  </thead>\n",
       "  <tbody>\n",
       "    <tr>\n",
       "      <th>control</th>\n",
       "      <td>151.995280</td>\n",
       "    </tr>\n",
       "    <tr>\n",
       "      <th>experimental</th>\n",
       "      <td>107.953235</td>\n",
       "    </tr>\n",
       "  </tbody>\n",
       "</table>\n",
       "</div>"
      ],
      "text/plain": [
       "                   value\n",
       "group                   \n",
       "control       151.995280\n",
       "experimental  107.953235"
      ]
     },
     "execution_count": 12,
     "metadata": {},
     "output_type": "execute_result"
    }
   ],
   "source": [
    "df.groupby('group').agg({'value':'mean'})"
   ]
  },
  {
   "cell_type": "markdown",
   "id": "19ca95d8",
   "metadata": {},
   "source": [
    "При агрегации, в данных, мы получили различия между тестовой группой и контрольной. \n",
    "Следующим шагом нам необходимо статисчитески подтвердить различия в группах."
   ]
  },
  {
   "cell_type": "markdown",
   "id": "e28cbdf9",
   "metadata": {},
   "source": [
    "Для проверки различий мы будем использовать bootstrap.\n",
    "\n",
    "Рассмотрим наши группы более подробно:"
   ]
  },
  {
   "cell_type": "code",
   "execution_count": 39,
   "id": "7359accb",
   "metadata": {},
   "outputs": [
    {
     "data": {
      "text/plain": [
       "<seaborn.axisgrid.FacetGrid at 0x152c67bb640>"
      ]
     },
     "execution_count": 39,
     "metadata": {},
     "output_type": "execute_result"
    },
    {
     "data": {
      "image/png": "[encoded data removed]",
      "text/plain": [
       "<Figure size 500x500 with 1 Axes>"
      ]
     },
     "metadata": {},
     "output_type": "display_data"
    }
   ],
   "source": [
    "control_df = df[df.group=='control']\n",
    "experimental_df = df[df.group=='experimental']\n",
    "sns.displot(data=control_df, x='value')"
   ]
  },
  {
   "cell_type": "code",
   "execution_count": 19,
   "id": "bb2a11df",
   "metadata": {},
   "outputs": [
    {
     "data": {
      "text/plain": [
       "148.83212650911054"
      ]
     },
     "execution_count": 19,
     "metadata": {},
     "output_type": "execute_result"
    }
   ],
   "source": [
    "control_df.value.median()"
   ]
  },
  {
   "cell_type": "markdown",
   "id": "942764ed",
   "metadata": {},
   "source": [
    "Создаем выборку на основе нашей выборки такого же размера, только данные мы из основной выборки мы можем брать повторно, это будет выглядеть примерно вот так:"
   ]
  },
  {
   "cell_type": "code",
   "execution_count": 20,
   "id": "76a12c82",
   "metadata": {},
   "outputs": [
    {
     "data": {
      "text/html": [
       "<div>\n",
       "<style scoped>\n",
       "    .dataframe tbody tr th:only-of-type {\n",
       "        vertical-align: middle;\n",
       "    }\n",
       "\n",
       "    .dataframe tbody tr th {\n",
       "        vertical-align: top;\n",
       "    }\n",
       "\n",
       "    .dataframe thead th {\n",
       "        text-align: right;\n",
       "    }\n",
       "</style>\n",
       "<table border=\"1\" class=\"dataframe\">\n",
       "  <thead>\n",
       "    <tr style=\"text-align: right;\">\n",
       "      <th></th>\n",
       "      <th>value</th>\n",
       "      <th>group</th>\n",
       "    </tr>\n",
       "  </thead>\n",
       "  <tbody>\n",
       "    <tr>\n",
       "      <th>881</th>\n",
       "      <td>163.374802</td>\n",
       "      <td>control</td>\n",
       "    </tr>\n",
       "    <tr>\n",
       "      <th>1081</th>\n",
       "      <td>155.734957</td>\n",
       "      <td>control</td>\n",
       "    </tr>\n",
       "    <tr>\n",
       "      <th>1086</th>\n",
       "      <td>120.936817</td>\n",
       "      <td>control</td>\n",
       "    </tr>\n",
       "    <tr>\n",
       "      <th>776</th>\n",
       "      <td>158.763300</td>\n",
       "      <td>control</td>\n",
       "    </tr>\n",
       "    <tr>\n",
       "      <th>708</th>\n",
       "      <td>130.246339</td>\n",
       "      <td>control</td>\n",
       "    </tr>\n",
       "    <tr>\n",
       "      <th>...</th>\n",
       "      <td>...</td>\n",
       "      <td>...</td>\n",
       "    </tr>\n",
       "    <tr>\n",
       "      <th>602</th>\n",
       "      <td>122.179473</td>\n",
       "      <td>control</td>\n",
       "    </tr>\n",
       "    <tr>\n",
       "      <th>1005</th>\n",
       "      <td>148.672185</td>\n",
       "      <td>control</td>\n",
       "    </tr>\n",
       "    <tr>\n",
       "      <th>823</th>\n",
       "      <td>147.264728</td>\n",
       "      <td>control</td>\n",
       "    </tr>\n",
       "    <tr>\n",
       "      <th>663</th>\n",
       "      <td>126.902747</td>\n",
       "      <td>control</td>\n",
       "    </tr>\n",
       "    <tr>\n",
       "      <th>1181</th>\n",
       "      <td>149.973550</td>\n",
       "      <td>control</td>\n",
       "    </tr>\n",
       "  </tbody>\n",
       "</table>\n",
       "<p>760 rows × 2 columns</p>\n",
       "</div>"
      ],
      "text/plain": [
       "           value    group\n",
       "881   163.374802  control\n",
       "1081  155.734957  control\n",
       "1086  120.936817  control\n",
       "776   158.763300  control\n",
       "708   130.246339  control\n",
       "...          ...      ...\n",
       "602   122.179473  control\n",
       "1005  148.672185  control\n",
       "823   147.264728  control\n",
       "663   126.902747  control\n",
       "1181  149.973550  control\n",
       "\n",
       "[760 rows x 2 columns]"
      ]
     },
     "execution_count": 20,
     "metadata": {},
     "output_type": "execute_result"
    }
   ],
   "source": [
    "control_df.sample(frac=1, replace=True)"
   ]
  },
  {
   "cell_type": "markdown",
   "id": "1f6fac0f",
   "metadata": {},
   "source": [
    "Построим график нашей новой выборки, каждый раз когда мы будем это повторять, он будет немного другой:"
   ]
  },
  {
   "cell_type": "code",
   "execution_count": 24,
   "id": "38d15c33",
   "metadata": {},
   "outputs": [
    {
     "data": {
      "text/plain": [
       "<seaborn.axisgrid.FacetGrid at 0x152c4e4ca30>"
      ]
     },
     "execution_count": 24,
     "metadata": {},
     "output_type": "execute_result"
    },
    {
     "data": {
      "image/png": "[encoded data removed]",
      "text/plain": [
       "<Figure size 500x500 with 1 Axes>"
      ]
     },
     "metadata": {},
     "output_type": "display_data"
    }
   ],
   "source": [
    "sns.displot(data=control_df.sample(frac=1, replace=True), x='value')"
   ]
  },
  {
   "cell_type": "code",
   "execution_count": null,
   "id": "67a803c5",
   "metadata": {},
   "outputs": [],
   "source": []
  },
  {
   "cell_type": "markdown",
   "id": "5a434d99",
   "metadata": {},
   "source": [
    "Таких повторений будет брать 10000 раз:"
   ]
  },
  {
   "cell_type": "code",
   "execution_count": 26,
   "id": "9335b95d",
   "metadata": {},
   "outputs": [],
   "source": [
    "n = 10000\n",
    "medians=[]"
   ]
  },
  {
   "cell_type": "code",
   "execution_count": 27,
   "id": "e6e94d01",
   "metadata": {},
   "outputs": [],
   "source": [
    "for i in range(n):\n",
    "    sample_data = control_df.sample(frac=1, replace=True)\n",
    "    sample_meadian = sample_data.value.median()\n",
    "    medians.append(sample_meadian)"
   ]
  },
  {
   "cell_type": "code",
   "execution_count": 32,
   "id": "2cd26f3f",
   "metadata": {},
   "outputs": [
    {
     "data": {
      "text/plain": [
       "148.87062911964478"
      ]
     },
     "execution_count": 32,
     "metadata": {},
     "output_type": "execute_result"
    }
   ],
   "source": [
    "np.mean(medians) #средняя всех медиан повторных выборок практически равна основной выборке"
   ]
  },
  {
   "cell_type": "code",
   "execution_count": 33,
   "id": "71b256ee",
   "metadata": {},
   "outputs": [
    {
     "data": {
      "text/plain": [
       "<seaborn.axisgrid.FacetGrid at 0x152c66304f0>"
      ]
     },
     "execution_count": 33,
     "metadata": {},
     "output_type": "execute_result"
    },
    {
     "data": {
      "image/png": "[encoded data removed]",
      "text/plain": [
       "<Figure size 500x500 with 1 Axes>"
      ]
     },
     "metadata": {},
     "output_type": "display_data"
    }
   ],
   "source": [
    "sns.displot(medians)"
   ]
  },
  {
   "cell_type": "markdown",
   "id": "668a4fcd",
   "metadata": {},
   "source": [
    "Почему же мы проводим такие действия?\n",
    "- В методе bootstrap лежит логика ЦПТ;\n",
    "- Мы как бы вытягиваем сами себя по данным которые есть;\n",
    "- При множественной выборке, мы можем построить доверительный интервал изменчивости рассматриваемого признака;\n",
    "\n",
    "Теперь мы можем отобрать 95% интервал изменчивости для нашей медианы:"
   ]
  },
  {
   "cell_type": "code",
   "execution_count": 35,
   "id": "1d6a3e0b",
   "metadata": {},
   "outputs": [
    {
     "data": {
      "text/plain": [
       "150.7763799798184"
      ]
     },
     "execution_count": 35,
     "metadata": {},
     "output_type": "execute_result"
    }
   ],
   "source": [
    "pd.Series(medians).quantile(0.975)"
   ]
  },
  {
   "cell_type": "code",
   "execution_count": 36,
   "id": "c0940ce7",
   "metadata": {},
   "outputs": [
    {
     "data": {
      "text/plain": [
       "146.68203474174567"
      ]
     },
     "execution_count": 36,
     "metadata": {},
     "output_type": "execute_result"
    }
   ],
   "source": [
    "pd.Series(medians).quantile(0.025)"
   ]
  },
  {
   "cell_type": "markdown",
   "id": "441af04d",
   "metadata": {},
   "source": [
    "95% всех наших выборочных медиан оказались между 146.68 : 150.77"
   ]
  },
  {
   "cell_type": "markdown",
   "id": "db92ec0a",
   "metadata": {},
   "source": [
    "Основная идея bootstrap заключается в нахождении доверительного интервала для рассматриваемого признака в двух группах: тестового и контрольного. Если доверительные интервалы не пересекаются, то можно говорить о стат значимых различиях!"
   ]
  },
  {
   "cell_type": "markdown",
   "id": "34f5754f",
   "metadata": {},
   "source": [
    "Для решения задач с помощью bootstrap можно воспользоваться уже готовыми библиотеками:"
   ]
  },
  {
   "cell_type": "code",
   "execution_count": 38,
   "id": "c42cdbc9",
   "metadata": {},
   "outputs": [
    {
     "data": {
      "text/plain": [
       "BootstrapResult(confidence_interval=ConfidenceInterval(low=146.66616569213227, high=150.79195404716057), bootstrap_distribution=array([150.74580151, 149.94862834, 149.73022006, ..., 149.36010403,\n",
       "       148.98329775, 148.54316567]), standard_error=0.9981175814516542)"
      ]
     },
     "execution_count": 38,
     "metadata": {},
     "output_type": "execute_result"
    }
   ],
   "source": [
    "bootstrap((control_df.value, ), np.median)"
   ]
  },
  {
   "cell_type": "code",
   "execution_count": 40,
   "id": "ee108a6c",
   "metadata": {},
   "outputs": [
    {
     "data": {
      "text/plain": [
       "BootstrapResult(confidence_interval=ConfidenceInterval(low=106.2595922808035, high=107.77649076966284), bootstrap_distribution=array([107.94100147, 106.89104051, 107.03828831, ..., 107.47886897,\n",
       "       106.4066084 , 106.45058367]), standard_error=0.4068703491592904)"
      ]
     },
     "execution_count": 40,
     "metadata": {},
     "output_type": "execute_result"
    }
   ],
   "source": [
    "bootstrap((experimental_df.value, ), np.median)"
   ]
  },
  {
   "cell_type": "markdown",
   "id": "e43cf4a2",
   "metadata": {},
   "source": [
    "В приведенном выше примере: \n",
    "- доверительные интервалы не пересекаются;\n",
    "- можно говорить о стат значимых различиях между двумя группами;"
   ]
  },
  {
   "cell_type": "markdown",
   "id": "389d4f22",
   "metadata": {},
   "source": [
    "Также можно использовать немного видоизмененный bootstrap, когда мы в цикле считаем медианы тестовой и контрольной группы, далее получаем их разность, находим 95% доверительные интервалы, и если, в этот интервал не попадает 0, то можно говорить о стат значимых различиях между группами."
   ]
  }
 ],
 "metadata": {
  "kernelspec": {
   "display_name": "Python 3 (ipykernel)",
   "language": "python",
   "name": "python3"
  },
  "language_info": {
   "codemirror_mode": {
    "name": "ipython",
    "version": 3
   },
   "file_extension": ".py",
   "mimetype": "text/x-python",
   "name": "python",
   "nbconvert_exporter": "python",
   "pygments_lexer": "ipython3",
   "version": "3.10.7"
  }
 },
 "nbformat": 4,
 "nbformat_minor": 5
}
