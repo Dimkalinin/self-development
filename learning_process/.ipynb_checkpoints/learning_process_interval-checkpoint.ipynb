{
 "cells": [
  {
   "cell_type": "code",
   "execution_count": null,
   "id": "6c4c441c",
   "metadata": {},
   "outputs": [],
   "source": [
    "#  абстракция: идеальная модель нашей генеральной совокупности "
   ]
  },
  {
   "cell_type": "code",
   "execution_count": 45,
   "id": "887e7c32",
   "metadata": {},
   "outputs": [],
   "source": [
    "import pandas as pd\n",
    "import numpy as np\n",
    "\n",
    "import seaborn as sns\n",
    "%matplotlib inline"
   ]
  },
  {
   "cell_type": "code",
   "execution_count": 5,
   "id": "c5ee0b35",
   "metadata": {},
   "outputs": [],
   "source": [
    "mu = 100\n",
    "sigma = 10"
   ]
  },
  {
   "cell_type": "code",
   "execution_count": 22,
   "id": "2eff9638",
   "metadata": {},
   "outputs": [],
   "source": [
    "population = np.round(np.random.normal(mu, sigma, 10000), 2) #нормальное распределение из параметров"
   ]
  },
  {
   "cell_type": "code",
   "execution_count": 24,
   "id": "ecb482e8",
   "metadata": {},
   "outputs": [
    {
     "data": {
      "text/plain": [
       "array([108.36,  99.96, 112.54, ...,  90.09,  92.89, 101.  ])"
      ]
     },
     "execution_count": 24,
     "metadata": {},
     "output_type": "execute_result"
    }
   ],
   "source": [
    "population #пусть это будет нашей генеральной совокупностью"
   ]
  },
  {
   "cell_type": "code",
   "execution_count": 46,
   "id": "e6931a11",
   "metadata": {},
   "outputs": [
    {
     "name": "stderr",
     "output_type": "stream",
     "text": [
      "C:\\Users\\Дима\\AppData\\Local\\Temp\\ipykernel_2384\\4209463519.py:1: UserWarning: \n",
      "\n",
      "`distplot` is a deprecated function and will be removed in seaborn v0.14.0.\n",
      "\n",
      "Please adapt your code to use either `displot` (a figure-level function with\n",
      "similar flexibility) or `histplot` (an axes-level function for histograms).\n",
      "\n",
      "For a guide to updating your code to use the new functions, please see\n",
      "https://gist.github.com/mwaskom/de44147ed2974457ad6372750bbe5751\n",
      "\n",
      "  sns.distplot(population, kde=False)\n"
     ]
    },
    {
     "data": {
      "text/plain": [
       "<Axes: >"
      ]
     },
     "execution_count": 46,
     "metadata": {},
     "output_type": "execute_result"
    },
    {
     "data": {
      "image/png": "[encoded data removed]",
      "text/plain": [
       "<Figure size 640x480 with 1 Axes>"
      ]
     },
     "metadata": {},
     "output_type": "display_data"
    }
   ],
   "source": [
    "sns.distplot(population, kde=False)"
   ]
  },
  {
   "cell_type": "code",
   "execution_count": 27,
   "id": "2972da21",
   "metadata": {},
   "outputs": [
    {
     "data": {
      "text/plain": [
       "99.82882100000002"
      ]
     },
     "execution_count": 27,
     "metadata": {},
     "output_type": "execute_result"
    }
   ],
   "source": [
    "population.mean() #среднее в генеральной совокупности"
   ]
  },
  {
   "cell_type": "code",
   "execution_count": 30,
   "id": "a58de3fb",
   "metadata": {},
   "outputs": [
    {
     "data": {
      "text/plain": [
       "9.937134959331035"
      ]
     },
     "execution_count": 30,
     "metadata": {},
     "output_type": "execute_result"
    }
   ],
   "source": [
    "population.std() #стандартное отклонение в генеральной совокупности"
   ]
  },
  {
   "cell_type": "code",
   "execution_count": null,
   "id": "0eb60720",
   "metadata": {},
   "outputs": [],
   "source": [
    "# пример того что ЦПТ действительно работает"
   ]
  },
  {
   "cell_type": "code",
   "execution_count": 25,
   "id": "5dc3d960",
   "metadata": {},
   "outputs": [],
   "source": [
    "sample_size = 30 # размер нашей выборки"
   ]
  },
  {
   "cell_type": "code",
   "execution_count": 36,
   "id": "22852bbc",
   "metadata": {},
   "outputs": [],
   "source": [
    "sample = np.random.choice(population, sample_size, False) #наша выборки"
   ]
  },
  {
   "cell_type": "code",
   "execution_count": 37,
   "id": "4d125fdf",
   "metadata": {},
   "outputs": [
    {
     "data": {
      "text/plain": [
       "103.85766666666667"
      ]
     },
     "execution_count": 37,
     "metadata": {},
     "output_type": "execute_result"
    }
   ],
   "source": [
    "sample.mean()"
   ]
  },
  {
   "cell_type": "code",
   "execution_count": null,
   "id": "53ad5082",
   "metadata": {},
   "outputs": [],
   "source": []
  },
  {
   "cell_type": "code",
   "execution_count": 49,
   "id": "ee60ecb4",
   "metadata": {},
   "outputs": [],
   "source": [
    "sample_means =[] #набор средних в выборках"
   ]
  },
  {
   "cell_type": "code",
   "execution_count": 66,
   "id": "dceadf18",
   "metadata": {},
   "outputs": [],
   "source": [
    "n = 10000 #колличесвто выборок"
   ]
  },
  {
   "cell_type": "code",
   "execution_count": 67,
   "id": "379488b2",
   "metadata": {},
   "outputs": [],
   "source": [
    "for i in range(n):\n",
    "    sample = np.random.choice(population, sample_size, False) #наша выборки\n",
    "    sample_means.append(sample.mean())"
   ]
  },
  {
   "cell_type": "code",
   "execution_count": 68,
   "id": "bfeceb9a",
   "metadata": {},
   "outputs": [
    {
     "name": "stderr",
     "output_type": "stream",
     "text": [
      "C:\\Users\\Дима\\AppData\\Local\\Temp\\ipykernel_2384\\940779848.py:1: UserWarning: \n",
      "\n",
      "`distplot` is a deprecated function and will be removed in seaborn v0.14.0.\n",
      "\n",
      "Please adapt your code to use either `displot` (a figure-level function with\n",
      "similar flexibility) or `histplot` (an axes-level function for histograms).\n",
      "\n",
      "For a guide to updating your code to use the new functions, please see\n",
      "https://gist.github.com/mwaskom/de44147ed2974457ad6372750bbe5751\n",
      "\n",
      "  sns.distplot(sample_means, kde=False)\n"
     ]
    },
    {
     "data": {
      "text/plain": [
       "<Axes: >"
      ]
     },
     "execution_count": 68,
     "metadata": {},
     "output_type": "execute_result"
    },
    {
     "data": {
      "image/png": "[encoded data removed]",
      "text/plain": [
       "<Figure size 640x480 with 1 Axes>"
      ]
     },
     "metadata": {},
     "output_type": "display_data"
    }
   ],
   "source": [
    "sns.distplot(sample_means, kde=False) #график средних в выборках"
   ]
  },
  {
   "cell_type": "code",
   "execution_count": 70,
   "id": "e110da66",
   "metadata": {},
   "outputs": [
    {
     "data": {
      "text/plain": [
       "99.82115842975205"
      ]
     },
     "execution_count": 70,
     "metadata": {},
     "output_type": "execute_result"
    }
   ],
   "source": [
    "np.mean(sample_means) # центропредельная теорема,среднее средних"
   ]
  },
  {
   "cell_type": "code",
   "execution_count": 71,
   "id": "8fb8c361",
   "metadata": {},
   "outputs": [],
   "source": [
    "# Правило 3х сигм: 100% наших наблюдений лежит +- 3 сигмы"
   ]
  },
  {
   "cell_type": "code",
   "execution_count": 72,
   "id": "68731ed1",
   "metadata": {},
   "outputs": [],
   "source": [
    "# Правило 1.96 сигм - 95% всех наблюдений лежит в этом диапазоне"
   ]
  },
  {
   "cell_type": "code",
   "execution_count": null,
   "id": "6954b6e5",
   "metadata": {},
   "outputs": [],
   "source": [
    "# se = sigma / корень(n)"
   ]
  },
  {
   "cell_type": "code",
   "execution_count": 76,
   "id": "7d59e0c7",
   "metadata": {},
   "outputs": [],
   "source": [
    "se = population.std() / sample_size**0.5"
   ]
  },
  {
   "cell_type": "code",
   "execution_count": 77,
   "id": "2a412d3f",
   "metadata": {},
   "outputs": [
    {
     "data": {
      "text/plain": [
       "1.8142643247329298"
      ]
     },
     "execution_count": 77,
     "metadata": {},
     "output_type": "execute_result"
    }
   ],
   "source": [
    "se # стандартная ошибка"
   ]
  },
  {
   "cell_type": "code",
   "execution_count": 79,
   "id": "3793c38d",
   "metadata": {},
   "outputs": [
    {
     "data": {
      "text/plain": [
       "1.8106121187752369"
      ]
     },
     "execution_count": 79,
     "metadata": {},
     "output_type": "execute_result"
    }
   ],
   "source": [
    "np.std(sample_means) #стандартная ошибка непосредственно в центропреельной теореме"
   ]
  },
  {
   "cell_type": "code",
   "execution_count": null,
   "id": "7c1fb558",
   "metadata": {},
   "outputs": [],
   "source": []
  },
  {
   "cell_type": "code",
   "execution_count": 80,
   "id": "8f3e0b9b",
   "metadata": {},
   "outputs": [
    {
     "data": {
      "text/plain": [
       "103.38477907647656"
      ]
     },
     "execution_count": 80,
     "metadata": {},
     "output_type": "execute_result"
    }
   ],
   "source": [
    "population.mean() + 1.96* se"
   ]
  },
  {
   "cell_type": "code",
   "execution_count": 81,
   "id": "0efbbaec",
   "metadata": {},
   "outputs": [
    {
     "data": {
      "text/plain": [
       "96.27286292352348"
      ]
     },
     "execution_count": 81,
     "metadata": {},
     "output_type": "execute_result"
    }
   ],
   "source": [
    "population.mean() - 1.96* se"
   ]
  },
  {
   "cell_type": "code",
   "execution_count": 83,
   "id": "fc30dc36",
   "metadata": {},
   "outputs": [
    {
     "data": {
      "text/plain": [
       "[96.27, 103.38]"
      ]
     },
     "execution_count": 83,
     "metadata": {},
     "output_type": "execute_result"
    }
   ],
   "source": [
    "[96.27, 103.38] # 95% интервал"
   ]
  },
  {
   "cell_type": "code",
   "execution_count": null,
   "id": "8e6a5c62",
   "metadata": {},
   "outputs": [],
   "source": []
  },
  {
   "cell_type": "code",
   "execution_count": null,
   "id": "496468d3",
   "metadata": {},
   "outputs": [],
   "source": []
  },
  {
   "cell_type": "code",
   "execution_count": null,
   "id": "bf21fbf3",
   "metadata": {},
   "outputs": [],
   "source": [
    "#========================================"
   ]
  },
  {
   "cell_type": "code",
   "execution_count": 84,
   "id": "4d0d844d",
   "metadata": {},
   "outputs": [],
   "source": [
    "# переходим в реальность"
   ]
  },
  {
   "cell_type": "code",
   "execution_count": 90,
   "id": "b6baabf0",
   "metadata": {},
   "outputs": [],
   "source": [
    "sample_real = np.random.choice(population, sample_size, False) #наша выборки"
   ]
  },
  {
   "cell_type": "code",
   "execution_count": 91,
   "id": "9f126773",
   "metadata": {},
   "outputs": [
    {
     "data": {
      "text/plain": [
       "array([104.25,  94.76,  86.7 ,  92.12,  99.45, 107.17,  92.07,  96.76,\n",
       "        91.59,  95.73, 108.75,  96.99, 101.53,  86.62, 102.78, 121.72,\n",
       "       112.4 ,  96.59,  78.34, 100.2 ,  90.3 , 114.39, 100.13, 101.35,\n",
       "        97.92, 103.95, 101.19, 100.98, 104.87, 119.25])"
      ]
     },
     "execution_count": 91,
     "metadata": {},
     "output_type": "execute_result"
    }
   ],
   "source": [
    "sample_real # в реальность у нас 1 выборка"
   ]
  },
  {
   "cell_type": "code",
   "execution_count": 92,
   "id": "646749d1",
   "metadata": {},
   "outputs": [
    {
     "data": {
      "text/plain": [
       "100.02833333333334"
      ]
     },
     "execution_count": 92,
     "metadata": {},
     "output_type": "execute_result"
    }
   ],
   "source": [
    "sample_real.mean() #находим среднее"
   ]
  },
  {
   "cell_type": "code",
   "execution_count": 93,
   "id": "bff71f39",
   "metadata": {},
   "outputs": [
    {
     "data": {
      "text/plain": [
       "9.308025241096463"
      ]
     },
     "execution_count": 93,
     "metadata": {},
     "output_type": "execute_result"
    }
   ],
   "source": [
    "sample_real.std() #находим стандартное отклонение, ее можно использовать в фомуле, но там уже будет не нормальное распределение,\n",
    "# а Т распределение"
   ]
  },
  {
   "cell_type": "code",
   "execution_count": null,
   "id": "21850c95",
   "metadata": {},
   "outputs": [],
   "source": [
    "# se = sigma / корень(n) "
   ]
  },
  {
   "cell_type": "code",
   "execution_count": 94,
   "id": "7643acdd",
   "metadata": {},
   "outputs": [],
   "source": [
    "se = sample_real.std() / sample_size ** 0.5 #находим стандартную ошибку"
   ]
  },
  {
   "cell_type": "code",
   "execution_count": 95,
   "id": "027a683e",
   "metadata": {},
   "outputs": [
    {
     "data": {
      "text/plain": [
       "1.6994051301253317"
      ]
     },
     "execution_count": 95,
     "metadata": {},
     "output_type": "execute_result"
    }
   ],
   "source": [
    "se"
   ]
  },
  {
   "cell_type": "code",
   "execution_count": null,
   "id": "1ad8a5ae",
   "metadata": {},
   "outputs": [],
   "source": [
    "#находим оценненый 95% доверительный интервал"
   ]
  },
  {
   "cell_type": "code",
   "execution_count": 96,
   "id": "02ffd09c",
   "metadata": {},
   "outputs": [
    {
     "data": {
      "text/plain": [
       "103.35916738837899"
      ]
     },
     "execution_count": 96,
     "metadata": {},
     "output_type": "execute_result"
    }
   ],
   "source": [
    "sample_real.mean() + 1.96*se"
   ]
  },
  {
   "cell_type": "code",
   "execution_count": 97,
   "id": "22757fcd",
   "metadata": {},
   "outputs": [
    {
     "data": {
      "text/plain": [
       "96.69749927828768"
      ]
     },
     "execution_count": 97,
     "metadata": {},
     "output_type": "execute_result"
    }
   ],
   "source": [
    "sample_real.mean() - 1.96*se"
   ]
  },
  {
   "cell_type": "code",
   "execution_count": 98,
   "id": "4788e647",
   "metadata": {},
   "outputs": [],
   "source": [
    "# при многократном повторении 95% из полученных интервалов  наше среднее лежит в генеральной \n",
    "# совокупности в интервале от 96 до 103.\n",
    "# Если бы кто нибудь утверждал, что среднее в ГС \n",
    "# выходит за эти рамки(H0), то математически можно было бы\n",
    "# отклонить его утверждение\n",
    "# и наоборот, если бы утверждали что она лежит в этом интервале(H0), \n",
    "# то это утрверждение можно было бы принять!\n",
    "# так формулируется две гипотезы: Н0 и Н1, при этом мы принимаем или отклоняем только Н0"
   ]
  },
  {
   "cell_type": "code",
   "execution_count": null,
   "id": "bd2c95d8",
   "metadata": {},
   "outputs": [],
   "source": [
    "# Важно:\n",
    "\n",
    "# p-уровень значимости не говорит о силе эффекта \n",
    "# (напр., пользователи стали пользоваться приложением меньше в 3 или 1.1 раза)\n",
    "\n",
    "# Если получили уровень значимости выше порога – это не значит, что нулевая гипотеза верна. \n",
    "# Просто такой уровень значимости не позволяет нам её отклонить."
   ]
  },
  {
   "cell_type": "code",
   "execution_count": null,
   "id": "e06a89cf",
   "metadata": {},
   "outputs": [],
   "source": []
  },
  {
   "cell_type": "code",
   "execution_count": null,
   "id": "26cb2ca8",
   "metadata": {},
   "outputs": [],
   "source": []
  },
  {
   "cell_type": "code",
   "execution_count": null,
   "id": "dee97051",
   "metadata": {},
   "outputs": [],
   "source": []
  },
  {
   "cell_type": "code",
   "execution_count": null,
   "id": "ec2d9d51",
   "metadata": {},
   "outputs": [],
   "source": []
  },
  {
   "cell_type": "code",
   "execution_count": null,
   "id": "4cc0598c",
   "metadata": {},
   "outputs": [],
   "source": []
  },
  {
   "cell_type": "code",
   "execution_count": null,
   "id": "c4cca286",
   "metadata": {},
   "outputs": [],
   "source": []
  },
  {
   "cell_type": "code",
   "execution_count": null,
   "id": "901f260a",
   "metadata": {},
   "outputs": [],
   "source": []
  }
 ],
 "metadata": {
  "kernelspec": {
   "display_name": "Python 3 (ipykernel)",
   "language": "python",
   "name": "python3"
  },
  "language_info": {
   "codemirror_mode": {
    "name": "ipython",
    "version": 3
   },
   "file_extension": ".py",
   "mimetype": "text/x-python",
   "name": "python",
   "nbconvert_exporter": "python",
   "pygments_lexer": "ipython3",
   "version": "3.10.7"
  }
 },
 "nbformat": 4,
 "nbformat_minor": 5
}
