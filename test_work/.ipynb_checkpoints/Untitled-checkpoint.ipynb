{
 "cells": [
  {
   "cell_type": "markdown",
   "id": "5d012209",
   "metadata": {},
   "source": [
    "#### Импортируем необходимые библиотеки для решения поставленных задач"
   ]
  },
  {
   "cell_type": "code",
   "execution_count": 23,
   "id": "b8a8efa4",
   "metadata": {},
   "outputs": [],
   "source": [
    "import pandas as pd\n",
    "import seaborn as sns\n",
    "import matplotlib.pyplot as plt\n",
    "\n",
    "import requests\n",
    "from urllib.parse import urlencode"
   ]
  },
  {
   "cell_type": "markdown",
   "id": "d88d5f63",
   "metadata": {},
   "source": [
    "Используем функцию ydisk, для загрузки данных по API."
   ]
  },
  {
   "cell_type": "code",
   "execution_count": 18,
   "id": "cf8cff74",
   "metadata": {},
   "outputs": [],
   "source": [
    "def ydisk(public_key, sep=None):\n",
    "    base_url = 'https://cloud-api.yandex.net/v1/disk/public/resources/download?'\n",
    "    final_url = base_url + urlencode(dict(public_key=public_key))\n",
    "    response = requests.get(final_url)\n",
    "    download_url = response.json()['href']\n",
    "    if sep: \n",
    "        df = pd.read_csv(download_url, sep=';')\n",
    "    else:\n",
    "        df = pd.read_csv(download_url)\n",
    "    return df"
   ]
  },
  {
   "cell_type": "markdown",
   "id": "0ecac786",
   "metadata": {},
   "source": [
    "#### Выгружаем данные"
   ]
  },
  {
   "cell_type": "code",
   "execution_count": 19,
   "id": "dd2cb901",
   "metadata": {},
   "outputs": [],
   "source": [
    "df_test = 'https://disk.yandex.ru/d/Wuhqs3MUEMprGw'\n",
    "df = ydisk(df_test)"
   ]
  },
  {
   "cell_type": "code",
   "execution_count": 22,
   "id": "1a77f186",
   "metadata": {},
   "outputs": [
    {
     "data": {
      "text/html": [
       "<div>\n",
       "<style scoped>\n",
       "    .dataframe tbody tr th:only-of-type {\n",
       "        vertical-align: middle;\n",
       "    }\n",
       "\n",
       "    .dataframe tbody tr th {\n",
       "        vertical-align: top;\n",
       "    }\n",
       "\n",
       "    .dataframe thead th {\n",
       "        text-align: right;\n",
       "    }\n",
       "</style>\n",
       "<table border=\"1\" class=\"dataframe\">\n",
       "  <thead>\n",
       "    <tr style=\"text-align: right;\">\n",
       "      <th></th>\n",
       "      <th>user_cnt</th>\n",
       "      <th>gross</th>\n",
       "    </tr>\n",
       "  </thead>\n",
       "  <tbody>\n",
       "    <tr>\n",
       "      <th>count</th>\n",
       "      <td>1462.000000</td>\n",
       "      <td>1462.000000</td>\n",
       "    </tr>\n",
       "    <tr>\n",
       "      <th>mean</th>\n",
       "      <td>6201.270862</td>\n",
       "      <td>516.803010</td>\n",
       "    </tr>\n",
       "    <tr>\n",
       "      <th>std</th>\n",
       "      <td>4058.405863</td>\n",
       "      <td>449.168427</td>\n",
       "    </tr>\n",
       "    <tr>\n",
       "      <th>min</th>\n",
       "      <td>2085.000000</td>\n",
       "      <td>12.000000</td>\n",
       "    </tr>\n",
       "    <tr>\n",
       "      <th>25%</th>\n",
       "      <td>3763.000000</td>\n",
       "      <td>229.000000</td>\n",
       "    </tr>\n",
       "    <tr>\n",
       "      <th>50%</th>\n",
       "      <td>4723.000000</td>\n",
       "      <td>418.500000</td>\n",
       "    </tr>\n",
       "    <tr>\n",
       "      <th>75%</th>\n",
       "      <td>7253.250000</td>\n",
       "      <td>698.750000</td>\n",
       "    </tr>\n",
       "    <tr>\n",
       "      <th>max</th>\n",
       "      <td>41110.000000</td>\n",
       "      <td>8214.000000</td>\n",
       "    </tr>\n",
       "  </tbody>\n",
       "</table>\n",
       "</div>"
      ],
      "text/plain": [
       "           user_cnt        gross\n",
       "count   1462.000000  1462.000000\n",
       "mean    6201.270862   516.803010\n",
       "std     4058.405863   449.168427\n",
       "min     2085.000000    12.000000\n",
       "25%     3763.000000   229.000000\n",
       "50%     4723.000000   418.500000\n",
       "75%     7253.250000   698.750000\n",
       "max    41110.000000  8214.000000"
      ]
     },
     "execution_count": 22,
     "metadata": {},
     "output_type": "execute_result"
    }
   ],
   "source": [
    "df.describe()"
   ]
  },
  {
   "cell_type": "code",
   "execution_count": 20,
   "id": "e7cb5a69",
   "metadata": {},
   "outputs": [
    {
     "data": {
      "text/html": [
       "<div>\n",
       "<style scoped>\n",
       "    .dataframe tbody tr th:only-of-type {\n",
       "        vertical-align: middle;\n",
       "    }\n",
       "\n",
       "    .dataframe tbody tr th {\n",
       "        vertical-align: top;\n",
       "    }\n",
       "\n",
       "    .dataframe thead th {\n",
       "        text-align: right;\n",
       "    }\n",
       "</style>\n",
       "<table border=\"1\" class=\"dataframe\">\n",
       "  <thead>\n",
       "    <tr style=\"text-align: right;\">\n",
       "      <th></th>\n",
       "      <th>ms</th>\n",
       "      <th>cohort</th>\n",
       "      <th>user_cnt</th>\n",
       "      <th>gross</th>\n",
       "    </tr>\n",
       "  </thead>\n",
       "  <tbody>\n",
       "    <tr>\n",
       "      <th>0</th>\n",
       "      <td>ORGANIC</td>\n",
       "      <td>2016-01-01</td>\n",
       "      <td>3676</td>\n",
       "      <td>1510</td>\n",
       "    </tr>\n",
       "    <tr>\n",
       "      <th>1</th>\n",
       "      <td>UA</td>\n",
       "      <td>2016-01-01</td>\n",
       "      <td>6061</td>\n",
       "      <td>686</td>\n",
       "    </tr>\n",
       "    <tr>\n",
       "      <th>2</th>\n",
       "      <td>UA</td>\n",
       "      <td>2016-01-02</td>\n",
       "      <td>6542</td>\n",
       "      <td>1179</td>\n",
       "    </tr>\n",
       "    <tr>\n",
       "      <th>3</th>\n",
       "      <td>ORGANIC</td>\n",
       "      <td>2016-01-02</td>\n",
       "      <td>3875</td>\n",
       "      <td>565</td>\n",
       "    </tr>\n",
       "    <tr>\n",
       "      <th>4</th>\n",
       "      <td>ORGANIC</td>\n",
       "      <td>2016-01-03</td>\n",
       "      <td>3699</td>\n",
       "      <td>425</td>\n",
       "    </tr>\n",
       "    <tr>\n",
       "      <th>5</th>\n",
       "      <td>UA</td>\n",
       "      <td>2016-01-03</td>\n",
       "      <td>6260</td>\n",
       "      <td>1186</td>\n",
       "    </tr>\n",
       "    <tr>\n",
       "      <th>6</th>\n",
       "      <td>ORGANIC</td>\n",
       "      <td>2016-01-04</td>\n",
       "      <td>3237</td>\n",
       "      <td>1161</td>\n",
       "    </tr>\n",
       "    <tr>\n",
       "      <th>7</th>\n",
       "      <td>UA</td>\n",
       "      <td>2016-01-04</td>\n",
       "      <td>5330</td>\n",
       "      <td>718</td>\n",
       "    </tr>\n",
       "    <tr>\n",
       "      <th>8</th>\n",
       "      <td>ORGANIC</td>\n",
       "      <td>2016-01-05</td>\n",
       "      <td>2792</td>\n",
       "      <td>917</td>\n",
       "    </tr>\n",
       "    <tr>\n",
       "      <th>9</th>\n",
       "      <td>UA</td>\n",
       "      <td>2016-01-05</td>\n",
       "      <td>5027</td>\n",
       "      <td>1308</td>\n",
       "    </tr>\n",
       "  </tbody>\n",
       "</table>\n",
       "</div>"
      ],
      "text/plain": [
       "        ms      cohort  user_cnt  gross\n",
       "0  ORGANIC  2016-01-01      3676   1510\n",
       "1       UA  2016-01-01      6061    686\n",
       "2       UA  2016-01-02      6542   1179\n",
       "3  ORGANIC  2016-01-02      3875    565\n",
       "4  ORGANIC  2016-01-03      3699    425\n",
       "5       UA  2016-01-03      6260   1186\n",
       "6  ORGANIC  2016-01-04      3237   1161\n",
       "7       UA  2016-01-04      5330    718\n",
       "8  ORGANIC  2016-01-05      2792    917\n",
       "9       UA  2016-01-05      5027   1308"
      ]
     },
     "execution_count": 20,
     "metadata": {},
     "output_type": "execute_result"
    }
   ],
   "source": [
    "df.head(10)"
   ]
  },
  {
   "cell_type": "markdown",
   "id": "4f2a243c",
   "metadata": {},
   "source": [
    "В нашем случае, имея только суммарное количество трафовых и органических пользователей в день, мы можем сделать лишь косвенные предположения о влиянии трафика на привлечение новых пользователей.\n",
    "\n",
    "Используем два подхода для оценки влияния \"k-фактора\":"
   ]
  },
  {
   "cell_type": "markdown",
   "id": "b8f6e275",
   "metadata": {},
   "source": [
    "#### 1. Анализ корреляции:\n",
    "\n",
    "    * Построим графики изменения количества трафовых пользователей и органических пользователей по дням.\n",
    "    * Посмотрим, есть ли в графиках видимая корреляция.  \n",
    "    * Если рост количества трафовых пользователей сопровождается ростом количества органических пользователей, это может говорить о том, что трафик оказывает влияние на привлечение органики."
   ]
  },
  {
   "cell_type": "code",
   "execution_count": 26,
   "id": "06c2a67b",
   "metadata": {},
   "outputs": [
    {
     "data": {
      "text/html": [
       "<div>\n",
       "<style scoped>\n",
       "    .dataframe tbody tr th:only-of-type {\n",
       "        vertical-align: middle;\n",
       "    }\n",
       "\n",
       "    .dataframe tbody tr th {\n",
       "        vertical-align: top;\n",
       "    }\n",
       "\n",
       "    .dataframe thead th {\n",
       "        text-align: right;\n",
       "    }\n",
       "</style>\n",
       "<table border=\"1\" class=\"dataframe\">\n",
       "  <thead>\n",
       "    <tr style=\"text-align: right;\">\n",
       "      <th></th>\n",
       "      <th>cohort</th>\n",
       "      <th>ORGANIC_gross</th>\n",
       "      <th>UA_gross</th>\n",
       "      <th>ORGANIC_user_cnt</th>\n",
       "      <th>UA_user_cnt</th>\n",
       "    </tr>\n",
       "  </thead>\n",
       "  <tbody>\n",
       "    <tr>\n",
       "      <th>0</th>\n",
       "      <td>2016-01-01</td>\n",
       "      <td>1510</td>\n",
       "      <td>686</td>\n",
       "      <td>3676</td>\n",
       "      <td>6061</td>\n",
       "    </tr>\n",
       "    <tr>\n",
       "      <th>1</th>\n",
       "      <td>2016-01-02</td>\n",
       "      <td>565</td>\n",
       "      <td>1179</td>\n",
       "      <td>3875</td>\n",
       "      <td>6542</td>\n",
       "    </tr>\n",
       "    <tr>\n",
       "      <th>2</th>\n",
       "      <td>2016-01-03</td>\n",
       "      <td>425</td>\n",
       "      <td>1186</td>\n",
       "      <td>3699</td>\n",
       "      <td>6260</td>\n",
       "    </tr>\n",
       "    <tr>\n",
       "      <th>3</th>\n",
       "      <td>2016-01-04</td>\n",
       "      <td>1161</td>\n",
       "      <td>718</td>\n",
       "      <td>3237</td>\n",
       "      <td>5330</td>\n",
       "    </tr>\n",
       "    <tr>\n",
       "      <th>4</th>\n",
       "      <td>2016-01-05</td>\n",
       "      <td>917</td>\n",
       "      <td>1308</td>\n",
       "      <td>2792</td>\n",
       "      <td>5027</td>\n",
       "    </tr>\n",
       "  </tbody>\n",
       "</table>\n",
       "</div>"
      ],
      "text/plain": [
       "       cohort  ORGANIC_gross  UA_gross  ORGANIC_user_cnt  UA_user_cnt\n",
       "0  2016-01-01           1510       686              3676         6061\n",
       "1  2016-01-02            565      1179              3875         6542\n",
       "2  2016-01-03            425      1186              3699         6260\n",
       "3  2016-01-04           1161       718              3237         5330\n",
       "4  2016-01-05            917      1308              2792         5027"
      ]
     },
     "execution_count": 26,
     "metadata": {},
     "output_type": "execute_result"
    }
   ],
   "source": [
    "# Создание новой таблицы с количеством новых пользователей и выручкой по каналам привлечения\n",
    "new_df = df.pivot_table(index='cohort', columns='ms', values=['user_cnt', 'gross'], aggfunc='sum')\n",
    "new_df.columns = [f'{col[1]}_{col[0]}' for col in new_df.columns]\n",
    "new_df.reset_index(inplace=True)\n",
    "new_df.head()"
   ]
  },
  {
   "cell_type": "code",
   "execution_count": 47,
   "id": "1a1d2830",
   "metadata": {},
   "outputs": [
    {
     "data": {
      "image/png": "[encoded data removed]",
      "text/plain": [
       "<Figure size 800x600 with 1 Axes>"
      ]
     },
     "metadata": {},
     "output_type": "display_data"
    }
   ],
   "source": [
    "# Построение графика корреляции между ORGANIC_user_cnt и UA_user_cnt\n",
    "plt.figure(figsize=(8, 6))\n",
    "sns.scatterplot(x='UA_user_cnt', y='ORGANIC_user_cnt', data=new_df)\n",
    "sns.regplot(x='UA_user_cnt', y='ORGANIC_user_cnt', data=new_df, scatter=False, color='red')\n",
    "plt.title('Корреляция между органическими и трафовыми пользователями с аппроксимацией')\n",
    "plt.ylabel('Количество органических пользователей')\n",
    "plt.xlabel('Количество трафовых пользователей')\n",
    "plt.show()"
   ]
  },
  {
   "cell_type": "code",
   "execution_count": 34,
   "id": "68e1e8bd",
   "metadata": {},
   "outputs": [
    {
     "data": {
      "text/plain": [
       "0.6356162942958982"
      ]
     },
     "execution_count": 34,
     "metadata": {},
     "output_type": "execute_result"
    }
   ],
   "source": [
    "# Вычисление коэффициента корреляции Пирсона\n",
    "correlation = new_df['ORGANIC_user_cnt'].corr(new_df['UA_user_cnt'])\n",
    "correlation"
   ]
  },
  {
   "cell_type": "markdown",
   "id": "79ba615c",
   "metadata": {},
   "source": [
    "В данных присутствуют выбросы, используем более устойчивую к ним меру корреляции, воспользуемся ранговой корреляцией Спирмена "
   ]
  },
  {
   "cell_type": "code",
   "execution_count": 36,
   "id": "d47da0bc",
   "metadata": {},
   "outputs": [
    {
     "name": "stdout",
     "output_type": "stream",
     "text": [
      "Корреляция Спирмена между ORGANIC_user_cnt и UA_user_cnt: 0.6429175078365315\n"
     ]
    }
   ],
   "source": [
    "# Вычисление корреляции Спирмена\n",
    "spearman_corr = new_df['ORGANIC_user_cnt'].corr(new_df['UA_user_cnt'], method='spearman')\n",
    "print(f'Корреляция Спирмена между ORGANIC_user_cnt и UA_user_cnt: {spearman_corr}')"
   ]
  },
  {
   "cell_type": "markdown",
   "id": "7ded54f9",
   "metadata": {},
   "source": [
    "#### Вывод:\n",
    "Значение коэффициента корреляции Спирмена = 0.643, указывает на наличие положительной монотонной связи между количеством органических пользователей и трафовых пользователей. \n",
    "\n",
    "Таким образом, рост трафовых пользователей сопровождается ростом количества органических пользователей, это может говорить о том, что трафик оказывает влияние на привлечение органики. \n",
    "\n",
    "Следовательно: подозрение, что часть органики приходит от купленного трафа верна!"
   ]
  },
  {
   "cell_type": "markdown",
   "id": "cca3e30b",
   "metadata": {},
   "source": [
    "#### 2. Сравнение периодов с разным объемом трафика:\n",
    "\n",
    "    * Выберем периоды с разным объемом трафовых пользователей (например, дни с высокой активностью рекламных кампаний и дни с низкой активностью).\n",
    "    * Сравним среднее количество органических пользователей в эти периоды.\n",
    "    * Если в периоды с высоким трафиком среднее количество органических пользователей выше, это может косвенно указывать на влияние трафика на привлечение органики."
   ]
  },
  {
   "cell_type": "code",
   "execution_count": 37,
   "id": "97a314ba",
   "metadata": {},
   "outputs": [
    {
     "data": {
      "text/html": [
       "<div>\n",
       "<style scoped>\n",
       "    .dataframe tbody tr th:only-of-type {\n",
       "        vertical-align: middle;\n",
       "    }\n",
       "\n",
       "    .dataframe tbody tr th {\n",
       "        vertical-align: top;\n",
       "    }\n",
       "\n",
       "    .dataframe thead th {\n",
       "        text-align: right;\n",
       "    }\n",
       "</style>\n",
       "<table border=\"1\" class=\"dataframe\">\n",
       "  <thead>\n",
       "    <tr style=\"text-align: right;\">\n",
       "      <th></th>\n",
       "      <th>cohort</th>\n",
       "      <th>ORGANIC_gross</th>\n",
       "      <th>UA_gross</th>\n",
       "      <th>ORGANIC_user_cnt</th>\n",
       "      <th>UA_user_cnt</th>\n",
       "    </tr>\n",
       "  </thead>\n",
       "  <tbody>\n",
       "    <tr>\n",
       "      <th>0</th>\n",
       "      <td>2016-01-01</td>\n",
       "      <td>1510</td>\n",
       "      <td>686</td>\n",
       "      <td>3676</td>\n",
       "      <td>6061</td>\n",
       "    </tr>\n",
       "    <tr>\n",
       "      <th>1</th>\n",
       "      <td>2016-01-02</td>\n",
       "      <td>565</td>\n",
       "      <td>1179</td>\n",
       "      <td>3875</td>\n",
       "      <td>6542</td>\n",
       "    </tr>\n",
       "    <tr>\n",
       "      <th>2</th>\n",
       "      <td>2016-01-03</td>\n",
       "      <td>425</td>\n",
       "      <td>1186</td>\n",
       "      <td>3699</td>\n",
       "      <td>6260</td>\n",
       "    </tr>\n",
       "    <tr>\n",
       "      <th>3</th>\n",
       "      <td>2016-01-04</td>\n",
       "      <td>1161</td>\n",
       "      <td>718</td>\n",
       "      <td>3237</td>\n",
       "      <td>5330</td>\n",
       "    </tr>\n",
       "    <tr>\n",
       "      <th>4</th>\n",
       "      <td>2016-01-05</td>\n",
       "      <td>917</td>\n",
       "      <td>1308</td>\n",
       "      <td>2792</td>\n",
       "      <td>5027</td>\n",
       "    </tr>\n",
       "  </tbody>\n",
       "</table>\n",
       "</div>"
      ],
      "text/plain": [
       "       cohort  ORGANIC_gross  UA_gross  ORGANIC_user_cnt  UA_user_cnt\n",
       "0  2016-01-01           1510       686              3676         6061\n",
       "1  2016-01-02            565      1179              3875         6542\n",
       "2  2016-01-03            425      1186              3699         6260\n",
       "3  2016-01-04           1161       718              3237         5330\n",
       "4  2016-01-05            917      1308              2792         5027"
      ]
     },
     "execution_count": 37,
     "metadata": {},
     "output_type": "execute_result"
    }
   ],
   "source": [
    "new_df.head()"
   ]
  },
  {
   "cell_type": "code",
   "execution_count": 39,
   "id": "6bf3bfd1",
   "metadata": {},
   "outputs": [],
   "source": [
    "# Сортировка таблицы по столбцу 'column_name' по возрастанию\n",
    "sorted_df = new_df.sort_values(by='UA_user_cnt')\n",
    "\n",
    "# Выбор 10 верхних строк\n",
    "top_10 = sorted_df.head(10)\n",
    "\n",
    "# Выбор 10 нижних строк\n",
    "bottom_10 = sorted_df.tail(10)"
   ]
  },
  {
   "cell_type": "code",
   "execution_count": 44,
   "id": "15c1ceb5",
   "metadata": {},
   "outputs": [
    {
     "data": {
      "text/plain": [
       "4555.9"
      ]
     },
     "execution_count": 44,
     "metadata": {},
     "output_type": "execute_result"
    }
   ],
   "source": [
    "top_10.ORGANIC_user_cnt.mean()"
   ]
  },
  {
   "cell_type": "code",
   "execution_count": 42,
   "id": "01f5355e",
   "metadata": {},
   "outputs": [
    {
     "data": {
      "text/html": [
       "<div>\n",
       "<style scoped>\n",
       "    .dataframe tbody tr th:only-of-type {\n",
       "        vertical-align: middle;\n",
       "    }\n",
       "\n",
       "    .dataframe tbody tr th {\n",
       "        vertical-align: top;\n",
       "    }\n",
       "\n",
       "    .dataframe thead th {\n",
       "        text-align: right;\n",
       "    }\n",
       "</style>\n",
       "<table border=\"1\" class=\"dataframe\">\n",
       "  <thead>\n",
       "    <tr style=\"text-align: right;\">\n",
       "      <th></th>\n",
       "      <th>cohort</th>\n",
       "      <th>ORGANIC_gross</th>\n",
       "      <th>UA_gross</th>\n",
       "      <th>ORGANIC_user_cnt</th>\n",
       "      <th>UA_user_cnt</th>\n",
       "    </tr>\n",
       "  </thead>\n",
       "  <tbody>\n",
       "    <tr>\n",
       "      <th>715</th>\n",
       "      <td>2017-12-16</td>\n",
       "      <td>85</td>\n",
       "      <td>20</td>\n",
       "      <td>3556</td>\n",
       "      <td>2085</td>\n",
       "    </tr>\n",
       "    <tr>\n",
       "      <th>368</th>\n",
       "      <td>2017-01-03</td>\n",
       "      <td>643</td>\n",
       "      <td>60</td>\n",
       "      <td>4208</td>\n",
       "      <td>2210</td>\n",
       "    </tr>\n",
       "    <tr>\n",
       "      <th>362</th>\n",
       "      <td>2016-12-28</td>\n",
       "      <td>987</td>\n",
       "      <td>40</td>\n",
       "      <td>4564</td>\n",
       "      <td>2233</td>\n",
       "    </tr>\n",
       "    <tr>\n",
       "      <th>369</th>\n",
       "      <td>2017-01-04</td>\n",
       "      <td>343</td>\n",
       "      <td>356</td>\n",
       "      <td>3933</td>\n",
       "      <td>2297</td>\n",
       "    </tr>\n",
       "    <tr>\n",
       "      <th>364</th>\n",
       "      <td>2016-12-30</td>\n",
       "      <td>886</td>\n",
       "      <td>62</td>\n",
       "      <td>6271</td>\n",
       "      <td>2339</td>\n",
       "    </tr>\n",
       "    <tr>\n",
       "      <th>363</th>\n",
       "      <td>2016-12-29</td>\n",
       "      <td>902</td>\n",
       "      <td>57</td>\n",
       "      <td>5545</td>\n",
       "      <td>2386</td>\n",
       "    </tr>\n",
       "    <tr>\n",
       "      <th>361</th>\n",
       "      <td>2016-12-27</td>\n",
       "      <td>1507</td>\n",
       "      <td>208</td>\n",
       "      <td>4991</td>\n",
       "      <td>2413</td>\n",
       "    </tr>\n",
       "    <tr>\n",
       "      <th>716</th>\n",
       "      <td>2017-12-17</td>\n",
       "      <td>13</td>\n",
       "      <td>25</td>\n",
       "      <td>3455</td>\n",
       "      <td>2431</td>\n",
       "    </tr>\n",
       "    <tr>\n",
       "      <th>365</th>\n",
       "      <td>2016-12-31</td>\n",
       "      <td>927</td>\n",
       "      <td>74</td>\n",
       "      <td>5799</td>\n",
       "      <td>2438</td>\n",
       "    </tr>\n",
       "    <tr>\n",
       "      <th>714</th>\n",
       "      <td>2017-12-15</td>\n",
       "      <td>22</td>\n",
       "      <td>25</td>\n",
       "      <td>3237</td>\n",
       "      <td>2488</td>\n",
       "    </tr>\n",
       "  </tbody>\n",
       "</table>\n",
       "</div>"
      ],
      "text/plain": [
       "         cohort  ORGANIC_gross  UA_gross  ORGANIC_user_cnt  UA_user_cnt\n",
       "715  2017-12-16             85        20              3556         2085\n",
       "368  2017-01-03            643        60              4208         2210\n",
       "362  2016-12-28            987        40              4564         2233\n",
       "369  2017-01-04            343       356              3933         2297\n",
       "364  2016-12-30            886        62              6271         2339\n",
       "363  2016-12-29            902        57              5545         2386\n",
       "361  2016-12-27           1507       208              4991         2413\n",
       "716  2017-12-17             13        25              3455         2431\n",
       "365  2016-12-31            927        74              5799         2438\n",
       "714  2017-12-15             22        25              3237         2488"
      ]
     },
     "execution_count": 42,
     "metadata": {},
     "output_type": "execute_result"
    }
   ],
   "source": [
    "top_10"
   ]
  },
  {
   "cell_type": "code",
   "execution_count": 45,
   "id": "ce1ee740",
   "metadata": {},
   "outputs": [
    {
     "data": {
      "text/plain": [
       "14319.1"
      ]
     },
     "execution_count": 45,
     "metadata": {},
     "output_type": "execute_result"
    }
   ],
   "source": [
    "bottom_10.ORGANIC_user_cnt.mean()"
   ]
  },
  {
   "cell_type": "code",
   "execution_count": 46,
   "id": "af4b317c",
   "metadata": {},
   "outputs": [
    {
     "data": {
      "text/html": [
       "<div>\n",
       "<style scoped>\n",
       "    .dataframe tbody tr th:only-of-type {\n",
       "        vertical-align: middle;\n",
       "    }\n",
       "\n",
       "    .dataframe tbody tr th {\n",
       "        vertical-align: top;\n",
       "    }\n",
       "\n",
       "    .dataframe thead th {\n",
       "        text-align: right;\n",
       "    }\n",
       "</style>\n",
       "<table border=\"1\" class=\"dataframe\">\n",
       "  <thead>\n",
       "    <tr style=\"text-align: right;\">\n",
       "      <th></th>\n",
       "      <th>cohort</th>\n",
       "      <th>ORGANIC_gross</th>\n",
       "      <th>UA_gross</th>\n",
       "      <th>ORGANIC_user_cnt</th>\n",
       "      <th>UA_user_cnt</th>\n",
       "    </tr>\n",
       "  </thead>\n",
       "  <tbody>\n",
       "    <tr>\n",
       "      <th>231</th>\n",
       "      <td>2016-08-19</td>\n",
       "      <td>858</td>\n",
       "      <td>500</td>\n",
       "      <td>8789</td>\n",
       "      <td>25624</td>\n",
       "    </tr>\n",
       "    <tr>\n",
       "      <th>230</th>\n",
       "      <td>2016-08-18</td>\n",
       "      <td>369</td>\n",
       "      <td>349</td>\n",
       "      <td>12869</td>\n",
       "      <td>26198</td>\n",
       "    </tr>\n",
       "    <tr>\n",
       "      <th>232</th>\n",
       "      <td>2016-08-20</td>\n",
       "      <td>733</td>\n",
       "      <td>656</td>\n",
       "      <td>8600</td>\n",
       "      <td>26364</td>\n",
       "    </tr>\n",
       "    <tr>\n",
       "      <th>233</th>\n",
       "      <td>2016-08-21</td>\n",
       "      <td>679</td>\n",
       "      <td>480</td>\n",
       "      <td>9055</td>\n",
       "      <td>28012</td>\n",
       "    </tr>\n",
       "    <tr>\n",
       "      <th>228</th>\n",
       "      <td>2016-08-16</td>\n",
       "      <td>695</td>\n",
       "      <td>990</td>\n",
       "      <td>15959</td>\n",
       "      <td>28646</td>\n",
       "    </tr>\n",
       "    <tr>\n",
       "      <th>223</th>\n",
       "      <td>2016-08-11</td>\n",
       "      <td>516</td>\n",
       "      <td>1175</td>\n",
       "      <td>10872</td>\n",
       "      <td>31311</td>\n",
       "    </tr>\n",
       "    <tr>\n",
       "      <th>227</th>\n",
       "      <td>2016-08-15</td>\n",
       "      <td>903</td>\n",
       "      <td>1081</td>\n",
       "      <td>17973</td>\n",
       "      <td>31931</td>\n",
       "    </tr>\n",
       "    <tr>\n",
       "      <th>226</th>\n",
       "      <td>2016-08-14</td>\n",
       "      <td>1104</td>\n",
       "      <td>1633</td>\n",
       "      <td>22057</td>\n",
       "      <td>39919</td>\n",
       "    </tr>\n",
       "    <tr>\n",
       "      <th>224</th>\n",
       "      <td>2016-08-12</td>\n",
       "      <td>576</td>\n",
       "      <td>1041</td>\n",
       "      <td>16829</td>\n",
       "      <td>40581</td>\n",
       "    </tr>\n",
       "    <tr>\n",
       "      <th>225</th>\n",
       "      <td>2016-08-13</td>\n",
       "      <td>1483</td>\n",
       "      <td>1233</td>\n",
       "      <td>20188</td>\n",
       "      <td>41110</td>\n",
       "    </tr>\n",
       "  </tbody>\n",
       "</table>\n",
       "</div>"
      ],
      "text/plain": [
       "         cohort  ORGANIC_gross  UA_gross  ORGANIC_user_cnt  UA_user_cnt\n",
       "231  2016-08-19            858       500              8789        25624\n",
       "230  2016-08-18            369       349             12869        26198\n",
       "232  2016-08-20            733       656              8600        26364\n",
       "233  2016-08-21            679       480              9055        28012\n",
       "228  2016-08-16            695       990             15959        28646\n",
       "223  2016-08-11            516      1175             10872        31311\n",
       "227  2016-08-15            903      1081             17973        31931\n",
       "226  2016-08-14           1104      1633             22057        39919\n",
       "224  2016-08-12            576      1041             16829        40581\n",
       "225  2016-08-13           1483      1233             20188        41110"
      ]
     },
     "execution_count": 46,
     "metadata": {},
     "output_type": "execute_result"
    }
   ],
   "source": [
    "bottom_10"
   ]
  },
  {
   "cell_type": "markdown",
   "id": "4cca7393",
   "metadata": {},
   "source": [
    "#### Вывод:\n",
    "Среднее значение органического трафика в периоды интенсивной рекламы существенно больше, чем в периоды низкой рекламы, что косвенно указывает на влияние трафика на привлечение органики.\n",
    "\n",
    "Таким образом, рост трафовых пользователей сопровождается ростом количества органических пользователей, это может говорить о том, что трафик оказывает влияние на привлечение органики.\n",
    "\n",
    "Следовательно: подозрение, что часть органики приходит от купленного трафа верна!"
   ]
  },
  {
   "cell_type": "markdown",
   "id": "2e4fb0b7",
   "metadata": {},
   "source": [
    "#### Резюмируя:\n",
    "Используя два подхода для оценки влияния \"k-фактора\" мы убедились, что \"k-фактор\" отличен от 0, найдем приблизительное значение \"k-фактора\""
   ]
  },
  {
   "cell_type": "code",
   "execution_count": null,
   "id": "e1af8113",
   "metadata": {},
   "outputs": [],
   "source": []
  },
  {
   "cell_type": "code",
   "execution_count": null,
   "id": "2c68eb6f",
   "metadata": {},
   "outputs": [],
   "source": []
  },
  {
   "cell_type": "code",
   "execution_count": null,
   "id": "ca340395",
   "metadata": {},
   "outputs": [],
   "source": []
  },
  {
   "cell_type": "code",
   "execution_count": null,
   "id": "443dbb9b",
   "metadata": {},
   "outputs": [],
   "source": []
  },
  {
   "cell_type": "code",
   "execution_count": null,
   "id": "2adc1791",
   "metadata": {},
   "outputs": [],
   "source": []
  },
  {
   "cell_type": "code",
   "execution_count": null,
   "id": "edefb926",
   "metadata": {},
   "outputs": [],
   "source": []
  },
  {
   "cell_type": "code",
   "execution_count": null,
   "id": "ab07305a",
   "metadata": {},
   "outputs": [],
   "source": []
  },
  {
   "cell_type": "code",
   "execution_count": null,
   "id": "c0d45bca",
   "metadata": {},
   "outputs": [],
   "source": []
  },
  {
   "cell_type": "code",
   "execution_count": null,
   "id": "c1b3e91d",
   "metadata": {},
   "outputs": [],
   "source": []
  },
  {
   "cell_type": "code",
   "execution_count": null,
   "id": "2cb0bbdd",
   "metadata": {},
   "outputs": [],
   "source": []
  },
  {
   "cell_type": "code",
   "execution_count": null,
   "id": "c0a590d5",
   "metadata": {},
   "outputs": [],
   "source": []
  },
  {
   "cell_type": "code",
   "execution_count": null,
   "id": "693db1c8",
   "metadata": {},
   "outputs": [],
   "source": []
  },
  {
   "cell_type": "code",
   "execution_count": null,
   "id": "b504f01d",
   "metadata": {},
   "outputs": [],
   "source": []
  },
  {
   "cell_type": "code",
   "execution_count": null,
   "id": "b057894e",
   "metadata": {},
   "outputs": [],
   "source": []
  },
  {
   "cell_type": "code",
   "execution_count": null,
   "id": "ed388875",
   "metadata": {},
   "outputs": [],
   "source": []
  }
 ],
 "metadata": {
  "kernelspec": {
   "display_name": "Python 3 (ipykernel)",
   "language": "python",
   "name": "python3"
  },
  "language_info": {
   "codemirror_mode": {
    "name": "ipython",
    "version": 3
   },
   "file_extension": ".py",
   "mimetype": "text/x-python",
   "name": "python",
   "nbconvert_exporter": "python",
   "pygments_lexer": "ipython3",
   "version": "3.10.7"
  }
 },
 "nbformat": 4,
 "nbformat_minor": 5
}
