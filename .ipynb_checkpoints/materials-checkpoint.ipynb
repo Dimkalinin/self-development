{
 "cells": [
  {
   "cell_type": "markdown",
   "id": "a77393b0",
   "metadata": {},
   "source": [
    "### Мода"
   ]
  },
  {
   "cell_type": "code",
   "execution_count": null,
   "id": "3e9e2f96",
   "metadata": {},
   "outputs": [],
   "source": [
    "import pandas as pd\n",
    "df.column_1.mode()  # pandas way\n",
    "\n",
    "from scipy import stats\n",
    "stats.mode(df.column_1)  # scipy way"
   ]
  },
  {
   "cell_type": "markdown",
   "id": "97c001f6",
   "metadata": {},
   "source": [
    "### Медиана"
   ]
  },
  {
   "cell_type": "code",
   "execution_count": null,
   "id": "42246786",
   "metadata": {},
   "outputs": [],
   "source": [
    "import pandas as pd\n",
    "df.column_1.median()  # pandas way\n",
    "\n",
    "import numpy as np\n",
    "np.median(df.column_1)  # numpy way"
   ]
  },
  {
   "cell_type": "markdown",
   "id": "261596b9",
   "metadata": {},
   "source": [
    "### Среднее"
   ]
  },
  {
   "cell_type": "code",
   "execution_count": null,
   "id": "6bcf2e50",
   "metadata": {},
   "outputs": [],
   "source": [
    "import pandas as pd\n",
    "df.column_1.mean()  # pandas way\n",
    "\n",
    "import numpy as np\n",
    "np.mean(df.column_1)  # numpy way"
   ]
  },
  {
   "cell_type": "markdown",
   "id": "f9e7521b",
   "metadata": {},
   "source": [
    "### Дисперсия"
   ]
  },
  {
   "cell_type": "code",
   "execution_count": null,
   "id": "0e56ca33",
   "metadata": {},
   "outputs": [],
   "source": [
    "import pandas as pd\n",
    "df.A.var()  # pandas way\n",
    "\n",
    "import numpy as np\n",
    "np.var(df.A)  # numpy way"
   ]
  },
  {
   "cell_type": "markdown",
   "id": "f41354a5",
   "metadata": {},
   "source": [
    "### Стандартное отклонение"
   ]
  },
  {
   "cell_type": "code",
   "execution_count": null,
   "id": "7ebbd224",
   "metadata": {},
   "outputs": [],
   "source": [
    "import pandas as pd\n",
    "df.A.std()  # pandas way\n",
    "\n",
    "import numpy as np\n",
    "np.std(df.A)  # numpy way"
   ]
  },
  {
   "cell_type": "markdown",
   "id": "9426c81f",
   "metadata": {},
   "source": [
    "### Боксплот (график)\n",
    "Межквантильный размах\n"
   ]
  },
  {
   "cell_type": "code",
   "execution_count": null,
   "id": "dab5111d",
   "metadata": {},
   "outputs": [],
   "source": [
    "import seaborn as sns\n",
    "sns.boxplot(df.A)"
   ]
  },
  {
   "cell_type": "markdown",
   "id": "9897bb16",
   "metadata": {},
   "source": [
    "Однако боксплот может редуцировать информацию из-за того, что распределение может быть бимодальным или полимодальным. Поэтому лучше на боксплоте отражать ещё и наблюдения из выборки в виде точек."
   ]
  },
  {
   "cell_type": "code",
   "execution_count": null,
   "id": "9472b0c9",
   "metadata": {},
   "outputs": [],
   "source": [
    "import seaborn as sns\n",
    "\n",
    "ax = sns.boxplot(df.A)\n",
    "ax = sns.swarmplot(df.A)"
   ]
  },
  {
   "cell_type": "markdown",
   "id": "adf784be",
   "metadata": {},
   "source": [
    "### Стандартизация (Z-преобразование)"
   ]
  },
  {
   "cell_type": "code",
   "execution_count": null,
   "id": "84e6ec18",
   "metadata": {},
   "outputs": [],
   "source": [
    "from scipy.stats import zscore\n",
    "zscore(df.A)"
   ]
  },
  {
   "cell_type": "markdown",
   "id": "029a0062",
   "metadata": {},
   "source": [
    "### Стандартная ошибка среднего"
   ]
  },
  {
   "cell_type": "code",
   "execution_count": null,
   "id": "10402a0a",
   "metadata": {},
   "outputs": [],
   "source": [
    "import pandas as pd\n",
    "df.A.sem()\n",
    "\n",
    "from scipy import stats\n",
    "stats.sem(df.A)"
   ]
  },
  {
   "cell_type": "code",
   "execution_count": null,
   "id": "be73c4cb",
   "metadata": {},
   "outputs": [],
   "source": []
  },
  {
   "cell_type": "code",
   "execution_count": null,
   "id": "3e0c6d2e",
   "metadata": {},
   "outputs": [],
   "source": []
  }
 ],
 "metadata": {
  "kernelspec": {
   "display_name": "Python 3 (ipykernel)",
   "language": "python",
   "name": "python3"
  },
  "language_info": {
   "codemirror_mode": {
    "name": "ipython",
    "version": 3
   },
   "file_extension": ".py",
   "mimetype": "text/x-python",
   "name": "python",
   "nbconvert_exporter": "python",
   "pygments_lexer": "ipython3",
   "version": "3.10.7"
  }
 },
 "nbformat": 4,
 "nbformat_minor": 5
}
